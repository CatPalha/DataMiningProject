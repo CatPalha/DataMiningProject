{
 "cells": [
  {
   "cell_type": "code",
   "execution_count": 1,
   "metadata": {},
   "outputs": [],
   "source": [
    "import pandas as pd"
   ]
  },
  {
   "cell_type": "markdown",
   "metadata": {},
   "source": [
    "**FIRST VIEW ON DATA**"
   ]
  },
  {
   "cell_type": "code",
   "execution_count": 2,
   "metadata": {},
   "outputs": [
    {
     "name": "stdout",
     "output_type": "stream",
     "text": [
      "   Customer Identity  First Policy´s Year  Brithday Year Educational Degree  \\\n",
      "0                  1               1985.0         1982.0    2 - High School   \n",
      "1                  2               1981.0         1995.0    2 - High School   \n",
      "2                  3               1991.0         1970.0          1 - Basic   \n",
      "\n",
      "   Gross Monthly Salary  Geographic Living Area  Has Children (Y=1)  \\\n",
      "0                2177.0                     1.0                 1.0   \n",
      "1                 677.0                     4.0                 1.0   \n",
      "2                2277.0                     3.0                 0.0   \n",
      "\n",
      "   Customer Monetary Value  Claims Rate  Premiums in LOB: Motor  \\\n",
      "0                   380.97         0.39                  375.85   \n",
      "1                  -131.13         1.12                   77.46   \n",
      "2                   504.67         0.28                  206.15   \n",
      "\n",
      "   Premiums in LOB: Household  Premiums in LOB: Health  \\\n",
      "0                       79.45                   146.36   \n",
      "1                      416.20                   116.69   \n",
      "2                      224.50                   124.58   \n",
      "\n",
      "   Premiums in LOB:  Life  Premiums in LOB: Work Compensations  \n",
      "0                   47.01                                16.89  \n",
      "1                  194.48                               106.13  \n",
      "2                   86.35                                99.02  \n",
      "(10296, 14)\n"
     ]
    }
   ],
   "source": [
    "#Read the csv file into a data frame\n",
    "df = pd.read_csv('A2Z_insurance.csv')\n",
    "#print the first 5 rows of the data frame\n",
    "print(df.head(3))\n",
    "print(df.shape)"
   ]
  },
  {
   "cell_type": "code",
   "execution_count": 3,
   "metadata": {},
   "outputs": [
    {
     "data": {
      "text/plain": [
       "0"
      ]
     },
     "execution_count": 3,
     "metadata": {},
     "output_type": "execute_result"
    }
   ],
   "source": [
    "#We don't have duplicated data \n",
    "df.duplicated().sum()"
   ]
  },
  {
   "cell_type": "markdown",
   "metadata": {},
   "source": [
    "## PROBLEM ##"
   ]
  },
  {
   "cell_type": "code",
   "execution_count": 4,
   "metadata": {},
   "outputs": [
    {
     "data": {
      "text/plain": [
       "Customer Identity                      1997\n",
       "First Policy´s Year                    1997\n",
       "Brithday Year                          1997\n",
       "Educational Degree                     1996\n",
       "Gross Monthly Salary                   1985\n",
       "Geographic Living Area                 1997\n",
       "Has Children (Y=1)                     1994\n",
       "Customer Monetary Value                1997\n",
       "Claims Rate                            1997\n",
       "Premiums in LOB: Motor                 1989\n",
       "Premiums in LOB: Household             1997\n",
       "Premiums in LOB: Health                1985\n",
       "Premiums in LOB:  Life                 1985\n",
       "Premiums in LOB: Work Compensations    1981\n",
       "dtype: int64"
      ]
     },
     "execution_count": 4,
     "metadata": {},
     "output_type": "execute_result"
    }
   ],
   "source": [
    "df[df['First Policy´s Year'] < df['Brithday Year']].count()"
   ]
  },
  {
   "cell_type": "code",
   "execution_count": 5,
   "metadata": {},
   "outputs": [
    {
     "data": {
      "text/plain": [
       "Customer Identity                        0\n",
       "First Policy´s Year                     30\n",
       "Brithday Year                           17\n",
       "Educational Degree                      17\n",
       "Gross Monthly Salary                    36\n",
       "Geographic Living Area                   1\n",
       "Has Children (Y=1)                      21\n",
       "Customer Monetary Value                  0\n",
       "Claims Rate                              0\n",
       "Premiums in LOB: Motor                  34\n",
       "Premiums in LOB: Household               0\n",
       "Premiums in LOB: Health                 43\n",
       "Premiums in LOB:  Life                 104\n",
       "Premiums in LOB: Work Compensations     86\n",
       "dtype: int64"
      ]
     },
     "execution_count": 5,
     "metadata": {},
     "output_type": "execute_result"
    }
   ],
   "source": [
    "#NULLS\n",
    "df.isnull().sum()"
   ]
  },
  {
   "cell_type": "code",
   "execution_count": 6,
   "metadata": {},
   "outputs": [
    {
     "name": "stdout",
     "output_type": "stream",
     "text": [
      "<class 'pandas.core.frame.DataFrame'>\n",
      "RangeIndex: 10296 entries, 0 to 10295\n",
      "Data columns (total 14 columns):\n",
      "Customer Identity                      10296 non-null int64\n",
      "First Policy´s Year                    10266 non-null float64\n",
      "Brithday Year                          10279 non-null float64\n",
      "Educational Degree                     10279 non-null object\n",
      "Gross Monthly Salary                   10260 non-null float64\n",
      "Geographic Living Area                 10295 non-null float64\n",
      "Has Children (Y=1)                     10275 non-null float64\n",
      "Customer Monetary Value                10296 non-null float64\n",
      "Claims Rate                            10296 non-null float64\n",
      "Premiums in LOB: Motor                 10262 non-null float64\n",
      "Premiums in LOB: Household             10296 non-null float64\n",
      "Premiums in LOB: Health                10253 non-null float64\n",
      "Premiums in LOB:  Life                 10192 non-null float64\n",
      "Premiums in LOB: Work Compensations    10210 non-null float64\n",
      "dtypes: float64(12), int64(1), object(1)\n",
      "memory usage: 1.1+ MB\n"
     ]
    }
   ],
   "source": [
    "df.info()\n",
    "#It means we have null values, we have to replace them, otherwise the cluster won't work.\n",
    "#The object type means string on this case, in this case it's the colunm Educational Degree"
   ]
  },
  {
   "cell_type": "code",
   "execution_count": 7,
   "metadata": {},
   "outputs": [
    {
     "data": {
      "text/html": [
       "<div>\n",
       "<style scoped>\n",
       "    .dataframe tbody tr th:only-of-type {\n",
       "        vertical-align: middle;\n",
       "    }\n",
       "\n",
       "    .dataframe tbody tr th {\n",
       "        vertical-align: top;\n",
       "    }\n",
       "\n",
       "    .dataframe thead th {\n",
       "        text-align: right;\n",
       "    }\n",
       "</style>\n",
       "<table border=\"1\" class=\"dataframe\">\n",
       "  <thead>\n",
       "    <tr style=\"text-align: right;\">\n",
       "      <th></th>\n",
       "      <th>Customer Identity</th>\n",
       "      <th>First Policy´s Year</th>\n",
       "      <th>Brithday Year</th>\n",
       "      <th>Gross Monthly Salary</th>\n",
       "      <th>Geographic Living Area</th>\n",
       "      <th>Has Children (Y=1)</th>\n",
       "      <th>Customer Monetary Value</th>\n",
       "      <th>Claims Rate</th>\n",
       "      <th>Premiums in LOB: Motor</th>\n",
       "      <th>Premiums in LOB: Household</th>\n",
       "      <th>Premiums in LOB: Health</th>\n",
       "      <th>Premiums in LOB:  Life</th>\n",
       "      <th>Premiums in LOB: Work Compensations</th>\n",
       "    </tr>\n",
       "  </thead>\n",
       "  <tbody>\n",
       "    <tr>\n",
       "      <th>count</th>\n",
       "      <td>10296.00000</td>\n",
       "      <td>10266.000000</td>\n",
       "      <td>10279.000000</td>\n",
       "      <td>10260.000000</td>\n",
       "      <td>10295.000000</td>\n",
       "      <td>10275.000000</td>\n",
       "      <td>10296.000000</td>\n",
       "      <td>10296.000000</td>\n",
       "      <td>10262.000000</td>\n",
       "      <td>10296.000000</td>\n",
       "      <td>10253.000000</td>\n",
       "      <td>10192.000000</td>\n",
       "      <td>10210.000000</td>\n",
       "    </tr>\n",
       "    <tr>\n",
       "      <th>mean</th>\n",
       "      <td>5148.50000</td>\n",
       "      <td>1991.062634</td>\n",
       "      <td>1968.007783</td>\n",
       "      <td>2506.667057</td>\n",
       "      <td>2.709859</td>\n",
       "      <td>0.706764</td>\n",
       "      <td>177.892605</td>\n",
       "      <td>0.742772</td>\n",
       "      <td>300.470252</td>\n",
       "      <td>210.431192</td>\n",
       "      <td>171.580833</td>\n",
       "      <td>41.855782</td>\n",
       "      <td>41.277514</td>\n",
       "    </tr>\n",
       "    <tr>\n",
       "      <th>std</th>\n",
       "      <td>2972.34352</td>\n",
       "      <td>511.267913</td>\n",
       "      <td>19.709476</td>\n",
       "      <td>1157.449634</td>\n",
       "      <td>1.266291</td>\n",
       "      <td>0.455268</td>\n",
       "      <td>1945.811505</td>\n",
       "      <td>2.916964</td>\n",
       "      <td>211.914997</td>\n",
       "      <td>352.595984</td>\n",
       "      <td>296.405976</td>\n",
       "      <td>47.480632</td>\n",
       "      <td>51.513572</td>\n",
       "    </tr>\n",
       "    <tr>\n",
       "      <th>min</th>\n",
       "      <td>1.00000</td>\n",
       "      <td>1974.000000</td>\n",
       "      <td>1028.000000</td>\n",
       "      <td>333.000000</td>\n",
       "      <td>1.000000</td>\n",
       "      <td>0.000000</td>\n",
       "      <td>-165680.420000</td>\n",
       "      <td>0.000000</td>\n",
       "      <td>-4.110000</td>\n",
       "      <td>-75.000000</td>\n",
       "      <td>-2.110000</td>\n",
       "      <td>-7.000000</td>\n",
       "      <td>-12.000000</td>\n",
       "    </tr>\n",
       "    <tr>\n",
       "      <th>25%</th>\n",
       "      <td>2574.75000</td>\n",
       "      <td>1980.000000</td>\n",
       "      <td>1953.000000</td>\n",
       "      <td>1706.000000</td>\n",
       "      <td>1.000000</td>\n",
       "      <td>0.000000</td>\n",
       "      <td>-9.440000</td>\n",
       "      <td>0.390000</td>\n",
       "      <td>190.590000</td>\n",
       "      <td>49.450000</td>\n",
       "      <td>111.800000</td>\n",
       "      <td>9.890000</td>\n",
       "      <td>10.670000</td>\n",
       "    </tr>\n",
       "    <tr>\n",
       "      <th>50%</th>\n",
       "      <td>5148.50000</td>\n",
       "      <td>1986.000000</td>\n",
       "      <td>1968.000000</td>\n",
       "      <td>2501.500000</td>\n",
       "      <td>3.000000</td>\n",
       "      <td>1.000000</td>\n",
       "      <td>186.870000</td>\n",
       "      <td>0.720000</td>\n",
       "      <td>298.610000</td>\n",
       "      <td>132.800000</td>\n",
       "      <td>162.810000</td>\n",
       "      <td>25.560000</td>\n",
       "      <td>25.670000</td>\n",
       "    </tr>\n",
       "    <tr>\n",
       "      <th>75%</th>\n",
       "      <td>7722.25000</td>\n",
       "      <td>1992.000000</td>\n",
       "      <td>1983.000000</td>\n",
       "      <td>3290.250000</td>\n",
       "      <td>4.000000</td>\n",
       "      <td>1.000000</td>\n",
       "      <td>399.777500</td>\n",
       "      <td>0.980000</td>\n",
       "      <td>408.300000</td>\n",
       "      <td>290.050000</td>\n",
       "      <td>219.820000</td>\n",
       "      <td>57.790000</td>\n",
       "      <td>56.790000</td>\n",
       "    </tr>\n",
       "    <tr>\n",
       "      <th>max</th>\n",
       "      <td>10296.00000</td>\n",
       "      <td>53784.000000</td>\n",
       "      <td>2001.000000</td>\n",
       "      <td>55215.000000</td>\n",
       "      <td>4.000000</td>\n",
       "      <td>1.000000</td>\n",
       "      <td>11875.890000</td>\n",
       "      <td>256.200000</td>\n",
       "      <td>11604.420000</td>\n",
       "      <td>25048.800000</td>\n",
       "      <td>28272.000000</td>\n",
       "      <td>398.300000</td>\n",
       "      <td>1988.700000</td>\n",
       "    </tr>\n",
       "  </tbody>\n",
       "</table>\n",
       "</div>"
      ],
      "text/plain": [
       "       Customer Identity  First Policy´s Year  Brithday Year  \\\n",
       "count        10296.00000         10266.000000   10279.000000   \n",
       "mean          5148.50000          1991.062634    1968.007783   \n",
       "std           2972.34352           511.267913      19.709476   \n",
       "min              1.00000          1974.000000    1028.000000   \n",
       "25%           2574.75000          1980.000000    1953.000000   \n",
       "50%           5148.50000          1986.000000    1968.000000   \n",
       "75%           7722.25000          1992.000000    1983.000000   \n",
       "max          10296.00000         53784.000000    2001.000000   \n",
       "\n",
       "       Gross Monthly Salary  Geographic Living Area  Has Children (Y=1)  \\\n",
       "count          10260.000000            10295.000000        10275.000000   \n",
       "mean            2506.667057                2.709859            0.706764   \n",
       "std             1157.449634                1.266291            0.455268   \n",
       "min              333.000000                1.000000            0.000000   \n",
       "25%             1706.000000                1.000000            0.000000   \n",
       "50%             2501.500000                3.000000            1.000000   \n",
       "75%             3290.250000                4.000000            1.000000   \n",
       "max            55215.000000                4.000000            1.000000   \n",
       "\n",
       "       Customer Monetary Value   Claims Rate  Premiums in LOB: Motor  \\\n",
       "count             10296.000000  10296.000000            10262.000000   \n",
       "mean                177.892605      0.742772              300.470252   \n",
       "std                1945.811505      2.916964              211.914997   \n",
       "min             -165680.420000      0.000000               -4.110000   \n",
       "25%                  -9.440000      0.390000              190.590000   \n",
       "50%                 186.870000      0.720000              298.610000   \n",
       "75%                 399.777500      0.980000              408.300000   \n",
       "max               11875.890000    256.200000            11604.420000   \n",
       "\n",
       "       Premiums in LOB: Household  Premiums in LOB: Health  \\\n",
       "count                10296.000000             10253.000000   \n",
       "mean                   210.431192               171.580833   \n",
       "std                    352.595984               296.405976   \n",
       "min                    -75.000000                -2.110000   \n",
       "25%                     49.450000               111.800000   \n",
       "50%                    132.800000               162.810000   \n",
       "75%                    290.050000               219.820000   \n",
       "max                  25048.800000             28272.000000   \n",
       "\n",
       "       Premiums in LOB:  Life  Premiums in LOB: Work Compensations  \n",
       "count            10192.000000                         10210.000000  \n",
       "mean                41.855782                            41.277514  \n",
       "std                 47.480632                            51.513572  \n",
       "min                 -7.000000                           -12.000000  \n",
       "25%                  9.890000                            10.670000  \n",
       "50%                 25.560000                            25.670000  \n",
       "75%                 57.790000                            56.790000  \n",
       "max                398.300000                          1988.700000  "
      ]
     },
     "execution_count": 7,
     "metadata": {},
     "output_type": "execute_result"
    }
   ],
   "source": [
    "df.describe()\n",
    "\n",
    "#Give us some statistics about the data\n",
    "#Ex: we have 10296 rows, if the max on customer identity was bigger than this it will be something very wrong."
   ]
  },
  {
   "cell_type": "code",
   "execution_count": 8,
   "metadata": {},
   "outputs": [
    {
     "name": "stdout",
     "output_type": "stream",
     "text": [
      "Int64Index([7195], dtype='int64')\n",
      "Int64Index([9294], dtype='int64')\n"
     ]
    }
   ],
   "source": [
    "#The have a guy from the future and one guy with 965y\n",
    "#We'll delete these rows by index.\n",
    "print(df[df['Brithday Year'] == 1028.0].index) #Index 7197\n",
    "print(df[df['First Policy´s Year'] == 53784].index) #Index 9294"
   ]
  },
  {
   "cell_type": "code",
   "execution_count": 9,
   "metadata": {},
   "outputs": [
    {
     "data": {
      "text/plain": [
       "(10294, 14)"
      ]
     },
     "execution_count": 9,
     "metadata": {},
     "output_type": "execute_result"
    }
   ],
   "source": [
    "df = df.drop([df.index[7195], df.index[9294]])\n",
    "\n",
    "df.shape\n",
    "#print(df[df['First Policy´s Year'] == 53784])\n",
    "#print(df[df['Brithday Year'] == 1028.0])"
   ]
  },
  {
   "cell_type": "code",
   "execution_count": 10,
   "metadata": {},
   "outputs": [
    {
     "name": "stdout",
     "output_type": "stream",
     "text": [
      "0    4.0\n",
      "dtype: float64\n"
     ]
    }
   ],
   "source": [
    "mode_geo = df['Geographic Living Area'].mode()\n",
    "print(mode_geo)"
   ]
  },
  {
   "cell_type": "code",
   "execution_count": 32,
   "metadata": {},
   "outputs": [
    {
     "data": {
      "text/plain": [
       "0"
      ]
     },
     "execution_count": 32,
     "metadata": {},
     "output_type": "execute_result"
    }
   ],
   "source": [
    "df['Geographic Living Area'] = df['Geographic Living Area'].fillna(4.0) #Porque é que não funciona com o mode_geo ???\n",
    "\n",
    "df['Geographic Living Area'].isnull().sum()"
   ]
  },
  {
   "cell_type": "code",
   "execution_count": 33,
   "metadata": {},
   "outputs": [],
   "source": [
    "df_edu = df[['Educational Degree', 'Gross Monthly Salary']]\n",
    "#df_edu"
   ]
  },
  {
   "cell_type": "code",
   "execution_count": 34,
   "metadata": {},
   "outputs": [],
   "source": [
    "df_not_nan = df_edu[df_edu.notna().any(axis = 1)]\n",
    "#df_not_nan"
   ]
  },
  {
   "cell_type": "code",
   "execution_count": 35,
   "metadata": {},
   "outputs": [
    {
     "data": {
      "text/plain": [
       "Educational Degree\n",
       "1 - Basic          1981.905213\n",
       "2 - High School    2512.059395\n",
       "3 - BSc/MSc        2616.703370\n",
       "4 - PhD            2664.512195\n",
       "Name: Gross Monthly Salary, dtype: float64"
      ]
     },
     "execution_count": 35,
     "metadata": {},
     "output_type": "execute_result"
    }
   ],
   "source": [
    "df_notNA_grouped = df_not_nan.groupby(['Educational Degree'])['Gross Monthly Salary'].mean()\n",
    "df_notNA_grouped\n",
    "#This is for Maren to use and myself"
   ]
  },
  {
   "cell_type": "code",
   "execution_count": 132,
   "metadata": {},
   "outputs": [
    {
     "data": {
      "text/html": [
       "<div>\n",
       "<style scoped>\n",
       "    .dataframe tbody tr th:only-of-type {\n",
       "        vertical-align: middle;\n",
       "    }\n",
       "\n",
       "    .dataframe tbody tr th {\n",
       "        vertical-align: top;\n",
       "    }\n",
       "\n",
       "    .dataframe thead th {\n",
       "        text-align: right;\n",
       "    }\n",
       "</style>\n",
       "<table border=\"1\" class=\"dataframe\">\n",
       "  <thead>\n",
       "    <tr style=\"text-align: right;\">\n",
       "      <th></th>\n",
       "      <th>Educational Degree</th>\n",
       "      <th>Gross Monthly Salary</th>\n",
       "    </tr>\n",
       "  </thead>\n",
       "  <tbody>\n",
       "    <tr>\n",
       "      <th>21</th>\n",
       "      <td>2 - High School</td>\n",
       "      <td>NaN</td>\n",
       "    </tr>\n",
       "    <tr>\n",
       "      <th>143</th>\n",
       "      <td>3 - BSc/MSc</td>\n",
       "      <td>NaN</td>\n",
       "    </tr>\n",
       "    <tr>\n",
       "      <th>488</th>\n",
       "      <td>3 - BSc/MSc</td>\n",
       "      <td>NaN</td>\n",
       "    </tr>\n",
       "    <tr>\n",
       "      <th>539</th>\n",
       "      <td>2 - High School</td>\n",
       "      <td>NaN</td>\n",
       "    </tr>\n",
       "    <tr>\n",
       "      <th>830</th>\n",
       "      <td>2 - High School</td>\n",
       "      <td>NaN</td>\n",
       "    </tr>\n",
       "    <tr>\n",
       "      <th>896</th>\n",
       "      <td>NaN</td>\n",
       "      <td>2643.0</td>\n",
       "    </tr>\n",
       "    <tr>\n",
       "      <th>1160</th>\n",
       "      <td>3 - BSc/MSc</td>\n",
       "      <td>NaN</td>\n",
       "    </tr>\n",
       "    <tr>\n",
       "      <th>1707</th>\n",
       "      <td>NaN</td>\n",
       "      <td>3827.0</td>\n",
       "    </tr>\n",
       "    <tr>\n",
       "      <th>1780</th>\n",
       "      <td>3 - BSc/MSc</td>\n",
       "      <td>NaN</td>\n",
       "    </tr>\n",
       "    <tr>\n",
       "      <th>1816</th>\n",
       "      <td>3 - BSc/MSc</td>\n",
       "      <td>NaN</td>\n",
       "    </tr>\n",
       "    <tr>\n",
       "      <th>1851</th>\n",
       "      <td>3 - BSc/MSc</td>\n",
       "      <td>NaN</td>\n",
       "    </tr>\n",
       "    <tr>\n",
       "      <th>1872</th>\n",
       "      <td>2 - High School</td>\n",
       "      <td>NaN</td>\n",
       "    </tr>\n",
       "    <tr>\n",
       "      <th>2241</th>\n",
       "      <td>3 - BSc/MSc</td>\n",
       "      <td>NaN</td>\n",
       "    </tr>\n",
       "    <tr>\n",
       "      <th>2449</th>\n",
       "      <td>NaN</td>\n",
       "      <td>4465.0</td>\n",
       "    </tr>\n",
       "    <tr>\n",
       "      <th>2728</th>\n",
       "      <td>NaN</td>\n",
       "      <td>3200.0</td>\n",
       "    </tr>\n",
       "    <tr>\n",
       "      <th>2770</th>\n",
       "      <td>NaN</td>\n",
       "      <td>1473.0</td>\n",
       "    </tr>\n",
       "    <tr>\n",
       "      <th>3056</th>\n",
       "      <td>NaN</td>\n",
       "      <td>2221.0</td>\n",
       "    </tr>\n",
       "    <tr>\n",
       "      <th>3227</th>\n",
       "      <td>4 - PhD</td>\n",
       "      <td>NaN</td>\n",
       "    </tr>\n",
       "    <tr>\n",
       "      <th>3317</th>\n",
       "      <td>2 - High School</td>\n",
       "      <td>NaN</td>\n",
       "    </tr>\n",
       "    <tr>\n",
       "      <th>3477</th>\n",
       "      <td>1 - Basic</td>\n",
       "      <td>NaN</td>\n",
       "    </tr>\n",
       "    <tr>\n",
       "      <th>3720</th>\n",
       "      <td>3 - BSc/MSc</td>\n",
       "      <td>NaN</td>\n",
       "    </tr>\n",
       "    <tr>\n",
       "      <th>3972</th>\n",
       "      <td>2 - High School</td>\n",
       "      <td>NaN</td>\n",
       "    </tr>\n",
       "    <tr>\n",
       "      <th>4087</th>\n",
       "      <td>1 - Basic</td>\n",
       "      <td>NaN</td>\n",
       "    </tr>\n",
       "    <tr>\n",
       "      <th>4423</th>\n",
       "      <td>NaN</td>\n",
       "      <td>2688.0</td>\n",
       "    </tr>\n",
       "    <tr>\n",
       "      <th>4625</th>\n",
       "      <td>3 - BSc/MSc</td>\n",
       "      <td>NaN</td>\n",
       "    </tr>\n",
       "    <tr>\n",
       "      <th>4847</th>\n",
       "      <td>3 - BSc/MSc</td>\n",
       "      <td>NaN</td>\n",
       "    </tr>\n",
       "    <tr>\n",
       "      <th>5082</th>\n",
       "      <td>2 - High School</td>\n",
       "      <td>NaN</td>\n",
       "    </tr>\n",
       "    <tr>\n",
       "      <th>5158</th>\n",
       "      <td>3 - BSc/MSc</td>\n",
       "      <td>NaN</td>\n",
       "    </tr>\n",
       "    <tr>\n",
       "      <th>5396</th>\n",
       "      <td>3 - BSc/MSc</td>\n",
       "      <td>NaN</td>\n",
       "    </tr>\n",
       "    <tr>\n",
       "      <th>5538</th>\n",
       "      <td>3 - BSc/MSc</td>\n",
       "      <td>NaN</td>\n",
       "    </tr>\n",
       "    <tr>\n",
       "      <th>5574</th>\n",
       "      <td>3 - BSc/MSc</td>\n",
       "      <td>NaN</td>\n",
       "    </tr>\n",
       "    <tr>\n",
       "      <th>5850</th>\n",
       "      <td>1 - Basic</td>\n",
       "      <td>NaN</td>\n",
       "    </tr>\n",
       "    <tr>\n",
       "      <th>6461</th>\n",
       "      <td>3 - BSc/MSc</td>\n",
       "      <td>NaN</td>\n",
       "    </tr>\n",
       "    <tr>\n",
       "      <th>6535</th>\n",
       "      <td>NaN</td>\n",
       "      <td>2413.0</td>\n",
       "    </tr>\n",
       "    <tr>\n",
       "      <th>6560</th>\n",
       "      <td>NaN</td>\n",
       "      <td>NaN</td>\n",
       "    </tr>\n",
       "    <tr>\n",
       "      <th>7321</th>\n",
       "      <td>NaN</td>\n",
       "      <td>3346.0</td>\n",
       "    </tr>\n",
       "    <tr>\n",
       "      <th>7371</th>\n",
       "      <td>3 - BSc/MSc</td>\n",
       "      <td>NaN</td>\n",
       "    </tr>\n",
       "    <tr>\n",
       "      <th>7453</th>\n",
       "      <td>1 - Basic</td>\n",
       "      <td>NaN</td>\n",
       "    </tr>\n",
       "    <tr>\n",
       "      <th>7470</th>\n",
       "      <td>NaN</td>\n",
       "      <td>3211.0</td>\n",
       "    </tr>\n",
       "    <tr>\n",
       "      <th>7892</th>\n",
       "      <td>3 - BSc/MSc</td>\n",
       "      <td>NaN</td>\n",
       "    </tr>\n",
       "    <tr>\n",
       "      <th>8081</th>\n",
       "      <td>NaN</td>\n",
       "      <td>4216.0</td>\n",
       "    </tr>\n",
       "    <tr>\n",
       "      <th>8173</th>\n",
       "      <td>NaN</td>\n",
       "      <td>4183.0</td>\n",
       "    </tr>\n",
       "    <tr>\n",
       "      <th>8303</th>\n",
       "      <td>NaN</td>\n",
       "      <td>3729.0</td>\n",
       "    </tr>\n",
       "    <tr>\n",
       "      <th>8676</th>\n",
       "      <td>1 - Basic</td>\n",
       "      <td>NaN</td>\n",
       "    </tr>\n",
       "    <tr>\n",
       "      <th>8677</th>\n",
       "      <td>1 - Basic</td>\n",
       "      <td>NaN</td>\n",
       "    </tr>\n",
       "    <tr>\n",
       "      <th>9136</th>\n",
       "      <td>NaN</td>\n",
       "      <td>1753.0</td>\n",
       "    </tr>\n",
       "    <tr>\n",
       "      <th>9276</th>\n",
       "      <td>3 - BSc/MSc</td>\n",
       "      <td>NaN</td>\n",
       "    </tr>\n",
       "    <tr>\n",
       "      <th>9312</th>\n",
       "      <td>NaN</td>\n",
       "      <td>2552.0</td>\n",
       "    </tr>\n",
       "    <tr>\n",
       "      <th>9610</th>\n",
       "      <td>NaN</td>\n",
       "      <td>2905.0</td>\n",
       "    </tr>\n",
       "    <tr>\n",
       "      <th>9821</th>\n",
       "      <td>3 - BSc/MSc</td>\n",
       "      <td>NaN</td>\n",
       "    </tr>\n",
       "    <tr>\n",
       "      <th>9904</th>\n",
       "      <td>3 - BSc/MSc</td>\n",
       "      <td>NaN</td>\n",
       "    </tr>\n",
       "    <tr>\n",
       "      <th>9960</th>\n",
       "      <td>2 - High School</td>\n",
       "      <td>NaN</td>\n",
       "    </tr>\n",
       "  </tbody>\n",
       "</table>\n",
       "</div>"
      ],
      "text/plain": [
       "     Educational Degree  Gross Monthly Salary\n",
       "21      2 - High School                   NaN\n",
       "143         3 - BSc/MSc                   NaN\n",
       "488         3 - BSc/MSc                   NaN\n",
       "539     2 - High School                   NaN\n",
       "830     2 - High School                   NaN\n",
       "896                 NaN                2643.0\n",
       "1160        3 - BSc/MSc                   NaN\n",
       "1707                NaN                3827.0\n",
       "1780        3 - BSc/MSc                   NaN\n",
       "1816        3 - BSc/MSc                   NaN\n",
       "1851        3 - BSc/MSc                   NaN\n",
       "1872    2 - High School                   NaN\n",
       "2241        3 - BSc/MSc                   NaN\n",
       "2449                NaN                4465.0\n",
       "2728                NaN                3200.0\n",
       "2770                NaN                1473.0\n",
       "3056                NaN                2221.0\n",
       "3227            4 - PhD                   NaN\n",
       "3317    2 - High School                   NaN\n",
       "3477          1 - Basic                   NaN\n",
       "3720        3 - BSc/MSc                   NaN\n",
       "3972    2 - High School                   NaN\n",
       "4087          1 - Basic                   NaN\n",
       "4423                NaN                2688.0\n",
       "4625        3 - BSc/MSc                   NaN\n",
       "4847        3 - BSc/MSc                   NaN\n",
       "5082    2 - High School                   NaN\n",
       "5158        3 - BSc/MSc                   NaN\n",
       "5396        3 - BSc/MSc                   NaN\n",
       "5538        3 - BSc/MSc                   NaN\n",
       "5574        3 - BSc/MSc                   NaN\n",
       "5850          1 - Basic                   NaN\n",
       "6461        3 - BSc/MSc                   NaN\n",
       "6535                NaN                2413.0\n",
       "6560                NaN                   NaN\n",
       "7321                NaN                3346.0\n",
       "7371        3 - BSc/MSc                   NaN\n",
       "7453          1 - Basic                   NaN\n",
       "7470                NaN                3211.0\n",
       "7892        3 - BSc/MSc                   NaN\n",
       "8081                NaN                4216.0\n",
       "8173                NaN                4183.0\n",
       "8303                NaN                3729.0\n",
       "8676          1 - Basic                   NaN\n",
       "8677          1 - Basic                   NaN\n",
       "9136                NaN                1753.0\n",
       "9276        3 - BSc/MSc                   NaN\n",
       "9312                NaN                2552.0\n",
       "9610                NaN                2905.0\n",
       "9821        3 - BSc/MSc                   NaN\n",
       "9904        3 - BSc/MSc                   NaN\n",
       "9960    2 - High School                   NaN"
      ]
     },
     "execution_count": 132,
     "metadata": {},
     "output_type": "execute_result"
    }
   ],
   "source": [
    "df_nan_all = df_edu[df_edu.isna().all(axis = 1)]\n",
    "\n",
    "df_nan = df_edu[df_edu.isna().any(axis = 1)]\n",
    "df_nan\n",
    "#print(df.loc[6560]) #Esta posição tem o Edu e o salary a Null"
   ]
  },
  {
   "cell_type": "code",
   "execution_count": 36,
   "metadata": {},
   "outputs": [],
   "source": [
    "df.loc[896,'Educational Degree'] = '3 - BSc/MSc'\n",
    "\n",
    "df.loc[1707,'Educational Degree'] = '4 - PhD'\n",
    "\n",
    "df.loc[2449,'Educational Degree'] = '4 - PhD'\n",
    "\n",
    "df.loc[2728,'Educational Degree'] = '4 - PhD'\n",
    "\n",
    "df.loc[2770,'Educational Degree'] = '1 - Basic'\n",
    "\n",
    "df.loc[3056,'Educational Degree'] = '2 - High School'\n",
    "\n",
    "df.loc[4423,'Educational Degree'] = '4 - PhD'\n",
    "\n",
    "df.loc[6535,'Educational Degree'] = '2 - High School'\n",
    "\n",
    "df.loc[7321,'Educational Degree'] = '4 - PhD'\n",
    "\n",
    "df.loc[7470,'Educational Degree'] = '4 - PhD'\n",
    "\n",
    "df.loc[8081,'Educational Degree'] = '4 - PhD'\n",
    "\n",
    "df.loc[8173,'Educational Degree'] = '4 - PhD'\n",
    "\n",
    "df.loc[8303,'Educational Degree'] = '4 - PhD'\n",
    "\n",
    "df.loc[9136,'Educational Degree'] = '1 - Basic'\n",
    "\n",
    "df.loc[9136,'Educational Degree'] = '1 - Basic'\n",
    "\n",
    "df.loc[9312,'Educational Degree'] = '2 - High School'\n",
    "\n",
    "df.loc[9610,'Educational Degree'] = '4 - PhD'"
   ]
  },
  {
   "cell_type": "code",
   "execution_count": 38,
   "metadata": {},
   "outputs": [
    {
     "data": {
      "text/plain": [
       "1"
      ]
     },
     "execution_count": 38,
     "metadata": {},
     "output_type": "execute_result"
    }
   ],
   "source": [
    "df['Educational Degree'].isnull().sum()\n",
    "\n",
    "#É o que tem NaN no Educational Degree e no Salary"
   ]
  },
  {
   "cell_type": "markdown",
   "metadata": {},
   "source": [
    "**Let's try to visualize something**"
   ]
  },
  {
   "cell_type": "code",
   "execution_count": 133,
   "metadata": {},
   "outputs": [],
   "source": [
    "import matplotlib.pyplot as plt"
   ]
  },
  {
   "cell_type": "code",
   "execution_count": 134,
   "metadata": {},
   "outputs": [],
   "source": [
    "df_above = df[df['Gross Monthly Salary'] < 10000]"
   ]
  },
  {
   "cell_type": "code",
   "execution_count": 135,
   "metadata": {},
   "outputs": [
    {
     "data": {
      "image/png": "[encoded data removed]",
      "text/plain": [
       "<Figure size 432x288 with 1 Axes>"
      ]
     },
     "metadata": {
      "needs_background": "light"
     },
     "output_type": "display_data"
    }
   ],
   "source": [
    "#plt.scatter(df['Gross Monthly Salary'], df['Geographic Living Area'], color = 'blue', alpha = 0.3)\n",
    "plt.scatter(df_above['Gross Monthly Salary'], df_above['Geographic Living Area'], color = 'blue', alpha = 0.3)\n",
    "plt.xlabel('Gross Monthly Salary above 100000')\n",
    "plt.ylabel('Geographic Living Area')\n",
    "plt.show()"
   ]
  },
  {
   "cell_type": "code",
   "execution_count": 136,
   "metadata": {},
   "outputs": [
    {
     "data": {
      "image/png": "[encoded data removed]",
      "text/plain": [
       "<Figure size 432x288 with 1 Axes>"
      ]
     },
     "metadata": {
      "needs_background": "light"
     },
     "output_type": "display_data"
    }
   ],
   "source": [
    "plt.scatter(df['Has Children (Y=1)'], df['Geographic Living Area'], color = 'blue', alpha = 0.3)\n",
    "plt.xlabel('Has Children')\n",
    "plt.ylabel('Geographic Living Area')\n",
    "plt.show()"
   ]
  },
  {
   "cell_type": "code",
   "execution_count": 137,
   "metadata": {},
   "outputs": [
    {
     "data": {
      "image/png": "[encoded data removed]",
      "text/plain": [
       "<Figure size 432x288 with 1 Axes>"
      ]
     },
     "metadata": {
      "needs_background": "light"
     },
     "output_type": "display_data"
    }
   ],
   "source": [
    "plt.scatter(df['Customer Monetary Value'], df['Gross Monthly Salary'], color = 'blue', alpha = 0.3)\n",
    "plt.xlabel('Customer Monetary Value')\n",
    "plt.ylabel('Gross Monthly Salary')\n",
    "plt.show()"
   ]
  },
  {
   "cell_type": "code",
   "execution_count": 138,
   "metadata": {},
   "outputs": [],
   "source": [
    "#Let's zoom this\n",
    "#Those soft blue points are outliers, can be removed. (this color is given by alpha parameters, it says that there are less people in that area)\n",
    "df_ab = df[(df['Gross Monthly Salary'] < 10000) & (df['Customer Monetary Value'] > -25000)]"
   ]
  },
  {
   "cell_type": "code",
   "execution_count": 139,
   "metadata": {},
   "outputs": [
    {
     "data": {
      "image/png": "[encoded data removed]",
      "text/plain": [
       "<Figure size 432x288 with 1 Axes>"
      ]
     },
     "metadata": {
      "needs_background": "light"
     },
     "output_type": "display_data"
    }
   ],
   "source": [
    "plt.scatter(df_ab['Customer Monetary Value'], df_ab['Gross Monthly Salary'], color = 'blue', alpha = 0.3)\n",
    "plt.xlabel('Customer Monetary Value')\n",
    "plt.ylabel('Gross Monthly Salary')\n",
    "plt.show()"
   ]
  },
  {
   "cell_type": "code",
   "execution_count": 140,
   "metadata": {},
   "outputs": [
    {
     "ename": "TypeError",
     "evalue": "nan is not a string",
     "output_type": "error",
     "traceback": [
      "\u001b[0;31m---------------------------------------------------------------------------\u001b[0m",
      "\u001b[0;31mTypeError\u001b[0m                                 Traceback (most recent call last)",
      "\u001b[0;32m<ipython-input-140-f5af8de0818d>\u001b[0m in \u001b[0;36m<module>\u001b[0;34m\u001b[0m\n\u001b[0;32m----> 1\u001b[0;31m \u001b[0mplt\u001b[0m\u001b[0;34m.\u001b[0m\u001b[0mscatter\u001b[0m\u001b[0;34m(\u001b[0m\u001b[0mdf\u001b[0m\u001b[0;34m[\u001b[0m\u001b[0;34m'Educational Degree'\u001b[0m\u001b[0;34m]\u001b[0m\u001b[0;34m,\u001b[0m \u001b[0mdf\u001b[0m\u001b[0;34m[\u001b[0m\u001b[0;34m'Gross Monthly Salary'\u001b[0m\u001b[0;34m]\u001b[0m\u001b[0;34m,\u001b[0m \u001b[0mcolor\u001b[0m \u001b[0;34m=\u001b[0m \u001b[0;34m'blue'\u001b[0m\u001b[0;34m,\u001b[0m \u001b[0malpha\u001b[0m \u001b[0;34m=\u001b[0m \u001b[0;36m0.3\u001b[0m\u001b[0;34m)\u001b[0m\u001b[0;34m\u001b[0m\u001b[0;34m\u001b[0m\u001b[0m\n\u001b[0m\u001b[1;32m      2\u001b[0m \u001b[0mplt\u001b[0m\u001b[0;34m.\u001b[0m\u001b[0mxlabel\u001b[0m\u001b[0;34m(\u001b[0m\u001b[0;34m'Educational Degree'\u001b[0m\u001b[0;34m)\u001b[0m\u001b[0;34m\u001b[0m\u001b[0;34m\u001b[0m\u001b[0m\n\u001b[1;32m      3\u001b[0m \u001b[0mplt\u001b[0m\u001b[0;34m.\u001b[0m\u001b[0mylabel\u001b[0m\u001b[0;34m(\u001b[0m\u001b[0;34m'Gross Monthly Salary'\u001b[0m\u001b[0;34m)\u001b[0m\u001b[0;34m\u001b[0m\u001b[0;34m\u001b[0m\u001b[0m\n\u001b[1;32m      4\u001b[0m \u001b[0mplt\u001b[0m\u001b[0;34m.\u001b[0m\u001b[0mshow\u001b[0m\u001b[0;34m(\u001b[0m\u001b[0;34m)\u001b[0m\u001b[0;34m\u001b[0m\u001b[0;34m\u001b[0m\u001b[0m\n",
      "\u001b[0;32m~/.local/lib/python3.7/site-packages/matplotlib/pyplot.py\u001b[0m in \u001b[0;36mscatter\u001b[0;34m(x, y, s, c, marker, cmap, norm, vmin, vmax, alpha, linewidths, verts, edgecolors, plotnonfinite, data, **kwargs)\u001b[0m\n\u001b[1;32m   2839\u001b[0m         \u001b[0mverts\u001b[0m\u001b[0;34m=\u001b[0m\u001b[0mverts\u001b[0m\u001b[0;34m,\u001b[0m \u001b[0medgecolors\u001b[0m\u001b[0;34m=\u001b[0m\u001b[0medgecolors\u001b[0m\u001b[0;34m,\u001b[0m\u001b[0;34m\u001b[0m\u001b[0;34m\u001b[0m\u001b[0m\n\u001b[1;32m   2840\u001b[0m         plotnonfinite=plotnonfinite, **({\"data\": data} if data is not\n\u001b[0;32m-> 2841\u001b[0;31m         None else {}), **kwargs)\n\u001b[0m\u001b[1;32m   2842\u001b[0m     \u001b[0msci\u001b[0m\u001b[0;34m(\u001b[0m\u001b[0m__ret\u001b[0m\u001b[0;34m)\u001b[0m\u001b[0;34m\u001b[0m\u001b[0;34m\u001b[0m\u001b[0m\n\u001b[1;32m   2843\u001b[0m     \u001b[0;32mreturn\u001b[0m \u001b[0m__ret\u001b[0m\u001b[0;34m\u001b[0m\u001b[0;34m\u001b[0m\u001b[0m\n",
      "\u001b[0;32m~/.local/lib/python3.7/site-packages/matplotlib/__init__.py\u001b[0m in \u001b[0;36minner\u001b[0;34m(ax, data, *args, **kwargs)\u001b[0m\n\u001b[1;32m   1587\u001b[0m     \u001b[0;32mdef\u001b[0m \u001b[0minner\u001b[0m\u001b[0;34m(\u001b[0m\u001b[0max\u001b[0m\u001b[0;34m,\u001b[0m \u001b[0;34m*\u001b[0m\u001b[0margs\u001b[0m\u001b[0;34m,\u001b[0m \u001b[0mdata\u001b[0m\u001b[0;34m=\u001b[0m\u001b[0;32mNone\u001b[0m\u001b[0;34m,\u001b[0m \u001b[0;34m**\u001b[0m\u001b[0mkwargs\u001b[0m\u001b[0;34m)\u001b[0m\u001b[0;34m:\u001b[0m\u001b[0;34m\u001b[0m\u001b[0;34m\u001b[0m\u001b[0m\n\u001b[1;32m   1588\u001b[0m         \u001b[0;32mif\u001b[0m \u001b[0mdata\u001b[0m \u001b[0;32mis\u001b[0m \u001b[0;32mNone\u001b[0m\u001b[0;34m:\u001b[0m\u001b[0;34m\u001b[0m\u001b[0;34m\u001b[0m\u001b[0m\n\u001b[0;32m-> 1589\u001b[0;31m             \u001b[0;32mreturn\u001b[0m \u001b[0mfunc\u001b[0m\u001b[0;34m(\u001b[0m\u001b[0max\u001b[0m\u001b[0;34m,\u001b[0m \u001b[0;34m*\u001b[0m\u001b[0mmap\u001b[0m\u001b[0;34m(\u001b[0m\u001b[0msanitize_sequence\u001b[0m\u001b[0;34m,\u001b[0m \u001b[0margs\u001b[0m\u001b[0;34m)\u001b[0m\u001b[0;34m,\u001b[0m \u001b[0;34m**\u001b[0m\u001b[0mkwargs\u001b[0m\u001b[0;34m)\u001b[0m\u001b[0;34m\u001b[0m\u001b[0;34m\u001b[0m\u001b[0m\n\u001b[0m\u001b[1;32m   1590\u001b[0m \u001b[0;34m\u001b[0m\u001b[0m\n\u001b[1;32m   1591\u001b[0m         \u001b[0mbound\u001b[0m \u001b[0;34m=\u001b[0m \u001b[0mnew_sig\u001b[0m\u001b[0;34m.\u001b[0m\u001b[0mbind\u001b[0m\u001b[0;34m(\u001b[0m\u001b[0max\u001b[0m\u001b[0;34m,\u001b[0m \u001b[0;34m*\u001b[0m\u001b[0margs\u001b[0m\u001b[0;34m,\u001b[0m \u001b[0;34m**\u001b[0m\u001b[0mkwargs\u001b[0m\u001b[0;34m)\u001b[0m\u001b[0;34m\u001b[0m\u001b[0;34m\u001b[0m\u001b[0m\n",
      "\u001b[0;32m~/.local/lib/python3.7/site-packages/matplotlib/axes/_axes.py\u001b[0m in \u001b[0;36mscatter\u001b[0;34m(self, x, y, s, c, marker, cmap, norm, vmin, vmax, alpha, linewidths, verts, edgecolors, plotnonfinite, **kwargs)\u001b[0m\n\u001b[1;32m   4424\u001b[0m         \u001b[0;31m# Process **kwargs to handle aliases, conflicts with explicit kwargs:\u001b[0m\u001b[0;34m\u001b[0m\u001b[0;34m\u001b[0m\u001b[0;34m\u001b[0m\u001b[0m\n\u001b[1;32m   4425\u001b[0m \u001b[0;34m\u001b[0m\u001b[0m\n\u001b[0;32m-> 4426\u001b[0;31m         \u001b[0mself\u001b[0m\u001b[0;34m.\u001b[0m\u001b[0m_process_unit_info\u001b[0m\u001b[0;34m(\u001b[0m\u001b[0mxdata\u001b[0m\u001b[0;34m=\u001b[0m\u001b[0mx\u001b[0m\u001b[0;34m,\u001b[0m \u001b[0mydata\u001b[0m\u001b[0;34m=\u001b[0m\u001b[0my\u001b[0m\u001b[0;34m,\u001b[0m \u001b[0mkwargs\u001b[0m\u001b[0;34m=\u001b[0m\u001b[0mkwargs\u001b[0m\u001b[0;34m)\u001b[0m\u001b[0;34m\u001b[0m\u001b[0;34m\u001b[0m\u001b[0m\n\u001b[0m\u001b[1;32m   4427\u001b[0m         \u001b[0mx\u001b[0m \u001b[0;34m=\u001b[0m \u001b[0mself\u001b[0m\u001b[0;34m.\u001b[0m\u001b[0mconvert_xunits\u001b[0m\u001b[0;34m(\u001b[0m\u001b[0mx\u001b[0m\u001b[0;34m)\u001b[0m\u001b[0;34m\u001b[0m\u001b[0;34m\u001b[0m\u001b[0m\n\u001b[1;32m   4428\u001b[0m         \u001b[0my\u001b[0m \u001b[0;34m=\u001b[0m \u001b[0mself\u001b[0m\u001b[0;34m.\u001b[0m\u001b[0mconvert_yunits\u001b[0m\u001b[0;34m(\u001b[0m\u001b[0my\u001b[0m\u001b[0;34m)\u001b[0m\u001b[0;34m\u001b[0m\u001b[0;34m\u001b[0m\u001b[0m\n",
      "\u001b[0;32m~/.local/lib/python3.7/site-packages/matplotlib/axes/_base.py\u001b[0m in \u001b[0;36m_process_unit_info\u001b[0;34m(self, xdata, ydata, kwargs)\u001b[0m\n\u001b[1;32m   2121\u001b[0m             \u001b[0;32mreturn\u001b[0m \u001b[0mkwargs\u001b[0m\u001b[0;34m\u001b[0m\u001b[0;34m\u001b[0m\u001b[0m\n\u001b[1;32m   2122\u001b[0m \u001b[0;34m\u001b[0m\u001b[0m\n\u001b[0;32m-> 2123\u001b[0;31m         \u001b[0mkwargs\u001b[0m \u001b[0;34m=\u001b[0m \u001b[0m_process_single_axis\u001b[0m\u001b[0;34m(\u001b[0m\u001b[0mxdata\u001b[0m\u001b[0;34m,\u001b[0m \u001b[0mself\u001b[0m\u001b[0;34m.\u001b[0m\u001b[0mxaxis\u001b[0m\u001b[0;34m,\u001b[0m \u001b[0;34m'xunits'\u001b[0m\u001b[0;34m,\u001b[0m \u001b[0mkwargs\u001b[0m\u001b[0;34m)\u001b[0m\u001b[0;34m\u001b[0m\u001b[0;34m\u001b[0m\u001b[0m\n\u001b[0m\u001b[1;32m   2124\u001b[0m         \u001b[0mkwargs\u001b[0m \u001b[0;34m=\u001b[0m \u001b[0m_process_single_axis\u001b[0m\u001b[0;34m(\u001b[0m\u001b[0mydata\u001b[0m\u001b[0;34m,\u001b[0m \u001b[0mself\u001b[0m\u001b[0;34m.\u001b[0m\u001b[0myaxis\u001b[0m\u001b[0;34m,\u001b[0m \u001b[0;34m'yunits'\u001b[0m\u001b[0;34m,\u001b[0m \u001b[0mkwargs\u001b[0m\u001b[0;34m)\u001b[0m\u001b[0;34m\u001b[0m\u001b[0;34m\u001b[0m\u001b[0m\n\u001b[1;32m   2125\u001b[0m         \u001b[0;32mreturn\u001b[0m \u001b[0mkwargs\u001b[0m\u001b[0;34m\u001b[0m\u001b[0;34m\u001b[0m\u001b[0m\n",
      "\u001b[0;32m~/.local/lib/python3.7/site-packages/matplotlib/axes/_base.py\u001b[0m in \u001b[0;36m_process_single_axis\u001b[0;34m(data, axis, unit_name, kwargs)\u001b[0m\n\u001b[1;32m   2104\u001b[0m                 \u001b[0;31m# We only need to update if there is nothing set yet.\u001b[0m\u001b[0;34m\u001b[0m\u001b[0;34m\u001b[0m\u001b[0;34m\u001b[0m\u001b[0m\n\u001b[1;32m   2105\u001b[0m                 \u001b[0;32mif\u001b[0m \u001b[0;32mnot\u001b[0m \u001b[0maxis\u001b[0m\u001b[0;34m.\u001b[0m\u001b[0mhave_units\u001b[0m\u001b[0;34m(\u001b[0m\u001b[0;34m)\u001b[0m\u001b[0;34m:\u001b[0m\u001b[0;34m\u001b[0m\u001b[0;34m\u001b[0m\u001b[0m\n\u001b[0;32m-> 2106\u001b[0;31m                     \u001b[0maxis\u001b[0m\u001b[0;34m.\u001b[0m\u001b[0mupdate_units\u001b[0m\u001b[0;34m(\u001b[0m\u001b[0mdata\u001b[0m\u001b[0;34m)\u001b[0m\u001b[0;34m\u001b[0m\u001b[0;34m\u001b[0m\u001b[0m\n\u001b[0m\u001b[1;32m   2107\u001b[0m \u001b[0;34m\u001b[0m\u001b[0m\n\u001b[1;32m   2108\u001b[0m             \u001b[0;31m# Check for units in the kwargs, and if present update axis\u001b[0m\u001b[0;34m\u001b[0m\u001b[0;34m\u001b[0m\u001b[0;34m\u001b[0m\u001b[0m\n",
      "\u001b[0;32m~/.local/lib/python3.7/site-packages/matplotlib/axis.py\u001b[0m in \u001b[0;36mupdate_units\u001b[0;34m(self, data)\u001b[0m\n\u001b[1;32m   1492\u001b[0m         \u001b[0mneednew\u001b[0m \u001b[0;34m=\u001b[0m \u001b[0mself\u001b[0m\u001b[0;34m.\u001b[0m\u001b[0mconverter\u001b[0m \u001b[0;34m!=\u001b[0m \u001b[0mconverter\u001b[0m\u001b[0;34m\u001b[0m\u001b[0;34m\u001b[0m\u001b[0m\n\u001b[1;32m   1493\u001b[0m         \u001b[0mself\u001b[0m\u001b[0;34m.\u001b[0m\u001b[0mconverter\u001b[0m \u001b[0;34m=\u001b[0m \u001b[0mconverter\u001b[0m\u001b[0;34m\u001b[0m\u001b[0;34m\u001b[0m\u001b[0m\n\u001b[0;32m-> 1494\u001b[0;31m         \u001b[0mdefault\u001b[0m \u001b[0;34m=\u001b[0m \u001b[0mself\u001b[0m\u001b[0;34m.\u001b[0m\u001b[0mconverter\u001b[0m\u001b[0;34m.\u001b[0m\u001b[0mdefault_units\u001b[0m\u001b[0;34m(\u001b[0m\u001b[0mdata\u001b[0m\u001b[0;34m,\u001b[0m \u001b[0mself\u001b[0m\u001b[0;34m)\u001b[0m\u001b[0;34m\u001b[0m\u001b[0;34m\u001b[0m\u001b[0m\n\u001b[0m\u001b[1;32m   1495\u001b[0m         \u001b[0;32mif\u001b[0m \u001b[0mdefault\u001b[0m \u001b[0;32mis\u001b[0m \u001b[0;32mnot\u001b[0m \u001b[0;32mNone\u001b[0m \u001b[0;32mand\u001b[0m \u001b[0mself\u001b[0m\u001b[0;34m.\u001b[0m\u001b[0munits\u001b[0m \u001b[0;32mis\u001b[0m \u001b[0;32mNone\u001b[0m\u001b[0;34m:\u001b[0m\u001b[0;34m\u001b[0m\u001b[0;34m\u001b[0m\u001b[0m\n\u001b[1;32m   1496\u001b[0m             \u001b[0mself\u001b[0m\u001b[0;34m.\u001b[0m\u001b[0mset_units\u001b[0m\u001b[0;34m(\u001b[0m\u001b[0mdefault\u001b[0m\u001b[0;34m)\u001b[0m\u001b[0;34m\u001b[0m\u001b[0;34m\u001b[0m\u001b[0m\n",
      "\u001b[0;32m~/.local/lib/python3.7/site-packages/matplotlib/category.py\u001b[0m in \u001b[0;36mdefault_units\u001b[0;34m(data, axis)\u001b[0m\n\u001b[1;32m    113\u001b[0m         \u001b[0;31m# default_units->axis_info->convert\u001b[0m\u001b[0;34m\u001b[0m\u001b[0;34m\u001b[0m\u001b[0;34m\u001b[0m\u001b[0m\n\u001b[1;32m    114\u001b[0m         \u001b[0;32mif\u001b[0m \u001b[0maxis\u001b[0m\u001b[0;34m.\u001b[0m\u001b[0munits\u001b[0m \u001b[0;32mis\u001b[0m \u001b[0;32mNone\u001b[0m\u001b[0;34m:\u001b[0m\u001b[0;34m\u001b[0m\u001b[0;34m\u001b[0m\u001b[0m\n\u001b[0;32m--> 115\u001b[0;31m             \u001b[0maxis\u001b[0m\u001b[0;34m.\u001b[0m\u001b[0mset_units\u001b[0m\u001b[0;34m(\u001b[0m\u001b[0mUnitData\u001b[0m\u001b[0;34m(\u001b[0m\u001b[0mdata\u001b[0m\u001b[0;34m)\u001b[0m\u001b[0;34m)\u001b[0m\u001b[0;34m\u001b[0m\u001b[0;34m\u001b[0m\u001b[0m\n\u001b[0m\u001b[1;32m    116\u001b[0m         \u001b[0;32melse\u001b[0m\u001b[0;34m:\u001b[0m\u001b[0;34m\u001b[0m\u001b[0;34m\u001b[0m\u001b[0m\n\u001b[1;32m    117\u001b[0m             \u001b[0maxis\u001b[0m\u001b[0;34m.\u001b[0m\u001b[0munits\u001b[0m\u001b[0;34m.\u001b[0m\u001b[0mupdate\u001b[0m\u001b[0;34m(\u001b[0m\u001b[0mdata\u001b[0m\u001b[0;34m)\u001b[0m\u001b[0;34m\u001b[0m\u001b[0;34m\u001b[0m\u001b[0m\n",
      "\u001b[0;32m~/.local/lib/python3.7/site-packages/matplotlib/category.py\u001b[0m in \u001b[0;36m__init__\u001b[0;34m(self, data)\u001b[0m\n\u001b[1;32m    179\u001b[0m         \u001b[0mself\u001b[0m\u001b[0;34m.\u001b[0m\u001b[0m_counter\u001b[0m \u001b[0;34m=\u001b[0m \u001b[0mitertools\u001b[0m\u001b[0;34m.\u001b[0m\u001b[0mcount\u001b[0m\u001b[0;34m(\u001b[0m\u001b[0;34m)\u001b[0m\u001b[0;34m\u001b[0m\u001b[0;34m\u001b[0m\u001b[0m\n\u001b[1;32m    180\u001b[0m         \u001b[0;32mif\u001b[0m \u001b[0mdata\u001b[0m \u001b[0;32mis\u001b[0m \u001b[0;32mnot\u001b[0m \u001b[0;32mNone\u001b[0m\u001b[0;34m:\u001b[0m\u001b[0;34m\u001b[0m\u001b[0;34m\u001b[0m\u001b[0m\n\u001b[0;32m--> 181\u001b[0;31m             \u001b[0mself\u001b[0m\u001b[0;34m.\u001b[0m\u001b[0mupdate\u001b[0m\u001b[0;34m(\u001b[0m\u001b[0mdata\u001b[0m\u001b[0;34m)\u001b[0m\u001b[0;34m\u001b[0m\u001b[0;34m\u001b[0m\u001b[0m\n\u001b[0m\u001b[1;32m    182\u001b[0m \u001b[0;34m\u001b[0m\u001b[0m\n\u001b[1;32m    183\u001b[0m     \u001b[0;34m@\u001b[0m\u001b[0mstaticmethod\u001b[0m\u001b[0;34m\u001b[0m\u001b[0;34m\u001b[0m\u001b[0m\n",
      "\u001b[0;32m~/.local/lib/python3.7/site-packages/matplotlib/category.py\u001b[0m in \u001b[0;36mupdate\u001b[0;34m(self, data)\u001b[0m\n\u001b[1;32m    216\u001b[0m             \u001b[0;31m# OrderedDict just iterates over unique values in data.\u001b[0m\u001b[0;34m\u001b[0m\u001b[0;34m\u001b[0m\u001b[0;34m\u001b[0m\u001b[0m\n\u001b[1;32m    217\u001b[0m             \u001b[0;32mif\u001b[0m \u001b[0;32mnot\u001b[0m \u001b[0misinstance\u001b[0m\u001b[0;34m(\u001b[0m\u001b[0mval\u001b[0m\u001b[0;34m,\u001b[0m \u001b[0;34m(\u001b[0m\u001b[0mstr\u001b[0m\u001b[0;34m,\u001b[0m \u001b[0mbytes\u001b[0m\u001b[0;34m)\u001b[0m\u001b[0;34m)\u001b[0m\u001b[0;34m:\u001b[0m\u001b[0;34m\u001b[0m\u001b[0;34m\u001b[0m\u001b[0m\n\u001b[0;32m--> 218\u001b[0;31m                 \u001b[0;32mraise\u001b[0m \u001b[0mTypeError\u001b[0m\u001b[0;34m(\u001b[0m\u001b[0;34m\"{val!r} is not a string\"\u001b[0m\u001b[0;34m.\u001b[0m\u001b[0mformat\u001b[0m\u001b[0;34m(\u001b[0m\u001b[0mval\u001b[0m\u001b[0;34m=\u001b[0m\u001b[0mval\u001b[0m\u001b[0;34m)\u001b[0m\u001b[0;34m)\u001b[0m\u001b[0;34m\u001b[0m\u001b[0;34m\u001b[0m\u001b[0m\n\u001b[0m\u001b[1;32m    219\u001b[0m             \u001b[0;32mif\u001b[0m \u001b[0mconvertible\u001b[0m\u001b[0;34m:\u001b[0m\u001b[0;34m\u001b[0m\u001b[0;34m\u001b[0m\u001b[0m\n\u001b[1;32m    220\u001b[0m                 \u001b[0;31m# this will only be called so long as convertible is True.\u001b[0m\u001b[0;34m\u001b[0m\u001b[0;34m\u001b[0m\u001b[0;34m\u001b[0m\u001b[0m\n",
      "\u001b[0;31mTypeError\u001b[0m: nan is not a string"
     ]
    },
    {
     "data": {
      "image/png": "[encoded data removed]",
      "text/plain": [
       "<Figure size 432x288 with 1 Axes>"
      ]
     },
     "metadata": {
      "needs_background": "light"
     },
     "output_type": "display_data"
    }
   ],
   "source": [
    "plt.scatter(df['Educational Degree'], df['Gross Monthly Salary'], color = 'blue', alpha = 0.3)\n",
    "plt.xlabel('Educational Degree')\n",
    "plt.ylabel('Gross Monthly Salary')\n",
    "plt.show()"
   ]
  },
  {
   "cell_type": "code",
   "execution_count": 141,
   "metadata": {},
   "outputs": [],
   "source": [
    "## SEE ???? NAN IS A PROBLEM!!!!!!!!! ##\n",
    "#Let's try to replace that:\n",
    "\n",
    "df['Educational Degree'] = df['Educational Degree'].fillna('1 - Basic') #This could be like a business rule, and is always discussed with the client."
   ]
  },
  {
   "cell_type": "code",
   "execution_count": 142,
   "metadata": {},
   "outputs": [
    {
     "data": {
      "image/png": "[encoded data removed]",
      "text/plain": [
       "<Figure size 432x288 with 1 Axes>"
      ]
     },
     "metadata": {
      "needs_background": "light"
     },
     "output_type": "display_data"
    }
   ],
   "source": [
    "plt.scatter(df['Educational Degree'], df['Gross Monthly Salary'], color = 'blue', alpha = 0.3)\n",
    "plt.xlabel('Educational Degree')\n",
    "plt.ylabel('Gross Monthly Salary')\n",
    "plt.show()"
   ]
  },
  {
   "cell_type": "code",
   "execution_count": 143,
   "metadata": {},
   "outputs": [],
   "source": [
    "#For my ladies: Try to find some correlated variables \n",
    "#Lots of kisses xxx"
   ]
  },
  {
   "cell_type": "code",
   "execution_count": 144,
   "metadata": {},
   "outputs": [],
   "source": [
    "df_grouped = df.groupby('Educational Degree')['Gross Monthly Salary'].mean()"
   ]
  },
  {
   "cell_type": "code",
   "execution_count": 145,
   "metadata": {},
   "outputs": [
    {
     "data": {
      "text/plain": [
       "Educational Degree\n",
       "1 - Basic          1994.749415\n",
       "2 - High School    2512.059395\n",
       "3 - BSc/MSc        2616.708874\n",
       "4 - PhD            2664.512195\n",
       "Name: Gross Monthly Salary, dtype: float64"
      ]
     },
     "execution_count": 145,
     "metadata": {},
     "output_type": "execute_result"
    }
   ],
   "source": [
    "df_grouped"
   ]
  },
  {
   "cell_type": "code",
   "execution_count": 146,
   "metadata": {},
   "outputs": [
    {
     "data": {
      "image/png": "[encoded data removed]",
      "text/plain": [
       "<Figure size 432x288 with 1 Axes>"
      ]
     },
     "metadata": {
      "needs_background": "light"
     },
     "output_type": "display_data"
    }
   ],
   "source": [
    "plt.scatter(df['Brithday Year'], df['Has Children (Y=1)'], color = 'blue', alpha = 0.3)\n",
    "plt.xlabel('Has Children')\n",
    "plt.ylabel('Birthday Year')\n",
    "plt.xlim(1970, 2016)\n",
    "plt.show()"
   ]
  },
  {
   "cell_type": "code",
   "execution_count": null,
   "metadata": {},
   "outputs": [],
   "source": []
  }
 ],
 "metadata": {
  "kernelspec": {
   "display_name": "Python 3",
   "language": "python",
   "name": "python3"
  },
  "language_info": {
   "codemirror_mode": {
    "name": "ipython",
    "version": 3
   },
   "file_extension": ".py",
   "mimetype": "text/x-python",
   "name": "python",
   "nbconvert_exporter": "python",
   "pygments_lexer": "ipython3",
   "version": "3.7.4"
  }
 },
 "nbformat": 4,
 "nbformat_minor": 4
}
