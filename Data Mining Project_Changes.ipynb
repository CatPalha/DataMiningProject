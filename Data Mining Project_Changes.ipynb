{
 "cells": [
  {
   "cell_type": "markdown",
   "metadata": {},
   "source": [
    "# DATA CLEANING (Mafalda)#"
   ]
  },
  {
   "cell_type": "markdown",
   "metadata": {},
   "source": [
    "**1) Removing NaN values***"
   ]
  },
  {
   "cell_type": "code",
   "execution_count": 1,
   "metadata": {},
   "outputs": [
    {
     "data": {
      "text/html": [
       "<div>\n",
       "<style scoped>\n",
       "    .dataframe tbody tr th:only-of-type {\n",
       "        vertical-align: middle;\n",
       "    }\n",
       "\n",
       "    .dataframe tbody tr th {\n",
       "        vertical-align: top;\n",
       "    }\n",
       "\n",
       "    .dataframe thead th {\n",
       "        text-align: right;\n",
       "    }\n",
       "</style>\n",
       "<table border=\"1\" class=\"dataframe\">\n",
       "  <thead>\n",
       "    <tr style=\"text-align: right;\">\n",
       "      <th></th>\n",
       "      <th>Customer Identity</th>\n",
       "      <th>First Policy´s Year</th>\n",
       "      <th>Brithday Year</th>\n",
       "      <th>Educational Degree</th>\n",
       "      <th>Gross Monthly Salary</th>\n",
       "      <th>Geographic Living Area</th>\n",
       "      <th>Has Children (Y=1)</th>\n",
       "      <th>Customer Monetary Value</th>\n",
       "      <th>Claims Rate</th>\n",
       "      <th>Premiums in LOB: Motor</th>\n",
       "      <th>Premiums in LOB: Household</th>\n",
       "      <th>Premiums in LOB: Health</th>\n",
       "      <th>Premiums in LOB:  Life</th>\n",
       "      <th>Premiums in LOB: Work Compensations</th>\n",
       "    </tr>\n",
       "  </thead>\n",
       "  <tbody>\n",
       "    <tr>\n",
       "      <th>0</th>\n",
       "      <td>1</td>\n",
       "      <td>1985.0</td>\n",
       "      <td>1982.0</td>\n",
       "      <td>2 - High School</td>\n",
       "      <td>2177.0</td>\n",
       "      <td>1.0</td>\n",
       "      <td>1.0</td>\n",
       "      <td>380.97</td>\n",
       "      <td>0.39</td>\n",
       "      <td>375.85</td>\n",
       "      <td>79.45</td>\n",
       "      <td>146.36</td>\n",
       "      <td>47.01</td>\n",
       "      <td>16.89</td>\n",
       "    </tr>\n",
       "    <tr>\n",
       "      <th>1</th>\n",
       "      <td>2</td>\n",
       "      <td>1981.0</td>\n",
       "      <td>1995.0</td>\n",
       "      <td>2 - High School</td>\n",
       "      <td>677.0</td>\n",
       "      <td>4.0</td>\n",
       "      <td>1.0</td>\n",
       "      <td>-131.13</td>\n",
       "      <td>1.12</td>\n",
       "      <td>77.46</td>\n",
       "      <td>416.20</td>\n",
       "      <td>116.69</td>\n",
       "      <td>194.48</td>\n",
       "      <td>106.13</td>\n",
       "    </tr>\n",
       "    <tr>\n",
       "      <th>2</th>\n",
       "      <td>3</td>\n",
       "      <td>1991.0</td>\n",
       "      <td>1970.0</td>\n",
       "      <td>1 - Basic</td>\n",
       "      <td>2277.0</td>\n",
       "      <td>3.0</td>\n",
       "      <td>0.0</td>\n",
       "      <td>504.67</td>\n",
       "      <td>0.28</td>\n",
       "      <td>206.15</td>\n",
       "      <td>224.50</td>\n",
       "      <td>124.58</td>\n",
       "      <td>86.35</td>\n",
       "      <td>99.02</td>\n",
       "    </tr>\n",
       "  </tbody>\n",
       "</table>\n",
       "</div>"
      ],
      "text/plain": [
       "   Customer Identity  First Policy´s Year  Brithday Year Educational Degree  \\\n",
       "0                  1               1985.0         1982.0    2 - High School   \n",
       "1                  2               1981.0         1995.0    2 - High School   \n",
       "2                  3               1991.0         1970.0          1 - Basic   \n",
       "\n",
       "   Gross Monthly Salary  Geographic Living Area  Has Children (Y=1)  \\\n",
       "0                2177.0                     1.0                 1.0   \n",
       "1                 677.0                     4.0                 1.0   \n",
       "2                2277.0                     3.0                 0.0   \n",
       "\n",
       "   Customer Monetary Value  Claims Rate  Premiums in LOB: Motor  \\\n",
       "0                   380.97         0.39                  375.85   \n",
       "1                  -131.13         1.12                   77.46   \n",
       "2                   504.67         0.28                  206.15   \n",
       "\n",
       "   Premiums in LOB: Household  Premiums in LOB: Health  \\\n",
       "0                       79.45                   146.36   \n",
       "1                      416.20                   116.69   \n",
       "2                      224.50                   124.58   \n",
       "\n",
       "   Premiums in LOB:  Life  Premiums in LOB: Work Compensations  \n",
       "0                   47.01                                16.89  \n",
       "1                  194.48                               106.13  \n",
       "2                   86.35                                99.02  "
      ]
     },
     "execution_count": 1,
     "metadata": {},
     "output_type": "execute_result"
    }
   ],
   "source": [
    "import pandas as pd \n",
    "\n",
    "df = pd.read_csv('A2Z_insurance.csv')\n",
    "df.head(3)"
   ]
  },
  {
   "cell_type": "code",
   "execution_count": 2,
   "metadata": {},
   "outputs": [],
   "source": [
    "#Age Columns\n",
    "df['Age'] = 2016 - df['Brithday Year']\n",
    "df['Client Age'] = 2016 - df['First Policy´s Year']"
   ]
  },
  {
   "cell_type": "code",
   "execution_count": 3,
   "metadata": {
    "scrolled": true
   },
   "outputs": [
    {
     "data": {
      "text/html": [
       "<div>\n",
       "<style scoped>\n",
       "    .dataframe tbody tr th:only-of-type {\n",
       "        vertical-align: middle;\n",
       "    }\n",
       "\n",
       "    .dataframe tbody tr th {\n",
       "        vertical-align: top;\n",
       "    }\n",
       "\n",
       "    .dataframe thead th {\n",
       "        text-align: right;\n",
       "    }\n",
       "</style>\n",
       "<table border=\"1\" class=\"dataframe\">\n",
       "  <thead>\n",
       "    <tr style=\"text-align: right;\">\n",
       "      <th></th>\n",
       "      <th>Customer Identity</th>\n",
       "      <th>First Policy´s Year</th>\n",
       "      <th>Brithday Year</th>\n",
       "      <th>Educational Degree</th>\n",
       "      <th>Gross Monthly Salary</th>\n",
       "      <th>Geographic Living Area</th>\n",
       "      <th>Has Children (Y=1)</th>\n",
       "      <th>Customer Monetary Value</th>\n",
       "      <th>Claims Rate</th>\n",
       "      <th>Premiums in LOB: Motor</th>\n",
       "      <th>Premiums in LOB: Household</th>\n",
       "      <th>Premiums in LOB: Health</th>\n",
       "      <th>Premiums in LOB:  Life</th>\n",
       "      <th>Premiums in LOB: Work Compensations</th>\n",
       "      <th>Age</th>\n",
       "      <th>Client Age</th>\n",
       "    </tr>\n",
       "  </thead>\n",
       "  <tbody>\n",
       "    <tr>\n",
       "      <th>659</th>\n",
       "      <td>660</td>\n",
       "      <td>1991.0</td>\n",
       "      <td>2001.0</td>\n",
       "      <td>1 - Basic</td>\n",
       "      <td>1284.0</td>\n",
       "      <td>4.0</td>\n",
       "      <td>1.0</td>\n",
       "      <td>243.50</td>\n",
       "      <td>0.81</td>\n",
       "      <td>46.23</td>\n",
       "      <td>1079.65</td>\n",
       "      <td>72.68</td>\n",
       "      <td>252.27</td>\n",
       "      <td>-10.00</td>\n",
       "      <td>15.0</td>\n",
       "      <td>25.0</td>\n",
       "    </tr>\n",
       "    <tr>\n",
       "      <th>689</th>\n",
       "      <td>690</td>\n",
       "      <td>1997.0</td>\n",
       "      <td>2001.0</td>\n",
       "      <td>1 - Basic</td>\n",
       "      <td>1180.0</td>\n",
       "      <td>3.0</td>\n",
       "      <td>1.0</td>\n",
       "      <td>436.10</td>\n",
       "      <td>0.48</td>\n",
       "      <td>54.90</td>\n",
       "      <td>406.20</td>\n",
       "      <td>65.79</td>\n",
       "      <td>112.02</td>\n",
       "      <td>256.05</td>\n",
       "      <td>15.0</td>\n",
       "      <td>19.0</td>\n",
       "    </tr>\n",
       "    <tr>\n",
       "      <th>865</th>\n",
       "      <td>866</td>\n",
       "      <td>1979.0</td>\n",
       "      <td>2001.0</td>\n",
       "      <td>1 - Basic</td>\n",
       "      <td>562.0</td>\n",
       "      <td>1.0</td>\n",
       "      <td>1.0</td>\n",
       "      <td>1113.78</td>\n",
       "      <td>0.11</td>\n",
       "      <td>40.34</td>\n",
       "      <td>847.95</td>\n",
       "      <td>94.24</td>\n",
       "      <td>178.70</td>\n",
       "      <td>112.13</td>\n",
       "      <td>15.0</td>\n",
       "      <td>37.0</td>\n",
       "    </tr>\n",
       "    <tr>\n",
       "      <th>1436</th>\n",
       "      <td>1437</td>\n",
       "      <td>1989.0</td>\n",
       "      <td>2001.0</td>\n",
       "      <td>1 - Basic</td>\n",
       "      <td>823.0</td>\n",
       "      <td>4.0</td>\n",
       "      <td>0.0</td>\n",
       "      <td>281.28</td>\n",
       "      <td>0.60</td>\n",
       "      <td>129.58</td>\n",
       "      <td>177.80</td>\n",
       "      <td>58.01</td>\n",
       "      <td>176.70</td>\n",
       "      <td>218.15</td>\n",
       "      <td>15.0</td>\n",
       "      <td>27.0</td>\n",
       "    </tr>\n",
       "    <tr>\n",
       "      <th>2579</th>\n",
       "      <td>2580</td>\n",
       "      <td>1986.0</td>\n",
       "      <td>2001.0</td>\n",
       "      <td>1 - Basic</td>\n",
       "      <td>1006.0</td>\n",
       "      <td>4.0</td>\n",
       "      <td>0.0</td>\n",
       "      <td>267.95</td>\n",
       "      <td>0.67</td>\n",
       "      <td>48.23</td>\n",
       "      <td>396.75</td>\n",
       "      <td>291.50</td>\n",
       "      <td>127.58</td>\n",
       "      <td>24.45</td>\n",
       "      <td>15.0</td>\n",
       "      <td>30.0</td>\n",
       "    </tr>\n",
       "    <tr>\n",
       "      <th>3146</th>\n",
       "      <td>3147</td>\n",
       "      <td>1994.0</td>\n",
       "      <td>2001.0</td>\n",
       "      <td>1 - Basic</td>\n",
       "      <td>372.0</td>\n",
       "      <td>4.0</td>\n",
       "      <td>1.0</td>\n",
       "      <td>488.76</td>\n",
       "      <td>0.36</td>\n",
       "      <td>60.68</td>\n",
       "      <td>270.60</td>\n",
       "      <td>177.59</td>\n",
       "      <td>182.48</td>\n",
       "      <td>107.13</td>\n",
       "      <td>15.0</td>\n",
       "      <td>22.0</td>\n",
       "    </tr>\n",
       "    <tr>\n",
       "      <th>4465</th>\n",
       "      <td>4466</td>\n",
       "      <td>1978.0</td>\n",
       "      <td>2001.0</td>\n",
       "      <td>1 - Basic</td>\n",
       "      <td>958.0</td>\n",
       "      <td>4.0</td>\n",
       "      <td>0.0</td>\n",
       "      <td>-204.59</td>\n",
       "      <td>1.11</td>\n",
       "      <td>28.56</td>\n",
       "      <td>1359.15</td>\n",
       "      <td>68.79</td>\n",
       "      <td>38.23</td>\n",
       "      <td>179.59</td>\n",
       "      <td>15.0</td>\n",
       "      <td>38.0</td>\n",
       "    </tr>\n",
       "    <tr>\n",
       "      <th>4483</th>\n",
       "      <td>4484</td>\n",
       "      <td>1983.0</td>\n",
       "      <td>2001.0</td>\n",
       "      <td>1 - Basic</td>\n",
       "      <td>1241.0</td>\n",
       "      <td>3.0</td>\n",
       "      <td>1.0</td>\n",
       "      <td>909.17</td>\n",
       "      <td>0.13</td>\n",
       "      <td>43.34</td>\n",
       "      <td>589.55</td>\n",
       "      <td>142.47</td>\n",
       "      <td>121.80</td>\n",
       "      <td>179.48</td>\n",
       "      <td>15.0</td>\n",
       "      <td>33.0</td>\n",
       "    </tr>\n",
       "    <tr>\n",
       "      <th>5347</th>\n",
       "      <td>5348</td>\n",
       "      <td>1980.0</td>\n",
       "      <td>2001.0</td>\n",
       "      <td>1 - Basic</td>\n",
       "      <td>1119.0</td>\n",
       "      <td>3.0</td>\n",
       "      <td>1.0</td>\n",
       "      <td>796.71</td>\n",
       "      <td>0.23</td>\n",
       "      <td>148.14</td>\n",
       "      <td>628.45</td>\n",
       "      <td>221.82</td>\n",
       "      <td>45.12</td>\n",
       "      <td>30.23</td>\n",
       "      <td>15.0</td>\n",
       "      <td>36.0</td>\n",
       "    </tr>\n",
       "    <tr>\n",
       "      <th>5607</th>\n",
       "      <td>5608</td>\n",
       "      <td>1974.0</td>\n",
       "      <td>2001.0</td>\n",
       "      <td>1 - Basic</td>\n",
       "      <td>1131.0</td>\n",
       "      <td>3.0</td>\n",
       "      <td>0.0</td>\n",
       "      <td>-25.00</td>\n",
       "      <td>1.00</td>\n",
       "      <td>43.23</td>\n",
       "      <td>690.70</td>\n",
       "      <td>157.03</td>\n",
       "      <td>87.35</td>\n",
       "      <td>142.25</td>\n",
       "      <td>15.0</td>\n",
       "      <td>42.0</td>\n",
       "    </tr>\n",
       "    <tr>\n",
       "      <th>8962</th>\n",
       "      <td>8963</td>\n",
       "      <td>1978.0</td>\n",
       "      <td>2001.0</td>\n",
       "      <td>1 - Basic</td>\n",
       "      <td>1117.0</td>\n",
       "      <td>4.0</td>\n",
       "      <td>0.0</td>\n",
       "      <td>1280.58</td>\n",
       "      <td>0.11</td>\n",
       "      <td>19.56</td>\n",
       "      <td>1109.10</td>\n",
       "      <td>55.90</td>\n",
       "      <td>230.82</td>\n",
       "      <td>53.90</td>\n",
       "      <td>15.0</td>\n",
       "      <td>38.0</td>\n",
       "    </tr>\n",
       "    <tr>\n",
       "      <th>9906</th>\n",
       "      <td>9907</td>\n",
       "      <td>1976.0</td>\n",
       "      <td>2001.0</td>\n",
       "      <td>1 - Basic</td>\n",
       "      <td>1422.0</td>\n",
       "      <td>1.0</td>\n",
       "      <td>1.0</td>\n",
       "      <td>467.31</td>\n",
       "      <td>0.37</td>\n",
       "      <td>69.68</td>\n",
       "      <td>231.15</td>\n",
       "      <td>201.26</td>\n",
       "      <td>191.48</td>\n",
       "      <td>82.35</td>\n",
       "      <td>15.0</td>\n",
       "      <td>40.0</td>\n",
       "    </tr>\n",
       "  </tbody>\n",
       "</table>\n",
       "</div>"
      ],
      "text/plain": [
       "      Customer Identity  First Policy´s Year  Brithday Year  \\\n",
       "659                 660               1991.0         2001.0   \n",
       "689                 690               1997.0         2001.0   \n",
       "865                 866               1979.0         2001.0   \n",
       "1436               1437               1989.0         2001.0   \n",
       "2579               2580               1986.0         2001.0   \n",
       "3146               3147               1994.0         2001.0   \n",
       "4465               4466               1978.0         2001.0   \n",
       "4483               4484               1983.0         2001.0   \n",
       "5347               5348               1980.0         2001.0   \n",
       "5607               5608               1974.0         2001.0   \n",
       "8962               8963               1978.0         2001.0   \n",
       "9906               9907               1976.0         2001.0   \n",
       "\n",
       "     Educational Degree  Gross Monthly Salary  Geographic Living Area  \\\n",
       "659           1 - Basic                1284.0                     4.0   \n",
       "689           1 - Basic                1180.0                     3.0   \n",
       "865           1 - Basic                 562.0                     1.0   \n",
       "1436          1 - Basic                 823.0                     4.0   \n",
       "2579          1 - Basic                1006.0                     4.0   \n",
       "3146          1 - Basic                 372.0                     4.0   \n",
       "4465          1 - Basic                 958.0                     4.0   \n",
       "4483          1 - Basic                1241.0                     3.0   \n",
       "5347          1 - Basic                1119.0                     3.0   \n",
       "5607          1 - Basic                1131.0                     3.0   \n",
       "8962          1 - Basic                1117.0                     4.0   \n",
       "9906          1 - Basic                1422.0                     1.0   \n",
       "\n",
       "      Has Children (Y=1)  Customer Monetary Value  Claims Rate  \\\n",
       "659                  1.0                   243.50         0.81   \n",
       "689                  1.0                   436.10         0.48   \n",
       "865                  1.0                  1113.78         0.11   \n",
       "1436                 0.0                   281.28         0.60   \n",
       "2579                 0.0                   267.95         0.67   \n",
       "3146                 1.0                   488.76         0.36   \n",
       "4465                 0.0                  -204.59         1.11   \n",
       "4483                 1.0                   909.17         0.13   \n",
       "5347                 1.0                   796.71         0.23   \n",
       "5607                 0.0                   -25.00         1.00   \n",
       "8962                 0.0                  1280.58         0.11   \n",
       "9906                 1.0                   467.31         0.37   \n",
       "\n",
       "      Premiums in LOB: Motor  Premiums in LOB: Household  \\\n",
       "659                    46.23                     1079.65   \n",
       "689                    54.90                      406.20   \n",
       "865                    40.34                      847.95   \n",
       "1436                  129.58                      177.80   \n",
       "2579                   48.23                      396.75   \n",
       "3146                   60.68                      270.60   \n",
       "4465                   28.56                     1359.15   \n",
       "4483                   43.34                      589.55   \n",
       "5347                  148.14                      628.45   \n",
       "5607                   43.23                      690.70   \n",
       "8962                   19.56                     1109.10   \n",
       "9906                   69.68                      231.15   \n",
       "\n",
       "      Premiums in LOB: Health  Premiums in LOB:  Life  \\\n",
       "659                     72.68                  252.27   \n",
       "689                     65.79                  112.02   \n",
       "865                     94.24                  178.70   \n",
       "1436                    58.01                  176.70   \n",
       "2579                   291.50                  127.58   \n",
       "3146                   177.59                  182.48   \n",
       "4465                    68.79                   38.23   \n",
       "4483                   142.47                  121.80   \n",
       "5347                   221.82                   45.12   \n",
       "5607                   157.03                   87.35   \n",
       "8962                    55.90                  230.82   \n",
       "9906                   201.26                  191.48   \n",
       "\n",
       "      Premiums in LOB: Work Compensations   Age  Client Age  \n",
       "659                                -10.00  15.0        25.0  \n",
       "689                                256.05  15.0        19.0  \n",
       "865                                112.13  15.0        37.0  \n",
       "1436                               218.15  15.0        27.0  \n",
       "2579                                24.45  15.0        30.0  \n",
       "3146                               107.13  15.0        22.0  \n",
       "4465                               179.59  15.0        38.0  \n",
       "4483                               179.48  15.0        33.0  \n",
       "5347                                30.23  15.0        36.0  \n",
       "5607                               142.25  15.0        42.0  \n",
       "8962                                53.90  15.0        38.0  \n",
       "9906                                82.35  15.0        40.0  "
      ]
     },
     "execution_count": 3,
     "metadata": {},
     "output_type": "execute_result"
    }
   ],
   "source": [
    "df[df['Age']<16]"
   ]
  },
  {
   "cell_type": "code",
   "execution_count": 4,
   "metadata": {},
   "outputs": [
    {
     "data": {
      "text/plain": [
       "12"
      ]
     },
     "execution_count": 4,
     "metadata": {},
     "output_type": "execute_result"
    }
   ],
   "source": [
    "df['Age'].loc[df['Age']<16].count()"
   ]
  },
  {
   "cell_type": "markdown",
   "metadata": {},
   "source": [
    "Seeing as there are clients under the age of 16 who are earing a salary (please note that the legal working age in Portugal is 16) and that there are only 12 of these instances, we can consider that these rows are errors and drop them"
   ]
  },
  {
   "cell_type": "code",
   "execution_count": 5,
   "metadata": {},
   "outputs": [],
   "source": [
    "#Removing the children\n",
    "\n",
    "df = df[df['Age'] >= 16]"
   ]
  },
  {
   "cell_type": "code",
   "execution_count": 17,
   "metadata": {},
   "outputs": [
    {
     "data": {
      "text/plain": [
       "array([[<matplotlib.axes._subplots.AxesSubplot object at 0x0000000005278630>]],\n",
       "      dtype=object)"
      ]
     },
     "execution_count": 17,
     "metadata": {},
     "output_type": "execute_result"
    },
    {
     "data": {
      "image/png": "[encoded data removed]",
      "text/plain": [
       "<Figure size 432x288 with 1 Axes>"
      ]
     },
     "metadata": {
      "needs_background": "light"
     },
     "output_type": "display_data"
    }
   ],
   "source": [
    "#Should we replace the Gross Monthly Salary with the mean or the median?\n",
    "\n",
    "df.hist(column='Gross Monthly Salary', bins=500)"
   ]
  },
  {
   "cell_type": "code",
   "execution_count": 15,
   "metadata": {},
   "outputs": [
    {
     "data": {
      "text/plain": [
       "5882    55215.0\n",
       "8261    34490.0\n",
       "7510     5021.0\n",
       "4244     4995.0\n",
       "4440     4904.0\n",
       "6902     4897.0\n",
       "4772     4883.0\n",
       "8284     4883.0\n",
       "9433     4883.0\n",
       "1406     4872.0\n",
       "Name: Gross Monthly Salary, dtype: float64"
      ]
     },
     "execution_count": 15,
     "metadata": {},
     "output_type": "execute_result"
    }
   ],
   "source": [
    "df['Gross Monthly Salary'].nlargest(10)"
   ]
  },
  {
   "cell_type": "markdown",
   "metadata": {},
   "source": [
    "The histogram of the data appears to be symmetric, however, there are outliers that are very removed from the rest of the data and, for that reason, we have chosen to replace the null values in the 'Gross Monthly Salary' column with the median and not the mean"
   ]
  },
  {
   "cell_type": "code",
   "execution_count": 18,
   "metadata": {},
   "outputs": [
    {
     "data": {
      "text/plain": [
       "0"
      ]
     },
     "execution_count": 18,
     "metadata": {},
     "output_type": "execute_result"
    }
   ],
   "source": [
    "median = df['Gross Monthly Salary'].median()\n",
    "df['Gross Monthly Salary'] = df['Gross Monthly Salary'].fillna(median)\n",
    "\n",
    "df['Gross Monthly Salary'].isnull().sum()"
   ]
  },
  {
   "cell_type": "code",
   "execution_count": 21,
   "metadata": {},
   "outputs": [
    {
     "data": {
      "text/plain": [
       "[0.12273170731707317,\n",
       " 0.34146341463414637,\n",
       " 0.46790243902439027,\n",
       " 0.06790243902439025]"
      ]
     },
     "execution_count": 21,
     "metadata": {},
     "output_type": "execute_result"
    }
   ],
   "source": [
    "edu_counts = df.groupby(['Educational Degree'])['Educational Degree'].count()\n",
    "fr = []\n",
    "total = df['Educational Degree'].count()\n",
    "\n",
    "for edu in edu_counts.values:\n",
    "    freq = edu/total\n",
    "    fr.append(freq)\n",
    "\n",
    "fr"
   ]
  },
  {
   "cell_type": "code",
   "execution_count": 22,
   "metadata": {},
   "outputs": [
    {
     "name": "stdout",
     "output_type": "stream",
     "text": [
      "17\n"
     ]
    },
    {
     "data": {
      "text/plain": [
       "[2.086439024390244, 5.8048780487804885, 7.954341463414635, 1.1543414634146343]"
      ]
     },
     "execution_count": 22,
     "metadata": {},
     "output_type": "execute_result"
    }
   ],
   "source": [
    "na_total = df['Educational Degree'].isna().sum()\n",
    "print(na_total)\n",
    "fr_na = []\n",
    "\n",
    "for freq in fr:\n",
    "    freq_na = na_total * freq\n",
    "    fr_na.append(freq_na)\n",
    "\n",
    "fr_na"
   ]
  },
  {
   "cell_type": "markdown",
   "metadata": {},
   "source": [
    "We are going to replace the nulls in 'Educational Degree' according to the current distribution of the values.\n",
    "\n",
    "We will use a roulette for this. This roulette will have '1 - Basic' 2 times, '2 - High School' 6 times, '3 - BSc/MSc'\n",
    "8 times, and '4 - PhD' 1 time."
   ]
  },
  {
   "cell_type": "code",
   "execution_count": 32,
   "metadata": {},
   "outputs": [
    {
     "data": {
      "text/plain": [
       "0"
      ]
     },
     "execution_count": 32,
     "metadata": {},
     "output_type": "execute_result"
    }
   ],
   "source": [
    "import random\n",
    "roulette = ['1 - Basic','1 - Basic','2 - High School','2 - High School','2 - High School','2 - High School','2 - High School','2 - High School','3 - BSc/MSc','3 - BSc/MSc','3 - BSc/MSc','3 - BSc/MSc','3 - BSc/MSc','3 - BSc/MSc','3 - BSc/MSc','3 - BSc/MSc','4 - PhD']\n",
    "secure_random = random.SystemRandom()\n",
    "na_ind = df[df['Educational Degree'].isnull()].index.tolist()\n",
    "\n",
    "for i in na_ind:\n",
    "    edu = secure_random.choice(roulette)\n",
    "    df['Educational Degree'].loc[i] = edu\n",
    "    \n",
    "df['Educational Degree'].isnull().sum()"
   ]
  }
 ],
 "metadata": {
  "kernelspec": {
   "display_name": "Python 3",
   "language": "python",
   "name": "python3"
  },
  "language_info": {
   "codemirror_mode": {
    "name": "ipython",
    "version": 3
   },
   "file_extension": ".py",
   "mimetype": "text/x-python",
   "name": "python",
   "nbconvert_exporter": "python",
   "pygments_lexer": "ipython3",
   "version": "3.7.3"
  }
 },
 "nbformat": 4,
 "nbformat_minor": 2
}
