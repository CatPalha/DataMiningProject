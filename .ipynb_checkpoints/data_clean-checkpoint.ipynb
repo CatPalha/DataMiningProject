{
 "cells": [
  {
   "cell_type": "markdown",
   "metadata": {},
   "source": [
    "# DATA CLEANING #"
   ]
  },
  {
   "cell_type": "markdown",
   "metadata": {},
   "source": [
    "**1) Removing NaN values***"
   ]
  },
  {
   "cell_type": "code",
   "execution_count": 17,
   "metadata": {},
   "outputs": [
    {
     "data": {
      "text/html": [
       "<div>\n",
       "<style scoped>\n",
       "    .dataframe tbody tr th:only-of-type {\n",
       "        vertical-align: middle;\n",
       "    }\n",
       "\n",
       "    .dataframe tbody tr th {\n",
       "        vertical-align: top;\n",
       "    }\n",
       "\n",
       "    .dataframe thead th {\n",
       "        text-align: right;\n",
       "    }\n",
       "</style>\n",
       "<table border=\"1\" class=\"dataframe\">\n",
       "  <thead>\n",
       "    <tr style=\"text-align: right;\">\n",
       "      <th></th>\n",
       "      <th>Customer Identity</th>\n",
       "      <th>First Policy´s Year</th>\n",
       "      <th>Brithday Year</th>\n",
       "      <th>Educational Degree</th>\n",
       "      <th>Gross Monthly Salary</th>\n",
       "      <th>Geographic Living Area</th>\n",
       "      <th>Has Children (Y=1)</th>\n",
       "      <th>Customer Monetary Value</th>\n",
       "      <th>Claims Rate</th>\n",
       "      <th>Premiums in LOB: Motor</th>\n",
       "      <th>Premiums in LOB: Household</th>\n",
       "      <th>Premiums in LOB: Health</th>\n",
       "      <th>Premiums in LOB:  Life</th>\n",
       "      <th>Premiums in LOB: Work Compensations</th>\n",
       "    </tr>\n",
       "  </thead>\n",
       "  <tbody>\n",
       "    <tr>\n",
       "      <th>0</th>\n",
       "      <td>1</td>\n",
       "      <td>1985.0</td>\n",
       "      <td>1982.0</td>\n",
       "      <td>2 - High School</td>\n",
       "      <td>2177.0</td>\n",
       "      <td>1.0</td>\n",
       "      <td>1.0</td>\n",
       "      <td>380.97</td>\n",
       "      <td>0.39</td>\n",
       "      <td>375.85</td>\n",
       "      <td>79.45</td>\n",
       "      <td>146.36</td>\n",
       "      <td>47.01</td>\n",
       "      <td>16.89</td>\n",
       "    </tr>\n",
       "    <tr>\n",
       "      <th>1</th>\n",
       "      <td>2</td>\n",
       "      <td>1981.0</td>\n",
       "      <td>1995.0</td>\n",
       "      <td>2 - High School</td>\n",
       "      <td>677.0</td>\n",
       "      <td>4.0</td>\n",
       "      <td>1.0</td>\n",
       "      <td>-131.13</td>\n",
       "      <td>1.12</td>\n",
       "      <td>77.46</td>\n",
       "      <td>416.20</td>\n",
       "      <td>116.69</td>\n",
       "      <td>194.48</td>\n",
       "      <td>106.13</td>\n",
       "    </tr>\n",
       "    <tr>\n",
       "      <th>2</th>\n",
       "      <td>3</td>\n",
       "      <td>1991.0</td>\n",
       "      <td>1970.0</td>\n",
       "      <td>1 - Basic</td>\n",
       "      <td>2277.0</td>\n",
       "      <td>3.0</td>\n",
       "      <td>0.0</td>\n",
       "      <td>504.67</td>\n",
       "      <td>0.28</td>\n",
       "      <td>206.15</td>\n",
       "      <td>224.50</td>\n",
       "      <td>124.58</td>\n",
       "      <td>86.35</td>\n",
       "      <td>99.02</td>\n",
       "    </tr>\n",
       "  </tbody>\n",
       "</table>\n",
       "</div>"
      ],
      "text/plain": [
       "   Customer Identity  First Policy´s Year  Brithday Year Educational Degree  \\\n",
       "0                  1               1985.0         1982.0    2 - High School   \n",
       "1                  2               1981.0         1995.0    2 - High School   \n",
       "2                  3               1991.0         1970.0          1 - Basic   \n",
       "\n",
       "   Gross Monthly Salary  Geographic Living Area  Has Children (Y=1)  \\\n",
       "0                2177.0                     1.0                 1.0   \n",
       "1                 677.0                     4.0                 1.0   \n",
       "2                2277.0                     3.0                 0.0   \n",
       "\n",
       "   Customer Monetary Value  Claims Rate  Premiums in LOB: Motor  \\\n",
       "0                   380.97         0.39                  375.85   \n",
       "1                  -131.13         1.12                   77.46   \n",
       "2                   504.67         0.28                  206.15   \n",
       "\n",
       "   Premiums in LOB: Household  Premiums in LOB: Health  \\\n",
       "0                       79.45                   146.36   \n",
       "1                      416.20                   116.69   \n",
       "2                      224.50                   124.58   \n",
       "\n",
       "   Premiums in LOB:  Life  Premiums in LOB: Work Compensations  \n",
       "0                   47.01                                16.89  \n",
       "1                  194.48                               106.13  \n",
       "2                   86.35                                99.02  "
      ]
     },
     "execution_count": 17,
     "metadata": {},
     "output_type": "execute_result"
    }
   ],
   "source": [
    "import pandas as pd \n",
    "\n",
    "df = pd.read_csv('A2Z_insurance.csv')\n",
    "df.head(3)"
   ]
  },
  {
   "cell_type": "code",
   "execution_count": 18,
   "metadata": {},
   "outputs": [],
   "source": [
    "#Age Columns\n",
    "df['Age'] = 2016 - df['Brithday Year']\n",
    "df['Client Age'] = 2016 - df['First Policy´s Year']"
   ]
  },
  {
   "cell_type": "code",
   "execution_count": 19,
   "metadata": {},
   "outputs": [],
   "source": [
    "#df[df['Age'] <= 18.0]"
   ]
  },
  {
   "cell_type": "code",
   "execution_count": 20,
   "metadata": {},
   "outputs": [],
   "source": [
    "#df[df['First Policy´s Year'] < df['Brithday Year']]"
   ]
  },
  {
   "cell_type": "code",
   "execution_count": 21,
   "metadata": {},
   "outputs": [
    {
     "name": "stdout",
     "output_type": "stream",
     "text": [
      "Int64Index([7195], dtype='int64')\n",
      "Int64Index([9294], dtype='int64')\n"
     ]
    }
   ],
   "source": [
    "#Removing the guy from the future and the one with 965y.\n",
    "\n",
    "print(df[df['Brithday Year'] == 1028.0].index) #Index 7197\n",
    "print(df[df['First Policy´s Year'] == 53784].index) #Index 9294\n",
    "\n",
    "df = df.drop([df.index[7195], df.index[9294]])"
   ]
  },
  {
   "cell_type": "code",
   "execution_count": 22,
   "metadata": {},
   "outputs": [
    {
     "name": "stdout",
     "output_type": "stream",
     "text": [
      "0    4.0\n",
      "dtype: float64\n"
     ]
    },
    {
     "data": {
      "text/plain": [
       "0"
      ]
     },
     "execution_count": 22,
     "metadata": {},
     "output_type": "execute_result"
    }
   ],
   "source": [
    "#Replacing the NaN values of Living Area column with the mode.\n",
    "\n",
    "mode_geo = df['Geographic Living Area'].mode()\n",
    "print(mode_geo)\n",
    "\n",
    "df['Geographic Living Area'] = df['Geographic Living Area'].fillna(4.0)\n",
    "\n",
    "df['Geographic Living Area'].isnull().sum()"
   ]
  },
  {
   "cell_type": "code",
   "execution_count": 23,
   "metadata": {},
   "outputs": [
    {
     "data": {
      "text/plain": [
       "Educational Degree\n",
       "1 - Basic          1981.905213\n",
       "2 - High School    2512.059395\n",
       "3 - BSc/MSc        2616.703370\n",
       "4 - PhD            2664.512195\n",
       "Name: Gross Monthly Salary, dtype: float64"
      ]
     },
     "execution_count": 23,
     "metadata": {},
     "output_type": "execute_result"
    }
   ],
   "source": [
    "df_edu = df[['Educational Degree', 'Gross Monthly Salary']]\n",
    "#df_edu\n",
    "\n",
    "df_not_nan = df_edu[df_edu.notna().any(axis = 1)]\n",
    "\n",
    "df_notNA_grouped = df_not_nan.groupby(['Educational Degree'])['Gross Monthly Salary'].mean()\n",
    "df_notNA_grouped"
   ]
  },
  {
   "cell_type": "code",
   "execution_count": 24,
   "metadata": {},
   "outputs": [
    {
     "data": {
      "text/plain": [
       "1"
      ]
     },
     "execution_count": 24,
     "metadata": {},
     "output_type": "execute_result"
    }
   ],
   "source": [
    "#Replacing the NaN values of Educational Degree column based on the mean of gross salary of which level of education.\n",
    "\n",
    "df.loc[896,'Educational Degree'] = '3 - BSc/MSc'\n",
    "\n",
    "df.loc[1707,'Educational Degree'] = '4 - PhD'\n",
    "\n",
    "df.loc[2449,'Educational Degree'] = '4 - PhD'\n",
    "\n",
    "df.loc[2728,'Educational Degree'] = '4 - PhD'\n",
    "\n",
    "df.loc[2770,'Educational Degree'] = '1 - Basic'\n",
    "\n",
    "df.loc[3056,'Educational Degree'] = '2 - High School'\n",
    "\n",
    "df.loc[4423,'Educational Degree'] = '4 - PhD'\n",
    "\n",
    "df.loc[6535,'Educational Degree'] = '2 - High School'\n",
    "\n",
    "df.loc[7321,'Educational Degree'] = '4 - PhD'\n",
    "\n",
    "df.loc[7470,'Educational Degree'] = '4 - PhD'\n",
    "\n",
    "df.loc[8081,'Educational Degree'] = '4 - PhD'\n",
    "\n",
    "df.loc[8173,'Educational Degree'] = '4 - PhD'\n",
    "\n",
    "df.loc[8303,'Educational Degree'] = '4 - PhD'\n",
    "\n",
    "df.loc[9136,'Educational Degree'] = '1 - Basic'\n",
    "\n",
    "df.loc[9136,'Educational Degree'] = '1 - Basic'\n",
    "\n",
    "df.loc[9312,'Educational Degree'] = '2 - High School'\n",
    "\n",
    "df.loc[9610,'Educational Degree'] = '4 - PhD'\n",
    "\n",
    "df['Educational Degree'].isnull().sum()"
   ]
  },
  {
   "cell_type": "code",
   "execution_count": null,
   "metadata": {},
   "outputs": [],
   "source": [
    "    "
   ]
  }
 ],
 "metadata": {
  "kernelspec": {
   "display_name": "Python 3",
   "language": "python",
   "name": "python3"
  },
  "language_info": {
   "codemirror_mode": {
    "name": "ipython",
    "version": 3
   },
   "file_extension": ".py",
   "mimetype": "text/x-python",
   "name": "python",
   "nbconvert_exporter": "python",
   "pygments_lexer": "ipython3",
   "version": "3.7.3"
  }
 },
 "nbformat": 4,
 "nbformat_minor": 4
}
