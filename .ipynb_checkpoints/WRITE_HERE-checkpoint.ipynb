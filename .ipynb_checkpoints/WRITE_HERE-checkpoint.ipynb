{
 "cells": [
  {
   "cell_type": "code",
   "execution_count": 2,
   "metadata": {},
   "outputs": [],
   "source": [
    "import pandas as pd"
   ]
  },
  {
   "cell_type": "code",
   "execution_count": 3,
   "metadata": {},
   "outputs": [],
   "source": [
    "df = pd.read_csv('A2Z_insurance.csv')"
   ]
  },
  {
   "cell_type": "code",
   "execution_count": 4,
   "metadata": {},
   "outputs": [],
   "source": [
    "def FirstLook(df):\n",
    "    \n",
    "    \"\"\"Given a dataFrame the function prints the best insights.\"\"\"\n",
    "    \n",
    "    print(\"First 5 rows of the dataFrame: \\n\\n\", df.head())\n",
    "    print(\"Shape: \\n\\n\", df.shape)\n",
    "    print(\"Columns names: \\n\\n\", df.columns)\n",
    "    print(\"Columns types: \\n\\n\", df.dtypes)\n",
    "    print(\"Description: \\n\\n\", df.describe())    "
   ]
  },
  {
   "cell_type": "code",
   "execution_count": 5,
   "metadata": {},
   "outputs": [
    {
     "name": "stdout",
     "output_type": "stream",
     "text": [
      "First 5 rows of the dataFrame: \n",
      "\n",
      "    Customer Identity  First Policy´s Year  Brithday Year Educational Degree  \\\n",
      "0                  1               1985.0         1982.0    2 - High School   \n",
      "1                  2               1981.0         1995.0    2 - High School   \n",
      "2                  3               1991.0         1970.0          1 - Basic   \n",
      "3                  4               1990.0         1981.0        3 - BSc/MSc   \n",
      "4                  5               1986.0         1973.0        3 - BSc/MSc   \n",
      "\n",
      "   Gross Monthly Salary  Geographic Living Area  Has Children (Y=1)  \\\n",
      "0                2177.0                     1.0                 1.0   \n",
      "1                 677.0                     4.0                 1.0   \n",
      "2                2277.0                     3.0                 0.0   \n",
      "3                1099.0                     4.0                 1.0   \n",
      "4                1763.0                     4.0                 1.0   \n",
      "\n",
      "   Customer Monetary Value  Claims Rate  Premiums in LOB: Motor  \\\n",
      "0                   380.97         0.39                  375.85   \n",
      "1                  -131.13         1.12                   77.46   \n",
      "2                   504.67         0.28                  206.15   \n",
      "3                   -16.99         0.99                  182.48   \n",
      "4                    35.23         0.90                  338.62   \n",
      "\n",
      "   Premiums in LOB: Household  Premiums in LOB: Health  \\\n",
      "0                       79.45                   146.36   \n",
      "1                      416.20                   116.69   \n",
      "2                      224.50                   124.58   \n",
      "3                       43.35                   311.17   \n",
      "4                       47.80                   182.59   \n",
      "\n",
      "   Premiums in LOB:  Life  Premiums in LOB: Work Compensations  \n",
      "0                   47.01                                16.89  \n",
      "1                  194.48                               106.13  \n",
      "2                   86.35                                99.02  \n",
      "3                   35.34                                28.34  \n",
      "4                   18.78                                41.45  \n",
      "Shape: \n",
      "\n",
      " (10296, 14)\n",
      "Columns names: \n",
      "\n",
      " Index(['Customer Identity', 'First Policy´s Year', 'Brithday Year',\n",
      "       'Educational Degree', 'Gross Monthly Salary', 'Geographic Living Area',\n",
      "       'Has Children (Y=1)', 'Customer Monetary Value', 'Claims Rate',\n",
      "       'Premiums in LOB: Motor', 'Premiums in LOB: Household',\n",
      "       'Premiums in LOB: Health', 'Premiums in LOB:  Life',\n",
      "       'Premiums in LOB: Work Compensations'],\n",
      "      dtype='object')\n",
      "Columns types: \n",
      "\n",
      " Customer Identity                        int64\n",
      "First Policy´s Year                    float64\n",
      "Brithday Year                          float64\n",
      "Educational Degree                      object\n",
      "Gross Monthly Salary                   float64\n",
      "Geographic Living Area                 float64\n",
      "Has Children (Y=1)                     float64\n",
      "Customer Monetary Value                float64\n",
      "Claims Rate                            float64\n",
      "Premiums in LOB: Motor                 float64\n",
      "Premiums in LOB: Household             float64\n",
      "Premiums in LOB: Health                float64\n",
      "Premiums in LOB:  Life                 float64\n",
      "Premiums in LOB: Work Compensations    float64\n",
      "dtype: object\n",
      "Description: \n",
      "\n",
      "        Customer Identity  First Policy´s Year  Brithday Year  \\\n",
      "count        10296.00000         10266.000000   10279.000000   \n",
      "mean          5148.50000          1991.062634    1968.007783   \n",
      "std           2972.34352           511.267913      19.709476   \n",
      "min              1.00000          1974.000000    1028.000000   \n",
      "25%           2574.75000          1980.000000    1953.000000   \n",
      "50%           5148.50000          1986.000000    1968.000000   \n",
      "75%           7722.25000          1992.000000    1983.000000   \n",
      "max          10296.00000         53784.000000    2001.000000   \n",
      "\n",
      "       Gross Monthly Salary  Geographic Living Area  Has Children (Y=1)  \\\n",
      "count          10260.000000            10295.000000        10275.000000   \n",
      "mean            2506.667057                2.709859            0.706764   \n",
      "std             1157.449634                1.266291            0.455268   \n",
      "min              333.000000                1.000000            0.000000   \n",
      "25%             1706.000000                1.000000            0.000000   \n",
      "50%             2501.500000                3.000000            1.000000   \n",
      "75%             3290.250000                4.000000            1.000000   \n",
      "max            55215.000000                4.000000            1.000000   \n",
      "\n",
      "       Customer Monetary Value   Claims Rate  Premiums in LOB: Motor  \\\n",
      "count             10296.000000  10296.000000            10262.000000   \n",
      "mean                177.892605      0.742772              300.470252   \n",
      "std                1945.811505      2.916964              211.914997   \n",
      "min             -165680.420000      0.000000               -4.110000   \n",
      "25%                  -9.440000      0.390000              190.590000   \n",
      "50%                 186.870000      0.720000              298.610000   \n",
      "75%                 399.777500      0.980000              408.300000   \n",
      "max               11875.890000    256.200000            11604.420000   \n",
      "\n",
      "       Premiums in LOB: Household  Premiums in LOB: Health  \\\n",
      "count                10296.000000             10253.000000   \n",
      "mean                   210.431192               171.580833   \n",
      "std                    352.595984               296.405976   \n",
      "min                    -75.000000                -2.110000   \n",
      "25%                     49.450000               111.800000   \n",
      "50%                    132.800000               162.810000   \n",
      "75%                    290.050000               219.820000   \n",
      "max                  25048.800000             28272.000000   \n",
      "\n",
      "       Premiums in LOB:  Life  Premiums in LOB: Work Compensations  \n",
      "count            10192.000000                         10210.000000  \n",
      "mean                41.855782                            41.277514  \n",
      "std                 47.480632                            51.513572  \n",
      "min                 -7.000000                           -12.000000  \n",
      "25%                  9.890000                            10.670000  \n",
      "50%                 25.560000                            25.670000  \n",
      "75%                 57.790000                            56.790000  \n",
      "max                398.300000                          1988.700000  \n"
     ]
    }
   ],
   "source": [
    "FirstLook(df)"
   ]
  },
  {
   "cell_type": "markdown",
   "metadata": {},
   "source": [
    "- First year policy max to high\n",
    "- Birthday year min to low"
   ]
  },
  {
   "cell_type": "code",
   "execution_count": 6,
   "metadata": {},
   "outputs": [
    {
     "data": {
      "text/html": [
       "<div>\n",
       "<style scoped>\n",
       "    .dataframe tbody tr th:only-of-type {\n",
       "        vertical-align: middle;\n",
       "    }\n",
       "\n",
       "    .dataframe tbody tr th {\n",
       "        vertical-align: top;\n",
       "    }\n",
       "\n",
       "    .dataframe thead th {\n",
       "        text-align: right;\n",
       "    }\n",
       "</style>\n",
       "<table border=\"1\" class=\"dataframe\">\n",
       "  <thead>\n",
       "    <tr style=\"text-align: right;\">\n",
       "      <th></th>\n",
       "      <th>Customer Identity</th>\n",
       "      <th>First Policy´s Year</th>\n",
       "      <th>Brithday Year</th>\n",
       "      <th>Educational Degree</th>\n",
       "      <th>Gross Monthly Salary</th>\n",
       "      <th>Geographic Living Area</th>\n",
       "      <th>Has Children (Y=1)</th>\n",
       "      <th>Customer Monetary Value</th>\n",
       "      <th>Claims Rate</th>\n",
       "      <th>Premiums in LOB: Motor</th>\n",
       "      <th>Premiums in LOB: Household</th>\n",
       "      <th>Premiums in LOB: Health</th>\n",
       "      <th>Premiums in LOB:  Life</th>\n",
       "      <th>Premiums in LOB: Work Compensations</th>\n",
       "      <th>Premiums Sum</th>\n",
       "    </tr>\n",
       "  </thead>\n",
       "  <tbody>\n",
       "    <tr>\n",
       "      <th>0</th>\n",
       "      <td>1</td>\n",
       "      <td>1985.0</td>\n",
       "      <td>1982.0</td>\n",
       "      <td>2 - High School</td>\n",
       "      <td>2177.0</td>\n",
       "      <td>1.0</td>\n",
       "      <td>1.0</td>\n",
       "      <td>380.97</td>\n",
       "      <td>0.39</td>\n",
       "      <td>375.85</td>\n",
       "      <td>79.45</td>\n",
       "      <td>146.36</td>\n",
       "      <td>47.01</td>\n",
       "      <td>16.89</td>\n",
       "      <td>665.56</td>\n",
       "    </tr>\n",
       "    <tr>\n",
       "      <th>1</th>\n",
       "      <td>2</td>\n",
       "      <td>1981.0</td>\n",
       "      <td>1995.0</td>\n",
       "      <td>2 - High School</td>\n",
       "      <td>677.0</td>\n",
       "      <td>4.0</td>\n",
       "      <td>1.0</td>\n",
       "      <td>-131.13</td>\n",
       "      <td>1.12</td>\n",
       "      <td>77.46</td>\n",
       "      <td>416.20</td>\n",
       "      <td>116.69</td>\n",
       "      <td>194.48</td>\n",
       "      <td>106.13</td>\n",
       "      <td>910.96</td>\n",
       "    </tr>\n",
       "    <tr>\n",
       "      <th>2</th>\n",
       "      <td>3</td>\n",
       "      <td>1991.0</td>\n",
       "      <td>1970.0</td>\n",
       "      <td>1 - Basic</td>\n",
       "      <td>2277.0</td>\n",
       "      <td>3.0</td>\n",
       "      <td>0.0</td>\n",
       "      <td>504.67</td>\n",
       "      <td>0.28</td>\n",
       "      <td>206.15</td>\n",
       "      <td>224.50</td>\n",
       "      <td>124.58</td>\n",
       "      <td>86.35</td>\n",
       "      <td>99.02</td>\n",
       "      <td>740.60</td>\n",
       "    </tr>\n",
       "    <tr>\n",
       "      <th>3</th>\n",
       "      <td>4</td>\n",
       "      <td>1990.0</td>\n",
       "      <td>1981.0</td>\n",
       "      <td>3 - BSc/MSc</td>\n",
       "      <td>1099.0</td>\n",
       "      <td>4.0</td>\n",
       "      <td>1.0</td>\n",
       "      <td>-16.99</td>\n",
       "      <td>0.99</td>\n",
       "      <td>182.48</td>\n",
       "      <td>43.35</td>\n",
       "      <td>311.17</td>\n",
       "      <td>35.34</td>\n",
       "      <td>28.34</td>\n",
       "      <td>600.68</td>\n",
       "    </tr>\n",
       "    <tr>\n",
       "      <th>4</th>\n",
       "      <td>5</td>\n",
       "      <td>1986.0</td>\n",
       "      <td>1973.0</td>\n",
       "      <td>3 - BSc/MSc</td>\n",
       "      <td>1763.0</td>\n",
       "      <td>4.0</td>\n",
       "      <td>1.0</td>\n",
       "      <td>35.23</td>\n",
       "      <td>0.90</td>\n",
       "      <td>338.62</td>\n",
       "      <td>47.80</td>\n",
       "      <td>182.59</td>\n",
       "      <td>18.78</td>\n",
       "      <td>41.45</td>\n",
       "      <td>629.24</td>\n",
       "    </tr>\n",
       "  </tbody>\n",
       "</table>\n",
       "</div>"
      ],
      "text/plain": [
       "   Customer Identity  First Policy´s Year  Brithday Year Educational Degree  \\\n",
       "0                  1               1985.0         1982.0    2 - High School   \n",
       "1                  2               1981.0         1995.0    2 - High School   \n",
       "2                  3               1991.0         1970.0          1 - Basic   \n",
       "3                  4               1990.0         1981.0        3 - BSc/MSc   \n",
       "4                  5               1986.0         1973.0        3 - BSc/MSc   \n",
       "\n",
       "   Gross Monthly Salary  Geographic Living Area  Has Children (Y=1)  \\\n",
       "0                2177.0                     1.0                 1.0   \n",
       "1                 677.0                     4.0                 1.0   \n",
       "2                2277.0                     3.0                 0.0   \n",
       "3                1099.0                     4.0                 1.0   \n",
       "4                1763.0                     4.0                 1.0   \n",
       "\n",
       "   Customer Monetary Value  Claims Rate  Premiums in LOB: Motor  \\\n",
       "0                   380.97         0.39                  375.85   \n",
       "1                  -131.13         1.12                   77.46   \n",
       "2                   504.67         0.28                  206.15   \n",
       "3                   -16.99         0.99                  182.48   \n",
       "4                    35.23         0.90                  338.62   \n",
       "\n",
       "   Premiums in LOB: Household  Premiums in LOB: Health  \\\n",
       "0                       79.45                   146.36   \n",
       "1                      416.20                   116.69   \n",
       "2                      224.50                   124.58   \n",
       "3                       43.35                   311.17   \n",
       "4                       47.80                   182.59   \n",
       "\n",
       "   Premiums in LOB:  Life  Premiums in LOB: Work Compensations  Premiums Sum  \n",
       "0                   47.01                                16.89        665.56  \n",
       "1                  194.48                               106.13        910.96  \n",
       "2                   86.35                                99.02        740.60  \n",
       "3                   35.34                                28.34        600.68  \n",
       "4                   18.78                                41.45        629.24  "
      ]
     },
     "execution_count": 6,
     "metadata": {},
     "output_type": "execute_result"
    }
   ],
   "source": [
    "df['Premiums Sum'] = df['Premiums in LOB: Motor'] +  df['Premiums in LOB: Household'] + df['Premiums in LOB: Health'] + df['Premiums in LOB:  Life'] + df['Premiums in LOB: Work Compensations']\n",
    "\n",
    "df.head()"
   ]
  },
  {
   "cell_type": "code",
   "execution_count": 7,
   "metadata": {},
   "outputs": [],
   "source": [
    "df['Amount Paid by the Insurance Company'] = df['Claims Rate'] * df['Premiums Sum']"
   ]
  },
  {
   "cell_type": "code",
   "execution_count": 8,
   "metadata": {},
   "outputs": [
    {
     "data": {
      "text/html": [
       "<div>\n",
       "<style scoped>\n",
       "    .dataframe tbody tr th:only-of-type {\n",
       "        vertical-align: middle;\n",
       "    }\n",
       "\n",
       "    .dataframe tbody tr th {\n",
       "        vertical-align: top;\n",
       "    }\n",
       "\n",
       "    .dataframe thead th {\n",
       "        text-align: right;\n",
       "    }\n",
       "</style>\n",
       "<table border=\"1\" class=\"dataframe\">\n",
       "  <thead>\n",
       "    <tr style=\"text-align: right;\">\n",
       "      <th></th>\n",
       "      <th>Customer Identity</th>\n",
       "      <th>First Policy´s Year</th>\n",
       "      <th>Brithday Year</th>\n",
       "      <th>Educational Degree</th>\n",
       "      <th>Gross Monthly Salary</th>\n",
       "      <th>Geographic Living Area</th>\n",
       "      <th>Has Children (Y=1)</th>\n",
       "      <th>Customer Monetary Value</th>\n",
       "      <th>Claims Rate</th>\n",
       "      <th>Premiums in LOB: Motor</th>\n",
       "      <th>Premiums in LOB: Household</th>\n",
       "      <th>Premiums in LOB: Health</th>\n",
       "      <th>Premiums in LOB:  Life</th>\n",
       "      <th>Premiums in LOB: Work Compensations</th>\n",
       "      <th>Premiums Sum</th>\n",
       "      <th>Amount Paid by the Insurance Company</th>\n",
       "      <th>Age</th>\n",
       "      <th>Age As Client</th>\n",
       "    </tr>\n",
       "  </thead>\n",
       "  <tbody>\n",
       "    <tr>\n",
       "      <th>0</th>\n",
       "      <td>1</td>\n",
       "      <td>1985.0</td>\n",
       "      <td>1982.0</td>\n",
       "      <td>2 - High School</td>\n",
       "      <td>2177.0</td>\n",
       "      <td>1.0</td>\n",
       "      <td>1.0</td>\n",
       "      <td>380.97</td>\n",
       "      <td>0.39</td>\n",
       "      <td>375.85</td>\n",
       "      <td>79.45</td>\n",
       "      <td>146.36</td>\n",
       "      <td>47.01</td>\n",
       "      <td>16.89</td>\n",
       "      <td>665.56</td>\n",
       "      <td>259.5684</td>\n",
       "      <td>34.0</td>\n",
       "      <td>31.0</td>\n",
       "    </tr>\n",
       "    <tr>\n",
       "      <th>1</th>\n",
       "      <td>2</td>\n",
       "      <td>1981.0</td>\n",
       "      <td>1995.0</td>\n",
       "      <td>2 - High School</td>\n",
       "      <td>677.0</td>\n",
       "      <td>4.0</td>\n",
       "      <td>1.0</td>\n",
       "      <td>-131.13</td>\n",
       "      <td>1.12</td>\n",
       "      <td>77.46</td>\n",
       "      <td>416.20</td>\n",
       "      <td>116.69</td>\n",
       "      <td>194.48</td>\n",
       "      <td>106.13</td>\n",
       "      <td>910.96</td>\n",
       "      <td>1020.2752</td>\n",
       "      <td>21.0</td>\n",
       "      <td>35.0</td>\n",
       "    </tr>\n",
       "    <tr>\n",
       "      <th>2</th>\n",
       "      <td>3</td>\n",
       "      <td>1991.0</td>\n",
       "      <td>1970.0</td>\n",
       "      <td>1 - Basic</td>\n",
       "      <td>2277.0</td>\n",
       "      <td>3.0</td>\n",
       "      <td>0.0</td>\n",
       "      <td>504.67</td>\n",
       "      <td>0.28</td>\n",
       "      <td>206.15</td>\n",
       "      <td>224.50</td>\n",
       "      <td>124.58</td>\n",
       "      <td>86.35</td>\n",
       "      <td>99.02</td>\n",
       "      <td>740.60</td>\n",
       "      <td>207.3680</td>\n",
       "      <td>46.0</td>\n",
       "      <td>25.0</td>\n",
       "    </tr>\n",
       "    <tr>\n",
       "      <th>3</th>\n",
       "      <td>4</td>\n",
       "      <td>1990.0</td>\n",
       "      <td>1981.0</td>\n",
       "      <td>3 - BSc/MSc</td>\n",
       "      <td>1099.0</td>\n",
       "      <td>4.0</td>\n",
       "      <td>1.0</td>\n",
       "      <td>-16.99</td>\n",
       "      <td>0.99</td>\n",
       "      <td>182.48</td>\n",
       "      <td>43.35</td>\n",
       "      <td>311.17</td>\n",
       "      <td>35.34</td>\n",
       "      <td>28.34</td>\n",
       "      <td>600.68</td>\n",
       "      <td>594.6732</td>\n",
       "      <td>35.0</td>\n",
       "      <td>26.0</td>\n",
       "    </tr>\n",
       "    <tr>\n",
       "      <th>4</th>\n",
       "      <td>5</td>\n",
       "      <td>1986.0</td>\n",
       "      <td>1973.0</td>\n",
       "      <td>3 - BSc/MSc</td>\n",
       "      <td>1763.0</td>\n",
       "      <td>4.0</td>\n",
       "      <td>1.0</td>\n",
       "      <td>35.23</td>\n",
       "      <td>0.90</td>\n",
       "      <td>338.62</td>\n",
       "      <td>47.80</td>\n",
       "      <td>182.59</td>\n",
       "      <td>18.78</td>\n",
       "      <td>41.45</td>\n",
       "      <td>629.24</td>\n",
       "      <td>566.3160</td>\n",
       "      <td>43.0</td>\n",
       "      <td>30.0</td>\n",
       "    </tr>\n",
       "  </tbody>\n",
       "</table>\n",
       "</div>"
      ],
      "text/plain": [
       "   Customer Identity  First Policy´s Year  Brithday Year Educational Degree  \\\n",
       "0                  1               1985.0         1982.0    2 - High School   \n",
       "1                  2               1981.0         1995.0    2 - High School   \n",
       "2                  3               1991.0         1970.0          1 - Basic   \n",
       "3                  4               1990.0         1981.0        3 - BSc/MSc   \n",
       "4                  5               1986.0         1973.0        3 - BSc/MSc   \n",
       "\n",
       "   Gross Monthly Salary  Geographic Living Area  Has Children (Y=1)  \\\n",
       "0                2177.0                     1.0                 1.0   \n",
       "1                 677.0                     4.0                 1.0   \n",
       "2                2277.0                     3.0                 0.0   \n",
       "3                1099.0                     4.0                 1.0   \n",
       "4                1763.0                     4.0                 1.0   \n",
       "\n",
       "   Customer Monetary Value  Claims Rate  Premiums in LOB: Motor  \\\n",
       "0                   380.97         0.39                  375.85   \n",
       "1                  -131.13         1.12                   77.46   \n",
       "2                   504.67         0.28                  206.15   \n",
       "3                   -16.99         0.99                  182.48   \n",
       "4                    35.23         0.90                  338.62   \n",
       "\n",
       "   Premiums in LOB: Household  Premiums in LOB: Health  \\\n",
       "0                       79.45                   146.36   \n",
       "1                      416.20                   116.69   \n",
       "2                      224.50                   124.58   \n",
       "3                       43.35                   311.17   \n",
       "4                       47.80                   182.59   \n",
       "\n",
       "   Premiums in LOB:  Life  Premiums in LOB: Work Compensations  Premiums Sum  \\\n",
       "0                   47.01                                16.89        665.56   \n",
       "1                  194.48                               106.13        910.96   \n",
       "2                   86.35                                99.02        740.60   \n",
       "3                   35.34                                28.34        600.68   \n",
       "4                   18.78                                41.45        629.24   \n",
       "\n",
       "   Amount Paid by the Insurance Company   Age  Age As Client  \n",
       "0                              259.5684  34.0           31.0  \n",
       "1                             1020.2752  21.0           35.0  \n",
       "2                              207.3680  46.0           25.0  \n",
       "3                              594.6732  35.0           26.0  \n",
       "4                              566.3160  43.0           30.0  "
      ]
     },
     "execution_count": 8,
     "metadata": {},
     "output_type": "execute_result"
    }
   ],
   "source": [
    "#Age Columns\n",
    "df['Age'] = 2016 - df['Brithday Year']\n",
    "df['Age As Client'] = 2016 - df['First Policy´s Year']\n",
    "\n",
    "df.head()\n"
   ]
  },
  {
   "cell_type": "code",
   "execution_count": 9,
   "metadata": {},
   "outputs": [
    {
     "name": "stdout",
     "output_type": "stream",
     "text": [
      "Int64Index([7195], dtype='int64')\n",
      "Int64Index([9294], dtype='int64')\n"
     ]
    }
   ],
   "source": [
    "#Removing the guy from the future and the one with 965y.\n",
    "\n",
    "print(df[df['Brithday Year'] == 1028.0].index) #Index 7195\n",
    "print(df[df['First Policy´s Year'] == 53784].index) #Index 9254\n",
    "\n",
    "df = df.drop([df.index[7195], df.index[9294]])"
   ]
  },
  {
   "cell_type": "code",
   "execution_count": 10,
   "metadata": {},
   "outputs": [
    {
     "data": {
      "text/plain": [
       "Customer Identity                         0\n",
       "First Policy´s Year                      30\n",
       "Brithday Year                            17\n",
       "Educational Degree                       17\n",
       "Gross Monthly Salary                     36\n",
       "Geographic Living Area                    1\n",
       "Has Children (Y=1)                       21\n",
       "Customer Monetary Value                   0\n",
       "Claims Rate                               0\n",
       "Premiums in LOB: Motor                   34\n",
       "Premiums in LOB: Household                0\n",
       "Premiums in LOB: Health                  43\n",
       "Premiums in LOB:  Life                  104\n",
       "Premiums in LOB: Work Compensations      86\n",
       "Premiums Sum                            225\n",
       "Amount Paid by the Insurance Company    225\n",
       "Age                                      17\n",
       "Age As Client                            30\n",
       "dtype: int64"
      ]
     },
     "execution_count": 10,
     "metadata": {},
     "output_type": "execute_result"
    }
   ],
   "source": [
    "df.isnull().sum()"
   ]
  },
  {
   "cell_type": "code",
   "execution_count": 11,
   "metadata": {},
   "outputs": [
    {
     "data": {
      "text/plain": [
       "(10294, 18)"
      ]
     },
     "execution_count": 11,
     "metadata": {},
     "output_type": "execute_result"
    }
   ],
   "source": [
    "df.shape"
   ]
  },
  {
   "cell_type": "code",
   "execution_count": 12,
   "metadata": {},
   "outputs": [],
   "source": [
    "df = df.dropna()"
   ]
  },
  {
   "cell_type": "code",
   "execution_count": 13,
   "metadata": {},
   "outputs": [
    {
     "data": {
      "text/plain": [
       "(9985, 18)"
      ]
     },
     "execution_count": 13,
     "metadata": {},
     "output_type": "execute_result"
    }
   ],
   "source": [
    "df.shape"
   ]
  },
  {
   "cell_type": "code",
   "execution_count": 14,
   "metadata": {},
   "outputs": [
    {
     "data": {
      "text/plain": [
       "Customer Identity                       0\n",
       "First Policy´s Year                     0\n",
       "Brithday Year                           0\n",
       "Educational Degree                      0\n",
       "Gross Monthly Salary                    0\n",
       "Geographic Living Area                  0\n",
       "Has Children (Y=1)                      0\n",
       "Customer Monetary Value                 0\n",
       "Claims Rate                             0\n",
       "Premiums in LOB: Motor                  0\n",
       "Premiums in LOB: Household              0\n",
       "Premiums in LOB: Health                 0\n",
       "Premiums in LOB:  Life                  0\n",
       "Premiums in LOB: Work Compensations     0\n",
       "Premiums Sum                            0\n",
       "Amount Paid by the Insurance Company    0\n",
       "Age                                     0\n",
       "Age As Client                           0\n",
       "dtype: int64"
      ]
     },
     "execution_count": 14,
     "metadata": {},
     "output_type": "execute_result"
    }
   ],
   "source": [
    "df.isnull().sum()"
   ]
  },
  {
   "cell_type": "code",
   "execution_count": 15,
   "metadata": {},
   "outputs": [],
   "source": [
    "df['Annual Salary'] = df['Gross Monthly Salary']*12"
   ]
  },
  {
   "cell_type": "code",
   "execution_count": 16,
   "metadata": {},
   "outputs": [
    {
     "data": {
      "text/html": [
       "<div>\n",
       "<style scoped>\n",
       "    .dataframe tbody tr th:only-of-type {\n",
       "        vertical-align: middle;\n",
       "    }\n",
       "\n",
       "    .dataframe tbody tr th {\n",
       "        vertical-align: top;\n",
       "    }\n",
       "\n",
       "    .dataframe thead th {\n",
       "        text-align: right;\n",
       "    }\n",
       "</style>\n",
       "<table border=\"1\" class=\"dataframe\">\n",
       "  <thead>\n",
       "    <tr style=\"text-align: right;\">\n",
       "      <th></th>\n",
       "      <th>Customer Identity</th>\n",
       "      <th>First Policy´s Year</th>\n",
       "      <th>Brithday Year</th>\n",
       "      <th>Educational Degree</th>\n",
       "      <th>Gross Monthly Salary</th>\n",
       "      <th>Geographic Living Area</th>\n",
       "      <th>Has Children (Y=1)</th>\n",
       "      <th>Customer Monetary Value</th>\n",
       "      <th>Claims Rate</th>\n",
       "      <th>Premiums in LOB: Motor</th>\n",
       "      <th>Premiums in LOB: Household</th>\n",
       "      <th>Premiums in LOB: Health</th>\n",
       "      <th>Premiums in LOB:  Life</th>\n",
       "      <th>Premiums in LOB: Work Compensations</th>\n",
       "      <th>Premiums Sum</th>\n",
       "      <th>Amount Paid by the Insurance Company</th>\n",
       "      <th>Age</th>\n",
       "      <th>Age As Client</th>\n",
       "      <th>Annual Salary</th>\n",
       "    </tr>\n",
       "  </thead>\n",
       "  <tbody>\n",
       "    <tr>\n",
       "      <th>9149</th>\n",
       "      <td>9150</td>\n",
       "      <td>1985.0</td>\n",
       "      <td>1994.0</td>\n",
       "      <td>2 - High School</td>\n",
       "      <td>987.0</td>\n",
       "      <td>3.0</td>\n",
       "      <td>1.0</td>\n",
       "      <td>804.05</td>\n",
       "      <td>0.97</td>\n",
       "      <td>26.34</td>\n",
       "      <td>829.05</td>\n",
       "      <td>28272.0</td>\n",
       "      <td>65.68</td>\n",
       "      <td>138.25</td>\n",
       "      <td>29331.32</td>\n",
       "      <td>28451.3804</td>\n",
       "      <td>22.0</td>\n",
       "      <td>31.0</td>\n",
       "      <td>11844.0</td>\n",
       "    </tr>\n",
       "  </tbody>\n",
       "</table>\n",
       "</div>"
      ],
      "text/plain": [
       "      Customer Identity  First Policy´s Year  Brithday Year  \\\n",
       "9149               9150               1985.0         1994.0   \n",
       "\n",
       "     Educational Degree  Gross Monthly Salary  Geographic Living Area  \\\n",
       "9149    2 - High School                 987.0                     3.0   \n",
       "\n",
       "      Has Children (Y=1)  Customer Monetary Value  Claims Rate  \\\n",
       "9149                 1.0                   804.05         0.97   \n",
       "\n",
       "      Premiums in LOB: Motor  Premiums in LOB: Household  \\\n",
       "9149                   26.34                      829.05   \n",
       "\n",
       "      Premiums in LOB: Health  Premiums in LOB:  Life  \\\n",
       "9149                  28272.0                   65.68   \n",
       "\n",
       "      Premiums in LOB: Work Compensations  Premiums Sum  \\\n",
       "9149                               138.25      29331.32   \n",
       "\n",
       "      Amount Paid by the Insurance Company   Age  Age As Client  Annual Salary  \n",
       "9149                            28451.3804  22.0           31.0        11844.0  "
      ]
     },
     "execution_count": 16,
     "metadata": {},
     "output_type": "execute_result"
    }
   ],
   "source": [
    "df[df['Premiums Sum'] > df['Annual Salary']]"
   ]
  },
  {
   "cell_type": "code",
   "execution_count": 17,
   "metadata": {},
   "outputs": [],
   "source": [
    "df = df.drop(df.index[9149])"
   ]
  },
  {
   "cell_type": "code",
   "execution_count": 18,
   "metadata": {},
   "outputs": [
    {
     "name": "stdout",
     "output_type": "stream",
     "text": [
      "First 5 rows of the dataFrame: \n",
      "\n",
      "    Customer Identity  First Policy´s Year  Brithday Year Educational Degree  \\\n",
      "0                  1               1985.0         1982.0    2 - High School   \n",
      "1                  2               1981.0         1995.0    2 - High School   \n",
      "2                  3               1991.0         1970.0          1 - Basic   \n",
      "3                  4               1990.0         1981.0        3 - BSc/MSc   \n",
      "4                  5               1986.0         1973.0        3 - BSc/MSc   \n",
      "\n",
      "   Gross Monthly Salary  Geographic Living Area  Has Children (Y=1)  \\\n",
      "0                2177.0                     1.0                 1.0   \n",
      "1                 677.0                     4.0                 1.0   \n",
      "2                2277.0                     3.0                 0.0   \n",
      "3                1099.0                     4.0                 1.0   \n",
      "4                1763.0                     4.0                 1.0   \n",
      "\n",
      "   Customer Monetary Value  Claims Rate  Premiums in LOB: Motor  \\\n",
      "0                   380.97         0.39                  375.85   \n",
      "1                  -131.13         1.12                   77.46   \n",
      "2                   504.67         0.28                  206.15   \n",
      "3                   -16.99         0.99                  182.48   \n",
      "4                    35.23         0.90                  338.62   \n",
      "\n",
      "   Premiums in LOB: Household  Premiums in LOB: Health  \\\n",
      "0                       79.45                   146.36   \n",
      "1                      416.20                   116.69   \n",
      "2                      224.50                   124.58   \n",
      "3                       43.35                   311.17   \n",
      "4                       47.80                   182.59   \n",
      "\n",
      "   Premiums in LOB:  Life  Premiums in LOB: Work Compensations  Premiums Sum  \\\n",
      "0                   47.01                                16.89        665.56   \n",
      "1                  194.48                               106.13        910.96   \n",
      "2                   86.35                                99.02        740.60   \n",
      "3                   35.34                                28.34        600.68   \n",
      "4                   18.78                                41.45        629.24   \n",
      "\n",
      "   Amount Paid by the Insurance Company   Age  Age As Client  Annual Salary  \n",
      "0                              259.5684  34.0           31.0        26124.0  \n",
      "1                             1020.2752  21.0           35.0         8124.0  \n",
      "2                              207.3680  46.0           25.0        27324.0  \n",
      "3                              594.6732  35.0           26.0        13188.0  \n",
      "4                              566.3160  43.0           30.0        21156.0  \n",
      "Shape: \n",
      "\n",
      " (9984, 19)\n",
      "Columns names: \n",
      "\n",
      " Index(['Customer Identity', 'First Policy´s Year', 'Brithday Year',\n",
      "       'Educational Degree', 'Gross Monthly Salary', 'Geographic Living Area',\n",
      "       'Has Children (Y=1)', 'Customer Monetary Value', 'Claims Rate',\n",
      "       'Premiums in LOB: Motor', 'Premiums in LOB: Household',\n",
      "       'Premiums in LOB: Health', 'Premiums in LOB:  Life',\n",
      "       'Premiums in LOB: Work Compensations', 'Premiums Sum',\n",
      "       'Amount Paid by the Insurance Company', 'Age', 'Age As Client',\n",
      "       'Annual Salary'],\n",
      "      dtype='object')\n",
      "Columns types: \n",
      "\n",
      " Customer Identity                         int64\n",
      "First Policy´s Year                     float64\n",
      "Brithday Year                           float64\n",
      "Educational Degree                       object\n",
      "Gross Monthly Salary                    float64\n",
      "Geographic Living Area                  float64\n",
      "Has Children (Y=1)                      float64\n",
      "Customer Monetary Value                 float64\n",
      "Claims Rate                             float64\n",
      "Premiums in LOB: Motor                  float64\n",
      "Premiums in LOB: Household              float64\n",
      "Premiums in LOB: Health                 float64\n",
      "Premiums in LOB:  Life                  float64\n",
      "Premiums in LOB: Work Compensations     float64\n",
      "Premiums Sum                            float64\n",
      "Amount Paid by the Insurance Company    float64\n",
      "Age                                     float64\n",
      "Age As Client                           float64\n",
      "Annual Salary                           float64\n",
      "dtype: object\n",
      "Description: \n",
      "\n",
      "        Customer Identity  First Policy´s Year  Brithday Year  \\\n",
      "count        9984.000000          9984.000000    9984.000000   \n",
      "mean         5152.268630          1986.021434    1968.118089   \n",
      "std          2974.035024             6.604824      17.433889   \n",
      "min             1.000000          1974.000000    1935.000000   \n",
      "25%          2577.750000          1980.000000    1953.000000   \n",
      "50%          5160.500000          1986.000000    1968.000000   \n",
      "75%          7725.250000          1992.000000    1983.000000   \n",
      "max         10296.000000          1998.000000    2001.000000   \n",
      "\n",
      "       Gross Monthly Salary  Geographic Living Area  Has Children (Y=1)  \\\n",
      "count           9984.000000             9984.000000         9984.000000   \n",
      "mean            2505.545473                2.714343            0.705629   \n",
      "std             1164.223978                1.266672            0.455782   \n",
      "min              333.000000                1.000000            0.000000   \n",
      "25%             1699.750000                1.000000            0.000000   \n",
      "50%             2500.000000                3.000000            1.000000   \n",
      "75%             3293.000000                4.000000            1.000000   \n",
      "max            55215.000000                4.000000            1.000000   \n",
      "\n",
      "       Customer Monetary Value  Claims Rate  Premiums in LOB: Motor  \\\n",
      "count              9984.000000  9984.000000             9984.000000   \n",
      "mean                177.743391     0.745516              298.930187   \n",
      "std                1975.521669     2.961168              213.395501   \n",
      "min             -165680.420000     0.000000               -4.110000   \n",
      "25%                  -8.220000     0.400000              189.590000   \n",
      "50%                 187.815000     0.720000              297.280000   \n",
      "75%                 399.860000     0.980000              406.300000   \n",
      "max               11875.890000   256.200000            11604.420000   \n",
      "\n",
      "       Premiums in LOB: Household  Premiums in LOB: Health  \\\n",
      "count                 9984.000000              9984.000000   \n",
      "mean                   212.981370               172.324794   \n",
      "std                    356.146889               300.097856   \n",
      "min                    -75.000000                -2.110000   \n",
      "25%                     50.000000               112.020000   \n",
      "50%                    133.900000               163.030000   \n",
      "75%                    294.500000               219.930000   \n",
      "max                  25048.800000             28272.000000   \n",
      "\n",
      "       Premiums in LOB:  Life  Premiums in LOB: Work Compensations  \\\n",
      "count             9984.000000                          9984.000000   \n",
      "mean                42.011665                            41.500087   \n",
      "std                 47.629093                            51.737611   \n",
      "min                 -7.000000                           -12.000000   \n",
      "25%                  9.890000                            10.670000   \n",
      "50%                 25.560000                            26.340000   \n",
      "75%                 57.900000                            56.790000   \n",
      "max                398.300000                          1988.700000   \n",
      "\n",
      "       Premiums Sum  Amount Paid by the Insurance Company          Age  \\\n",
      "count   9984.000000                           9984.000000  9984.000000   \n",
      "mean     767.748103                            564.998843    47.881911   \n",
      "std      477.554004                           2012.217760    17.433889   \n",
      "min      463.640000                              0.000000    15.000000   \n",
      "25%      628.652500                            296.958000    33.000000   \n",
      "50%      700.915000                            546.911850    48.000000   \n",
      "75%      827.032500                            649.618200    63.000000   \n",
      "max    29331.320000                         166304.544000    81.000000   \n",
      "\n",
      "       Age As Client  Annual Salary  \n",
      "count    9984.000000    9984.000000  \n",
      "mean       29.978566   30066.545673  \n",
      "std         6.604824   13970.687733  \n",
      "min        18.000000    3996.000000  \n",
      "25%        24.000000   20397.000000  \n",
      "50%        30.000000   30000.000000  \n",
      "75%        36.000000   39516.000000  \n",
      "max        42.000000  662580.000000  \n"
     ]
    }
   ],
   "source": [
    "FirstLook(df)"
   ]
  },
  {
   "cell_type": "markdown",
   "metadata": {},
   "source": [
    "Let's drop those."
   ]
  },
  {
   "cell_type": "code",
   "execution_count": 19,
   "metadata": {},
   "outputs": [
    {
     "data": {
      "text/plain": [
       "Index(['Customer Identity', 'First Policy´s Year', 'Brithday Year',\n",
       "       'Educational Degree', 'Gross Monthly Salary', 'Geographic Living Area',\n",
       "       'Has Children (Y=1)', 'Customer Monetary Value', 'Claims Rate',\n",
       "       'Premiums in LOB: Motor', 'Premiums in LOB: Household',\n",
       "       'Premiums in LOB: Health', 'Premiums in LOB:  Life',\n",
       "       'Premiums in LOB: Work Compensations', 'Premiums Sum',\n",
       "       'Amount Paid by the Insurance Company', 'Age', 'Age As Client',\n",
       "       'Annual Salary'],\n",
       "      dtype='object')"
      ]
     },
     "execution_count": 19,
     "metadata": {},
     "output_type": "execute_result"
    }
   ],
   "source": [
    "df = df[df['Brithday Year'] < df['First Policy´s Year']]\n",
    "df.shape\n",
    "df.columns"
   ]
  },
  {
   "cell_type": "code",
   "execution_count": 20,
   "metadata": {},
   "outputs": [],
   "source": [
    "#to_remove = list(df_wrong['Brithday Year'])\n",
    "\n",
    "#MAFALDA: This is not running and I don't know where this comes from"
   ]
  },
  {
   "cell_type": "code",
   "execution_count": 21,
   "metadata": {},
   "outputs": [
    {
     "data": {
      "text/plain": [
       "0"
      ]
     },
     "execution_count": 21,
     "metadata": {},
     "output_type": "execute_result"
    }
   ],
   "source": [
    "df.duplicated().sum()"
   ]
  },
  {
   "cell_type": "code",
   "execution_count": 22,
   "metadata": {},
   "outputs": [
    {
     "data": {
      "text/html": [
       "<div>\n",
       "<style scoped>\n",
       "    .dataframe tbody tr th:only-of-type {\n",
       "        vertical-align: middle;\n",
       "    }\n",
       "\n",
       "    .dataframe tbody tr th {\n",
       "        vertical-align: top;\n",
       "    }\n",
       "\n",
       "    .dataframe thead th {\n",
       "        text-align: right;\n",
       "    }\n",
       "</style>\n",
       "<table border=\"1\" class=\"dataframe\">\n",
       "  <thead>\n",
       "    <tr style=\"text-align: right;\">\n",
       "      <th></th>\n",
       "      <th>Customer Identity</th>\n",
       "      <th>First Policy´s Year</th>\n",
       "      <th>Brithday Year</th>\n",
       "      <th>Educational Degree</th>\n",
       "      <th>Gross Monthly Salary</th>\n",
       "      <th>Geographic Living Area</th>\n",
       "      <th>Has Children (Y=1)</th>\n",
       "      <th>Customer Monetary Value</th>\n",
       "      <th>Claims Rate</th>\n",
       "      <th>Premiums in LOB: Motor</th>\n",
       "      <th>Premiums in LOB: Household</th>\n",
       "      <th>Premiums in LOB: Health</th>\n",
       "      <th>Premiums in LOB:  Life</th>\n",
       "      <th>Premiums in LOB: Work Compensations</th>\n",
       "      <th>Premiums Sum</th>\n",
       "      <th>Amount Paid by the Insurance Company</th>\n",
       "      <th>Age</th>\n",
       "      <th>Age As Client</th>\n",
       "      <th>Annual Salary</th>\n",
       "    </tr>\n",
       "  </thead>\n",
       "  <tbody>\n",
       "  </tbody>\n",
       "</table>\n",
       "</div>"
      ],
      "text/plain": [
       "Empty DataFrame\n",
       "Columns: [Customer Identity, First Policy´s Year, Brithday Year, Educational Degree, Gross Monthly Salary, Geographic Living Area, Has Children (Y=1), Customer Monetary Value, Claims Rate, Premiums in LOB: Motor, Premiums in LOB: Household, Premiums in LOB: Health, Premiums in LOB:  Life, Premiums in LOB: Work Compensations, Premiums Sum, Amount Paid by the Insurance Company, Age, Age As Client, Annual Salary]\n",
       "Index: []"
      ]
     },
     "execution_count": 22,
     "metadata": {},
     "output_type": "execute_result"
    }
   ],
   "source": [
    "#let's see how many people here are younger than 16 so we can remove them since they're legally not allowed to work\n",
    "\n",
    "df.loc[df['Age'] < 16]\n",
    "\n",
    "#they seem to have disappeared after you drop all nulls"
   ]
  },
  {
   "cell_type": "code",
   "execution_count": 23,
   "metadata": {},
   "outputs": [],
   "source": [
    "#the code to remove the children, if they were here lol, would be:\n",
    "\n",
    "#df.drop(df['Age'] < 16)\n",
    "\n",
    "#which doesn't work right now because somehow the children have all been removed ¯\\_(ツ)_/¯"
   ]
  },
  {
   "cell_type": "code",
   "execution_count": 24,
   "metadata": {},
   "outputs": [
    {
     "name": "stdout",
     "output_type": "stream",
     "text": [
      "First 5 rows of the dataFrame: \n",
      "\n",
      "    Customer Identity  First Policy´s Year  Brithday Year Educational Degree  \\\n",
      "0                  1               1985.0         1982.0    2 - High School   \n",
      "2                  3               1991.0         1970.0          1 - Basic   \n",
      "3                  4               1990.0         1981.0        3 - BSc/MSc   \n",
      "4                  5               1986.0         1973.0        3 - BSc/MSc   \n",
      "5                  6               1986.0         1956.0    2 - High School   \n",
      "\n",
      "   Gross Monthly Salary  Geographic Living Area  Has Children (Y=1)  \\\n",
      "0                2177.0                     1.0                 1.0   \n",
      "2                2277.0                     3.0                 0.0   \n",
      "3                1099.0                     4.0                 1.0   \n",
      "4                1763.0                     4.0                 1.0   \n",
      "5                2566.0                     4.0                 1.0   \n",
      "\n",
      "   Customer Monetary Value  Claims Rate  Premiums in LOB: Motor  \\\n",
      "0                   380.97         0.39                  375.85   \n",
      "2                   504.67         0.28                  206.15   \n",
      "3                   -16.99         0.99                  182.48   \n",
      "4                    35.23         0.90                  338.62   \n",
      "5                   -24.33         1.00                  440.75   \n",
      "\n",
      "   Premiums in LOB: Household  Premiums in LOB: Health  \\\n",
      "0                       79.45                   146.36   \n",
      "2                      224.50                   124.58   \n",
      "3                       43.35                   311.17   \n",
      "4                       47.80                   182.59   \n",
      "5                       18.90                   114.80   \n",
      "\n",
      "   Premiums in LOB:  Life  Premiums in LOB: Work Compensations  Premiums Sum  \\\n",
      "0                   47.01                                16.89        665.56   \n",
      "2                   86.35                                99.02        740.60   \n",
      "3                   35.34                                28.34        600.68   \n",
      "4                   18.78                                41.45        629.24   \n",
      "5                    7.00                                 7.67        589.12   \n",
      "\n",
      "   Amount Paid by the Insurance Company   Age  Age As Client  Annual Salary  \n",
      "0                              259.5684  34.0           31.0        26124.0  \n",
      "2                              207.3680  46.0           25.0        27324.0  \n",
      "3                              594.6732  35.0           26.0        13188.0  \n",
      "4                              566.3160  43.0           30.0        21156.0  \n",
      "5                              589.1200  60.0           30.0        30792.0  \n",
      "Shape: \n",
      "\n",
      " (7874, 19)\n",
      "Columns names: \n",
      "\n",
      " Index(['Customer Identity', 'First Policy´s Year', 'Brithday Year',\n",
      "       'Educational Degree', 'Gross Monthly Salary', 'Geographic Living Area',\n",
      "       'Has Children (Y=1)', 'Customer Monetary Value', 'Claims Rate',\n",
      "       'Premiums in LOB: Motor', 'Premiums in LOB: Household',\n",
      "       'Premiums in LOB: Health', 'Premiums in LOB:  Life',\n",
      "       'Premiums in LOB: Work Compensations', 'Premiums Sum',\n",
      "       'Amount Paid by the Insurance Company', 'Age', 'Age As Client',\n",
      "       'Annual Salary'],\n",
      "      dtype='object')\n",
      "Columns types: \n",
      "\n",
      " Customer Identity                         int64\n",
      "First Policy´s Year                     float64\n",
      "Brithday Year                           float64\n",
      "Educational Degree                       object\n",
      "Gross Monthly Salary                    float64\n",
      "Geographic Living Area                  float64\n",
      "Has Children (Y=1)                      float64\n",
      "Customer Monetary Value                 float64\n",
      "Claims Rate                             float64\n",
      "Premiums in LOB: Motor                  float64\n",
      "Premiums in LOB: Household              float64\n",
      "Premiums in LOB: Health                 float64\n",
      "Premiums in LOB:  Life                  float64\n",
      "Premiums in LOB: Work Compensations     float64\n",
      "Premiums Sum                            float64\n",
      "Amount Paid by the Insurance Company    float64\n",
      "Age                                     float64\n",
      "Age As Client                           float64\n",
      "Annual Salary                           float64\n",
      "dtype: object\n",
      "Description: \n",
      "\n",
      "        Customer Identity  First Policy´s Year  Brithday Year  \\\n",
      "count        7874.000000          7874.000000    7874.000000   \n",
      "mean         5120.712725          1986.961138    1962.175006   \n",
      "std          2972.063811             6.523853      14.453413   \n",
      "min             1.000000          1974.000000    1935.000000   \n",
      "25%          2553.250000          1982.000000    1950.000000   \n",
      "50%          5115.500000          1987.000000    1962.000000   \n",
      "75%          7674.750000          1993.000000    1974.000000   \n",
      "max         10296.000000          1998.000000    1997.000000   \n",
      "\n",
      "       Gross Monthly Salary  Geographic Living Area  Has Children (Y=1)  \\\n",
      "count           7874.000000             7874.000000         7874.000000   \n",
      "mean            2815.641097                2.714884            0.671577   \n",
      "std             1032.619534                1.264716            0.469669   \n",
      "min              341.000000                1.000000            0.000000   \n",
      "25%             2181.000000                1.000000            0.000000   \n",
      "50%             2838.000000                3.000000            1.000000   \n",
      "75%             3469.000000                4.000000            1.000000   \n",
      "max            55215.000000                4.000000            1.000000   \n",
      "\n",
      "       Customer Monetary Value  Claims Rate  Premiums in LOB: Motor  \\\n",
      "count              7874.000000  7874.000000             7874.000000   \n",
      "mean                162.857282     0.751245              330.511557   \n",
      "std                2188.261706     3.302057              221.162459   \n",
      "min             -165680.420000     0.000000                9.670000   \n",
      "25%                 -10.110000     0.390000              230.710000   \n",
      "50%                 187.040000     0.720000              329.340000   \n",
      "75%                 395.190000     0.980000              425.970000   \n",
      "max               11875.890000   256.200000            11604.420000   \n",
      "\n",
      "       Premiums in LOB: Household  Premiums in LOB: Health  \\\n",
      "count                 7874.000000              7874.000000   \n",
      "mean                   170.764923               164.572108   \n",
      "std                    352.681471               111.228586   \n",
      "min                    -75.000000                -2.110000   \n",
      "25%                     42.800000               107.020000   \n",
      "50%                    112.800000               158.030000   \n",
      "75%                    240.050000               214.150000   \n",
      "max                  25048.800000              7322.480000   \n",
      "\n",
      "       Premiums in LOB:  Life  Premiums in LOB: Work Compensations  \\\n",
      "count             7874.000000                          7874.000000   \n",
      "mean                33.277228                            33.235490   \n",
      "std                 36.365119                            43.986527   \n",
      "min                 -7.000000                           -12.000000   \n",
      "25%                  8.780000                             8.890000   \n",
      "50%                 21.670000                            22.450000   \n",
      "75%                 46.230000                            46.230000   \n",
      "max                311.280000                          1988.700000   \n",
      "\n",
      "       Premiums Sum  Amount Paid by the Insurance Company          Age  \\\n",
      "count   7874.000000                           7874.000000  7874.000000   \n",
      "mean     732.361306                            544.484895    53.824994   \n",
      "std      402.842638                           2208.092600    14.453413   \n",
      "min      476.650000                              0.000000    19.000000   \n",
      "25%      619.560000                            277.121100    42.000000   \n",
      "50%      683.010000                            543.199800    54.000000   \n",
      "75%      784.157500                            634.075200    66.000000   \n",
      "max    25615.240000                         166304.544000    81.000000   \n",
      "\n",
      "       Age As Client  Annual Salary  \n",
      "count    7874.000000    7874.000000  \n",
      "mean       29.038862   33787.693167  \n",
      "std         6.523853   12391.434406  \n",
      "min        18.000000    4092.000000  \n",
      "25%        23.000000   26172.000000  \n",
      "50%        29.000000   34056.000000  \n",
      "75%        34.000000   41628.000000  \n",
      "max        42.000000  662580.000000  \n"
     ]
    }
   ],
   "source": [
    "FirstLook(df)\n",
    "#We have 7875 customers now."
   ]
  },
  {
   "cell_type": "code",
   "execution_count": 25,
   "metadata": {},
   "outputs": [],
   "source": [
    "import os\n",
    "import numpy as np\n",
    "import seaborn as sb\n",
    "import matplotlib\n",
    "from matplotlib import pyplot as plt"
   ]
  },
  {
   "cell_type": "code",
   "execution_count": 26,
   "metadata": {},
   "outputs": [
    {
     "data": {
      "text/plain": [
       "Index(['Customer Identity', 'First Policy´s Year', 'Brithday Year',\n",
       "       'Educational Degree', 'Gross Monthly Salary', 'Geographic Living Area',\n",
       "       'Has Children (Y=1)', 'Customer Monetary Value', 'Claims Rate',\n",
       "       'Premiums in LOB: Motor', 'Premiums in LOB: Household',\n",
       "       'Premiums in LOB: Health', 'Premiums in LOB:  Life',\n",
       "       'Premiums in LOB: Work Compensations', 'Premiums Sum',\n",
       "       'Amount Paid by the Insurance Company', 'Age', 'Age As Client',\n",
       "       'Annual Salary'],\n",
       "      dtype='object')"
      ]
     },
     "execution_count": 26,
     "metadata": {},
     "output_type": "execute_result"
    }
   ],
   "source": [
    "df.columns"
   ]
  },
  {
   "cell_type": "code",
   "execution_count": 27,
   "metadata": {},
   "outputs": [],
   "source": [
    "var_cluster = df[['Premiums in LOB:  Life',\n",
    "                'Premiums in LOB: Health',\n",
    "                'Premiums in LOB: Household',\n",
    "                'Premiums in LOB: Motor',\n",
    "                'Premiums in LOB: Work Compensations']]\n"
   ]
  },
  {
   "cell_type": "code",
   "execution_count": 28,
   "metadata": {},
   "outputs": [
    {
     "data": {
      "text/plain": [
       "<matplotlib.axes._subplots.AxesSubplot at 0x7fa616634ed0>"
      ]
     },
     "execution_count": 28,
     "metadata": {},
     "output_type": "execute_result"
    },
    {
     "data": {
      "image/png": "[encoded data removed]",
      "text/plain": [
       "<Figure size 432x288 with 1 Axes>"
      ]
     },
     "metadata": {
      "needs_background": "light"
     },
     "output_type": "display_data"
    }
   ],
   "source": [
    "import seaborn as sns\n",
    "sns.boxplot(x=var_cluster['Premiums in LOB:  Life'])\n"
   ]
  },
  {
   "cell_type": "code",
   "execution_count": 29,
   "metadata": {},
   "outputs": [],
   "source": [
    "df = var_cluster[var_cluster['Premiums in LOB:  Life'] <= 100]"
   ]
  },
  {
   "cell_type": "code",
   "execution_count": 30,
   "metadata": {},
   "outputs": [
    {
     "data": {
      "text/plain": [
       "<matplotlib.axes._subplots.AxesSubplot at 0x7fa616596ad0>"
      ]
     },
     "execution_count": 30,
     "metadata": {},
     "output_type": "execute_result"
    },
    {
     "data": {
      "image/png": "[encoded data removed]",
      "text/plain": [
       "<Figure size 432x288 with 1 Axes>"
      ]
     },
     "metadata": {
      "needs_background": "light"
     },
     "output_type": "display_data"
    }
   ],
   "source": [
    "sns.boxplot(x=df['Premiums in LOB: Health'])"
   ]
  },
  {
   "cell_type": "code",
   "execution_count": 31,
   "metadata": {},
   "outputs": [],
   "source": [
    "df = df[df['Premiums in LOB: Health'] <1000]"
   ]
  },
  {
   "cell_type": "code",
   "execution_count": 32,
   "metadata": {},
   "outputs": [
    {
     "data": {
      "text/plain": [
       "<matplotlib.axes._subplots.AxesSubplot at 0x7fa615e85a90>"
      ]
     },
     "execution_count": 32,
     "metadata": {},
     "output_type": "execute_result"
    },
    {
     "data": {
      "image/png": "[encoded data removed]",
      "text/plain": [
       "<Figure size 432x288 with 1 Axes>"
      ]
     },
     "metadata": {
      "needs_background": "light"
     },
     "output_type": "display_data"
    }
   ],
   "source": [
    "sns.boxplot(x=df['Premiums in LOB: Household'])"
   ]
  },
  {
   "cell_type": "code",
   "execution_count": 33,
   "metadata": {},
   "outputs": [
    {
     "data": {
      "text/plain": [
       "(7419, 5)"
      ]
     },
     "execution_count": 33,
     "metadata": {},
     "output_type": "execute_result"
    }
   ],
   "source": [
    "df = df[df['Premiums in LOB: Household'] <4000]\n",
    "df.shape"
   ]
  },
  {
   "cell_type": "code",
   "execution_count": 34,
   "metadata": {},
   "outputs": [
    {
     "data": {
      "text/plain": [
       "<matplotlib.axes._subplots.AxesSubplot at 0x7fa615dfd650>"
      ]
     },
     "execution_count": 34,
     "metadata": {},
     "output_type": "execute_result"
    },
    {
     "data": {
      "image/png": "[encoded data removed]",
      "text/plain": [
       "<Figure size 432x288 with 1 Axes>"
      ]
     },
     "metadata": {
      "needs_background": "light"
     },
     "output_type": "display_data"
    }
   ],
   "source": [
    "sns.boxplot(x=df['Premiums in LOB: Motor'])"
   ]
  },
  {
   "cell_type": "code",
   "execution_count": 35,
   "metadata": {},
   "outputs": [],
   "source": [
    "df = df[df['Premiums in LOB: Motor'] <1000]"
   ]
  },
  {
   "cell_type": "code",
   "execution_count": 36,
   "metadata": {},
   "outputs": [
    {
     "data": {
      "text/plain": [
       "(7416, 5)"
      ]
     },
     "execution_count": 36,
     "metadata": {},
     "output_type": "execute_result"
    }
   ],
   "source": [
    "df.shape"
   ]
  },
  {
   "cell_type": "code",
   "execution_count": 37,
   "metadata": {},
   "outputs": [
    {
     "data": {
      "text/plain": [
       "<matplotlib.axes._subplots.AxesSubplot at 0x7fa615d69bd0>"
      ]
     },
     "execution_count": 37,
     "metadata": {},
     "output_type": "execute_result"
    },
    {
     "data": {
      "image/png": "[encoded data removed]",
      "text/plain": [
       "<Figure size 432x288 with 1 Axes>"
      ]
     },
     "metadata": {
      "needs_background": "light"
     },
     "output_type": "display_data"
    }
   ],
   "source": [
    "sns.boxplot(x=df['Premiums in LOB: Work Compensations'])"
   ]
  },
  {
   "cell_type": "code",
   "execution_count": 38,
   "metadata": {},
   "outputs": [
    {
     "data": {
      "text/plain": [
       "(7045, 5)"
      ]
     },
     "execution_count": 38,
     "metadata": {},
     "output_type": "execute_result"
    }
   ],
   "source": [
    "df = df[df['Premiums in LOB: Work Compensations'] <100]\n",
    "\n",
    "df.shape"
   ]
  },
  {
   "cell_type": "code",
   "execution_count": 39,
   "metadata": {},
   "outputs": [
    {
     "data": {
      "text/html": [
       "<div>\n",
       "<style scoped>\n",
       "    .dataframe tbody tr th:only-of-type {\n",
       "        vertical-align: middle;\n",
       "    }\n",
       "\n",
       "    .dataframe tbody tr th {\n",
       "        vertical-align: top;\n",
       "    }\n",
       "\n",
       "    .dataframe thead th {\n",
       "        text-align: right;\n",
       "    }\n",
       "</style>\n",
       "<table border=\"1\" class=\"dataframe\">\n",
       "  <thead>\n",
       "    <tr style=\"text-align: right;\">\n",
       "      <th></th>\n",
       "      <th>Premiums in LOB:  Life</th>\n",
       "      <th>Premiums in LOB: Health</th>\n",
       "      <th>Premiums in LOB: Household</th>\n",
       "      <th>Premiums in LOB: Motor</th>\n",
       "      <th>Premiums in LOB: Work Compensations</th>\n",
       "    </tr>\n",
       "  </thead>\n",
       "  <tbody>\n",
       "    <tr>\n",
       "      <th>0</th>\n",
       "      <td>0.860049</td>\n",
       "      <td>-0.213376</td>\n",
       "      <td>-0.406672</td>\n",
       "      <td>0.267347</td>\n",
       "      <td>-0.361667</td>\n",
       "    </tr>\n",
       "    <tr>\n",
       "      <th>1</th>\n",
       "      <td>2.480220</td>\n",
       "      <td>-0.503571</td>\n",
       "      <td>0.468644</td>\n",
       "      <td>-1.209770</td>\n",
       "      <td>3.036892</td>\n",
       "    </tr>\n",
       "    <tr>\n",
       "      <th>2</th>\n",
       "      <td>0.379435</td>\n",
       "      <td>1.982534</td>\n",
       "      <td>-0.624521</td>\n",
       "      <td>-1.415800</td>\n",
       "      <td>0.112137</td>\n",
       "    </tr>\n",
       "    <tr>\n",
       "      <th>3</th>\n",
       "      <td>-0.302569</td>\n",
       "      <td>0.269348</td>\n",
       "      <td>-0.597667</td>\n",
       "      <td>-0.056714</td>\n",
       "      <td>0.654632</td>\n",
       "    </tr>\n",
       "    <tr>\n",
       "      <th>4</th>\n",
       "      <td>-0.787714</td>\n",
       "      <td>-0.633878</td>\n",
       "      <td>-0.772067</td>\n",
       "      <td>0.832254</td>\n",
       "      <td>-0.743193</td>\n",
       "    </tr>\n",
       "  </tbody>\n",
       "</table>\n",
       "</div>"
      ],
      "text/plain": [
       "   Premiums in LOB:  Life  Premiums in LOB: Health  \\\n",
       "0                0.860049                -0.213376   \n",
       "1                2.480220                -0.503571   \n",
       "2                0.379435                 1.982534   \n",
       "3               -0.302569                 0.269348   \n",
       "4               -0.787714                -0.633878   \n",
       "\n",
       "   Premiums in LOB: Household  Premiums in LOB: Motor  \\\n",
       "0                   -0.406672                0.267347   \n",
       "1                    0.468644               -1.209770   \n",
       "2                   -0.624521               -1.415800   \n",
       "3                   -0.597667               -0.056714   \n",
       "4                   -0.772067                0.832254   \n",
       "\n",
       "   Premiums in LOB: Work Compensations  \n",
       "0                            -0.361667  \n",
       "1                             3.036892  \n",
       "2                             0.112137  \n",
       "3                             0.654632  \n",
       "4                            -0.743193  "
      ]
     },
     "execution_count": 39,
     "metadata": {},
     "output_type": "execute_result"
    }
   ],
   "source": [
    "from sklearn.preprocessing import StandardScaler\n",
    "\n",
    "scaler = StandardScaler()\n",
    "\n",
    "CA_Norm = scaler.fit_transform(df)\n",
    "\n",
    "CA_Norm = pd.DataFrame(CA_Norm, columns = df.columns)\n",
    "\n",
    "CA_Norm.head()"
   ]
  },
  {
   "cell_type": "code",
   "execution_count": 40,
   "metadata": {},
   "outputs": [
    {
     "data": {
      "text/plain": [
       "[<matplotlib.lines.Line2D at 0x7fa615d1a590>]"
      ]
     },
     "execution_count": 40,
     "metadata": {},
     "output_type": "execute_result"
    },
    {
     "data": {
      "image/png": "[encoded data removed]",
      "text/plain": [
       "<Figure size 432x288 with 1 Axes>"
      ]
     },
     "metadata": {
      "needs_background": "light"
     },
     "output_type": "display_data"
    }
   ],
   "source": [
    "L = []\n",
    "for i in range(1,20):\n",
    "    kmeans = KMeans(n_clusters=i,\n",
    "                   random_state=0,\n",
    "                   n_init=5,\n",
    "                   max_iter=200).fit(CA_Norm)\n",
    "    L.append(kmeans.inertia_)\n",
    "plt.plot(range(1,20),L)"
   ]
  },
  {
   "cell_type": "code",
   "execution_count": 57,
   "metadata": {},
   "outputs": [],
   "source": [
    "from sklearn.cluster import KMeans\n",
    "kmeans = KMeans(n_clusters=3,\n",
    "               random_state=0,\n",
    "               n_init= 10,\n",
    "               max_iter= 2000).fit(CA_Norm)"
   ]
  },
  {
   "cell_type": "code",
   "execution_count": 58,
   "metadata": {},
   "outputs": [],
   "source": [
    "my_clusters = kmeans.cluster_centers_\n",
    "inv = scaler.inverse_transform(X = my_clusters)\n",
    "df_cluster = pd.DataFrame(inv, columns = CA_Norm.columns)"
   ]
  },
  {
   "cell_type": "code",
   "execution_count": 59,
   "metadata": {
    "scrolled": true
   },
   "outputs": [
    {
     "data": {
      "text/html": [
       "<div>\n",
       "<style scoped>\n",
       "    .dataframe tbody tr th:only-of-type {\n",
       "        vertical-align: middle;\n",
       "    }\n",
       "\n",
       "    .dataframe tbody tr th {\n",
       "        vertical-align: top;\n",
       "    }\n",
       "\n",
       "    .dataframe thead th {\n",
       "        text-align: right;\n",
       "    }\n",
       "</style>\n",
       "<table border=\"1\" class=\"dataframe\">\n",
       "  <thead>\n",
       "    <tr style=\"text-align: right;\">\n",
       "      <th></th>\n",
       "      <th>Premiums in LOB:  Life</th>\n",
       "      <th>Premiums in LOB: Health</th>\n",
       "      <th>Premiums in LOB: Household</th>\n",
       "      <th>Premiums in LOB: Motor</th>\n",
       "      <th>Premiums in LOB: Work Compensations</th>\n",
       "    </tr>\n",
       "  </thead>\n",
       "  <tbody>\n",
       "    <tr>\n",
       "      <th>0</th>\n",
       "      <td>10.713756</td>\n",
       "      <td>99.096813</td>\n",
       "      <td>56.998199</td>\n",
       "      <td>455.961865</td>\n",
       "      <td>10.710505</td>\n",
       "    </tr>\n",
       "    <tr>\n",
       "      <th>1</th>\n",
       "      <td>55.434977</td>\n",
       "      <td>197.870346</td>\n",
       "      <td>341.006924</td>\n",
       "      <td>215.667067</td>\n",
       "      <td>53.265669</td>\n",
       "    </tr>\n",
       "    <tr>\n",
       "      <th>2</th>\n",
       "      <td>26.489099</td>\n",
       "      <td>214.932238</td>\n",
       "      <td>134.906233</td>\n",
       "      <td>293.602627</td>\n",
       "      <td>26.422875</td>\n",
       "    </tr>\n",
       "  </tbody>\n",
       "</table>\n",
       "</div>"
      ],
      "text/plain": [
       "   Premiums in LOB:  Life  Premiums in LOB: Health  \\\n",
       "0               10.713756                99.096813   \n",
       "1               55.434977               197.870346   \n",
       "2               26.489099               214.932238   \n",
       "\n",
       "   Premiums in LOB: Household  Premiums in LOB: Motor  \\\n",
       "0                   56.998199              455.961865   \n",
       "1                  341.006924              215.667067   \n",
       "2                  134.906233              293.602627   \n",
       "\n",
       "   Premiums in LOB: Work Compensations  \n",
       "0                            10.710505  \n",
       "1                            53.265669  \n",
       "2                            26.422875  "
      ]
     },
     "execution_count": 59,
     "metadata": {},
     "output_type": "execute_result"
    }
   ],
   "source": [
    "df_cluster"
   ]
  },
  {
   "cell_type": "markdown",
   "metadata": {},
   "source": [
    "Plot clusters"
   ]
  },
  {
   "cell_type": "code",
   "execution_count": 60,
   "metadata": {},
   "outputs": [
    {
     "data": {
      "image/png": "[encoded data removed]",
      "text/plain": [
       "<Figure size 432x288 with 1 Axes>"
      ]
     },
     "metadata": {
      "needs_background": "light"
     },
     "output_type": "display_data"
    }
   ],
   "source": [
    "plt.scatter(df.iloc[:, 0].values, df.iloc[:, 1].values, c=kmeans.labels_, cmap='rainbow') #c=kmeans, cmap='viridis')\n",
    "# add centroids\n",
    "plt.scatter(df_cluster.iloc[:, 0].values, df_cluster.iloc[:, 1].values, c='black');"
   ]
  },
  {
   "cell_type": "markdown",
   "metadata": {},
   "source": [
    "I sincerely apologize for this crappy plot!"
   ]
  },
  {
   "cell_type": "code",
   "execution_count": 115,
   "metadata": {},
   "outputs": [
    {
     "name": "stdout",
     "output_type": "stream",
     "text": [
      "For n_clusters= 3 The average silhouette_score is: 0.26413101354545354\n"
     ]
    },
    {
     "data": {
      "text/plain": [
       "array([1, 5, 0, ..., 1, 5, 1], dtype=int32)"
      ]
     },
     "execution_count": 115,
     "metadata": {},
     "output_type": "execute_result"
    }
   ],
   "source": [
    "# Check clusters a bit further\n",
    "my_clusters = pd.DataFrame(scaler.inverse_transform(X=my_clusters),\n",
    "                          columns=var_cluster.columns)\n",
    "from sklearn.metrics import silhouette_samples, silhouette_score\n",
    "silhouette_avg = silhouette_score(cluster_Norm, kmeans.labels_)\n",
    "\n",
    "print(\"For n_clusters=\", n_clusters,\n",
    "     \"The average silhouette_score is:\", silhouette_avg)\n",
    "\n",
    "# Compute the silhouette scores for each sample\n",
    "sample_silhouette_values = silhouette_samples(cluster_Norm, kmeans.labels_)\n",
    "cluster_labels = kmeans.labels_\n",
    "cluster_labels\n"
   ]
  },
  {
   "cell_type": "code",
   "execution_count": 116,
   "metadata": {},
   "outputs": [
    {
     "data": {
      "image/png": "[encoded data removed]",
      "text/plain": [
       "<Figure size 432x288 with 1 Axes>"
      ]
     },
     "metadata": {
      "needs_background": "light"
     },
     "output_type": "display_data"
    }
   ],
   "source": [
    "import matplotlib.cm as cm\n",
    "y_lower = 100\n",
    "fig = plt.figure()\n",
    "ax = fig.add_subplot(111)\n",
    "\n",
    "ax.set_ylim([0, cluster_Norm.shape[0] + (n_clusters + 1) * 10])\n",
    "\n",
    "for i in range(n_clusters):\n",
    "    ith_cluster_silhouette_values = sample_silhouette_values[cluster_labels == i]\n",
    "    ith_cluster_silhouette_values.sort()\n",
    "    \n",
    "    size_cluster_i = ith_cluster_silhouette_values.shape[0]\n",
    "    y_upper = y_lower + size_cluster_i\n",
    "    \n",
    "    color = cm.rainbow(float(i) / n_clusters)\n",
    "    ax.fill_betweenx(np.arange(y_lower, y_upper),\n",
    "                    0, ith_cluster_silhouette_values,\n",
    "                    facecolor=color,\n",
    "                    edgecolor=color,\n",
    "                    alpha=0.7)\n",
    "    \n",
    "    ax.text(-0.05, y_lower + 0.5 * size_cluster_i, str(i))\n",
    "    \n",
    "    y_lower = y_upper + 100\n",
    "    \n",
    "    ax.set_title(\"The silhouette plot for the various clusters.\")\n",
    "    ax.set_xlabel(\"The silhouette coefficient values\")\n",
    "    ax.set_ylabel(\"Cluster label\")\n",
    "\n",
    "    # The vertical line for average silhouette score of all the values\n",
    "    ax.axvline(x=silhouette_avg, color=\"red\", linestyle=\"--\")\n",
    "    \n",
    "plt.show()"
   ]
  },
  {
   "cell_type": "code",
   "execution_count": null,
   "metadata": {},
   "outputs": [],
   "source": []
  }
 ],
 "metadata": {
  "kernelspec": {
   "display_name": "Python 3",
   "language": "python",
   "name": "python3"
  },
  "language_info": {
   "codemirror_mode": {
    "name": "ipython",
    "version": 3
   },
   "file_extension": ".py",
   "mimetype": "text/x-python",
   "name": "python",
   "nbconvert_exporter": "python",
   "pygments_lexer": "ipython3",
   "version": "3.7.4"
  }
 },
 "nbformat": 4,
 "nbformat_minor": 4
}
