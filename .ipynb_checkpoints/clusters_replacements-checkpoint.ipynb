{
 "cells": [
  {
   "cell_type": "markdown",
   "metadata": {},
   "source": [
    "# DATA CLEANING #"
   ]
  },
  {
   "cell_type": "markdown",
   "metadata": {},
   "source": [
    "**1) Removing NaN values**"
   ]
  },
  {
   "cell_type": "code",
   "execution_count": 106,
   "metadata": {},
   "outputs": [
    {
     "data": {
      "text/plain": [
       "(10296, 14)"
      ]
     },
     "execution_count": 106,
     "metadata": {},
     "output_type": "execute_result"
    }
   ],
   "source": [
    "import pandas as pd\n",
    "\n",
    "df = pd.read_csv('A2Z_insurance.csv')\n",
    "\n",
    "df.shape"
   ]
  },
  {
   "cell_type": "code",
   "execution_count": 107,
   "metadata": {},
   "outputs": [
    {
     "data": {
      "text/plain": [
       "(8299, 14)"
      ]
     },
     "execution_count": 107,
     "metadata": {},
     "output_type": "execute_result"
    }
   ],
   "source": [
    "df_no_prob = df[~(df['First Policy´s Year'] < df['Brithday Year'])]\n",
    "df_no_prob.shape\n",
    "#df_no_prob.isnull().sum()"
   ]
  },
  {
   "cell_type": "code",
   "execution_count": 108,
   "metadata": {},
   "outputs": [
    {
     "data": {
      "text/plain": [
       "(8255, 14)"
      ]
     },
     "execution_count": 108,
     "metadata": {},
     "output_type": "execute_result"
    }
   ],
   "source": [
    "df = df[df['First Policy´s Year'] >= df['Brithday Year']]\n",
    "\n",
    "df.shape"
   ]
  },
  {
   "cell_type": "code",
   "execution_count": 109,
   "metadata": {},
   "outputs": [
    {
     "data": {
      "text/plain": [
       "Customer Identity                       0\n",
       "First Policy´s Year                     0\n",
       "Brithday Year                           0\n",
       "Educational Degree                      1\n",
       "Gross Monthly Salary                   22\n",
       "Geographic Living Area                  0\n",
       "Has Children (Y=1)                     10\n",
       "Customer Monetary Value                 0\n",
       "Claims Rate                             0\n",
       "Premiums in LOB: Motor                 26\n",
       "Premiums in LOB: Household              0\n",
       "Premiums in LOB: Health                31\n",
       "Premiums in LOB:  Life                 92\n",
       "Premiums in LOB: Work Compensations    69\n",
       "dtype: int64"
      ]
     },
     "execution_count": 109,
     "metadata": {},
     "output_type": "execute_result"
    }
   ],
   "source": [
    "\n",
    "df.isnull().sum()"
   ]
  },
  {
   "cell_type": "code",
   "execution_count": 110,
   "metadata": {},
   "outputs": [
    {
     "data": {
      "text/plain": [
       "0"
      ]
     },
     "execution_count": 110,
     "metadata": {},
     "output_type": "execute_result"
    }
   ],
   "source": [
    "#There aren't duplicated rows\n",
    "df.duplicated('Customer Identity').sum()"
   ]
  },
  {
   "cell_type": "code",
   "execution_count": 111,
   "metadata": {},
   "outputs": [
    {
     "data": {
      "text/plain": [
       "Customer Identity                       0\n",
       "First Policy´s Year                     0\n",
       "Brithday Year                           0\n",
       "Educational Degree                      1\n",
       "Gross Monthly Salary                   22\n",
       "Geographic Living Area                  0\n",
       "Has Children (Y=1)                     10\n",
       "Customer Monetary Value                 0\n",
       "Claims Rate                             0\n",
       "Premiums in LOB: Motor                 26\n",
       "Premiums in LOB: Household              0\n",
       "Premiums in LOB: Health                31\n",
       "Premiums in LOB:  Life                 92\n",
       "Premiums in LOB: Work Compensations    69\n",
       "Age                                     0\n",
       "Age As Client                           0\n",
       "dtype: int64"
      ]
     },
     "execution_count": 111,
     "metadata": {},
     "output_type": "execute_result"
    }
   ],
   "source": [
    "#Age Columns\n",
    "df['Age'] = 2016 - df['Brithday Year']\n",
    "df['Age As Client'] = 2016 - df['First Policy´s Year']\n",
    "df.columns\n",
    "df.isnull().sum()"
   ]
  },
  {
   "cell_type": "code",
   "execution_count": 112,
   "metadata": {},
   "outputs": [],
   "source": [
    "#Ordering the columns\n",
    "\n",
    "df = df[['Customer Identity', 'First Policy´s Year', 'Brithday Year', 'Age', 'Age As Client', 'Claims Rate',\n",
    "       'Customer Monetary Value', 'Educational Degree',\n",
    "       'Geographic Living Area', 'Gross Monthly Salary', 'Has Children (Y=1)',\n",
    "       'Premiums in LOB:  Life', 'Premiums in LOB: Health',\n",
    "       'Premiums in LOB: Household', 'Premiums in LOB: Motor',\n",
    "       'Premiums in LOB: Work Compensations']]\n",
    "\n",
    "#df[df['First Policy´s Year'] < df['Brithday Year']]"
   ]
  },
  {
   "cell_type": "code",
   "execution_count": 113,
   "metadata": {},
   "outputs": [
    {
     "data": {
      "text/plain": [
       "(8255, 16)"
      ]
     },
     "execution_count": 113,
     "metadata": {},
     "output_type": "execute_result"
    }
   ],
   "source": [
    "df.isnull().sum()\n",
    "df.shape"
   ]
  },
  {
   "cell_type": "code",
   "execution_count": 114,
   "metadata": {},
   "outputs": [
    {
     "data": {
      "text/plain": [
       "(8253, 16)"
      ]
     },
     "execution_count": 114,
     "metadata": {},
     "output_type": "execute_result"
    }
   ],
   "source": [
    "#Removing the guy from the future and the one with 965y.\n",
    "\n",
    "df = df[(df['Brithday Year'] != 1028.0) & (df['First Policy´s Year'] != 53784)]\n",
    "\n",
    "df.shape"
   ]
  },
  {
   "cell_type": "code",
   "execution_count": 115,
   "metadata": {},
   "outputs": [
    {
     "data": {
      "text/html": [
       "<div>\n",
       "<style scoped>\n",
       "    .dataframe tbody tr th:only-of-type {\n",
       "        vertical-align: middle;\n",
       "    }\n",
       "\n",
       "    .dataframe tbody tr th {\n",
       "        vertical-align: top;\n",
       "    }\n",
       "\n",
       "    .dataframe thead th {\n",
       "        text-align: right;\n",
       "    }\n",
       "</style>\n",
       "<table border=\"1\" class=\"dataframe\">\n",
       "  <thead>\n",
       "    <tr style=\"text-align: right;\">\n",
       "      <th></th>\n",
       "      <th>Customer Identity</th>\n",
       "      <th>First Policy´s Year</th>\n",
       "      <th>Brithday Year</th>\n",
       "      <th>Age</th>\n",
       "      <th>Age As Client</th>\n",
       "      <th>Claims Rate</th>\n",
       "      <th>Customer Monetary Value</th>\n",
       "      <th>Geographic Living Area</th>\n",
       "      <th>Gross Monthly Salary</th>\n",
       "      <th>Has Children (Y=1)</th>\n",
       "      <th>Premiums in LOB:  Life</th>\n",
       "      <th>Premiums in LOB: Health</th>\n",
       "      <th>Premiums in LOB: Household</th>\n",
       "      <th>Premiums in LOB: Motor</th>\n",
       "      <th>Premiums in LOB: Work Compensations</th>\n",
       "    </tr>\n",
       "  </thead>\n",
       "  <tbody>\n",
       "    <tr>\n",
       "      <th>count</th>\n",
       "      <td>8253.000000</td>\n",
       "      <td>8253.000000</td>\n",
       "      <td>8253.000000</td>\n",
       "      <td>8253.000000</td>\n",
       "      <td>8253.000000</td>\n",
       "      <td>8253.000000</td>\n",
       "      <td>8253.000000</td>\n",
       "      <td>8253.000000</td>\n",
       "      <td>8231.000000</td>\n",
       "      <td>8243.000000</td>\n",
       "      <td>8161.000000</td>\n",
       "      <td>8222.000000</td>\n",
       "      <td>8253.000000</td>\n",
       "      <td>8227.000000</td>\n",
       "      <td>8184.000000</td>\n",
       "    </tr>\n",
       "    <tr>\n",
       "      <th>mean</th>\n",
       "      <td>5121.525264</td>\n",
       "      <td>1986.934085</td>\n",
       "      <td>1962.663516</td>\n",
       "      <td>53.336484</td>\n",
       "      <td>29.065915</td>\n",
       "      <td>0.750775</td>\n",
       "      <td>161.142079</td>\n",
       "      <td>2.716830</td>\n",
       "      <td>2788.833313</td>\n",
       "      <td>0.676938</td>\n",
       "      <td>33.640404</td>\n",
       "      <td>164.392064</td>\n",
       "      <td>170.608845</td>\n",
       "      <td>330.026773</td>\n",
       "      <td>33.444437</td>\n",
       "    </tr>\n",
       "    <tr>\n",
       "      <th>std</th>\n",
       "      <td>2969.690848</td>\n",
       "      <td>6.525651</td>\n",
       "      <td>14.675727</td>\n",
       "      <td>14.675727</td>\n",
       "      <td>6.525651</td>\n",
       "      <td>3.248216</td>\n",
       "      <td>2161.922697</td>\n",
       "      <td>1.263858</td>\n",
       "      <td>1033.742883</td>\n",
       "      <td>0.467675</td>\n",
       "      <td>37.098214</td>\n",
       "      <td>110.090395</td>\n",
       "      <td>347.457857</td>\n",
       "      <td>218.567944</td>\n",
       "      <td>44.003508</td>\n",
       "    </tr>\n",
       "    <tr>\n",
       "      <th>min</th>\n",
       "      <td>1.000000</td>\n",
       "      <td>1974.000000</td>\n",
       "      <td>1935.000000</td>\n",
       "      <td>19.000000</td>\n",
       "      <td>18.000000</td>\n",
       "      <td>0.000000</td>\n",
       "      <td>-165680.420000</td>\n",
       "      <td>1.000000</td>\n",
       "      <td>341.000000</td>\n",
       "      <td>0.000000</td>\n",
       "      <td>-7.000000</td>\n",
       "      <td>-2.110000</td>\n",
       "      <td>-75.000000</td>\n",
       "      <td>6.780000</td>\n",
       "      <td>-12.000000</td>\n",
       "    </tr>\n",
       "    <tr>\n",
       "      <th>25%</th>\n",
       "      <td>2553.000000</td>\n",
       "      <td>1982.000000</td>\n",
       "      <td>1951.000000</td>\n",
       "      <td>42.000000</td>\n",
       "      <td>23.000000</td>\n",
       "      <td>0.390000</td>\n",
       "      <td>-10.330000</td>\n",
       "      <td>1.000000</td>\n",
       "      <td>2134.000000</td>\n",
       "      <td>0.000000</td>\n",
       "      <td>8.780000</td>\n",
       "      <td>106.910000</td>\n",
       "      <td>40.000000</td>\n",
       "      <td>228.820000</td>\n",
       "      <td>8.862500</td>\n",
       "    </tr>\n",
       "    <tr>\n",
       "      <th>50%</th>\n",
       "      <td>5107.000000</td>\n",
       "      <td>1987.000000</td>\n",
       "      <td>1962.000000</td>\n",
       "      <td>54.000000</td>\n",
       "      <td>29.000000</td>\n",
       "      <td>0.720000</td>\n",
       "      <td>186.710000</td>\n",
       "      <td>3.000000</td>\n",
       "      <td>2810.000000</td>\n",
       "      <td>1.000000</td>\n",
       "      <td>21.670000</td>\n",
       "      <td>157.920000</td>\n",
       "      <td>112.250000</td>\n",
       "      <td>329.840000</td>\n",
       "      <td>22.450000</td>\n",
       "    </tr>\n",
       "    <tr>\n",
       "      <th>75%</th>\n",
       "      <td>7679.000000</td>\n",
       "      <td>1993.000000</td>\n",
       "      <td>1974.000000</td>\n",
       "      <td>65.000000</td>\n",
       "      <td>34.000000</td>\n",
       "      <td>0.980000</td>\n",
       "      <td>394.870000</td>\n",
       "      <td>4.000000</td>\n",
       "      <td>3452.000000</td>\n",
       "      <td>1.000000</td>\n",
       "      <td>47.010000</td>\n",
       "      <td>214.122500</td>\n",
       "      <td>240.050000</td>\n",
       "      <td>426.525000</td>\n",
       "      <td>46.340000</td>\n",
       "    </tr>\n",
       "    <tr>\n",
       "      <th>max</th>\n",
       "      <td>10296.000000</td>\n",
       "      <td>1998.000000</td>\n",
       "      <td>1997.000000</td>\n",
       "      <td>81.000000</td>\n",
       "      <td>42.000000</td>\n",
       "      <td>256.200000</td>\n",
       "      <td>11875.890000</td>\n",
       "      <td>4.000000</td>\n",
       "      <td>55215.000000</td>\n",
       "      <td>1.000000</td>\n",
       "      <td>313.280000</td>\n",
       "      <td>7322.480000</td>\n",
       "      <td>25048.800000</td>\n",
       "      <td>11604.420000</td>\n",
       "      <td>1988.700000</td>\n",
       "    </tr>\n",
       "  </tbody>\n",
       "</table>\n",
       "</div>"
      ],
      "text/plain": [
       "       Customer Identity  First Policy´s Year  Brithday Year          Age  \\\n",
       "count        8253.000000          8253.000000    8253.000000  8253.000000   \n",
       "mean         5121.525264          1986.934085    1962.663516    53.336484   \n",
       "std          2969.690848             6.525651      14.675727    14.675727   \n",
       "min             1.000000          1974.000000    1935.000000    19.000000   \n",
       "25%          2553.000000          1982.000000    1951.000000    42.000000   \n",
       "50%          5107.000000          1987.000000    1962.000000    54.000000   \n",
       "75%          7679.000000          1993.000000    1974.000000    65.000000   \n",
       "max         10296.000000          1998.000000    1997.000000    81.000000   \n",
       "\n",
       "       Age As Client  Claims Rate  Customer Monetary Value  \\\n",
       "count    8253.000000  8253.000000              8253.000000   \n",
       "mean       29.065915     0.750775               161.142079   \n",
       "std         6.525651     3.248216              2161.922697   \n",
       "min        18.000000     0.000000           -165680.420000   \n",
       "25%        23.000000     0.390000               -10.330000   \n",
       "50%        29.000000     0.720000               186.710000   \n",
       "75%        34.000000     0.980000               394.870000   \n",
       "max        42.000000   256.200000             11875.890000   \n",
       "\n",
       "       Geographic Living Area  Gross Monthly Salary  Has Children (Y=1)  \\\n",
       "count             8253.000000           8231.000000         8243.000000   \n",
       "mean                 2.716830           2788.833313            0.676938   \n",
       "std                  1.263858           1033.742883            0.467675   \n",
       "min                  1.000000            341.000000            0.000000   \n",
       "25%                  1.000000           2134.000000            0.000000   \n",
       "50%                  3.000000           2810.000000            1.000000   \n",
       "75%                  4.000000           3452.000000            1.000000   \n",
       "max                  4.000000          55215.000000            1.000000   \n",
       "\n",
       "       Premiums in LOB:  Life  Premiums in LOB: Health  \\\n",
       "count             8161.000000              8222.000000   \n",
       "mean                33.640404               164.392064   \n",
       "std                 37.098214               110.090395   \n",
       "min                 -7.000000                -2.110000   \n",
       "25%                  8.780000               106.910000   \n",
       "50%                 21.670000               157.920000   \n",
       "75%                 47.010000               214.122500   \n",
       "max                313.280000              7322.480000   \n",
       "\n",
       "       Premiums in LOB: Household  Premiums in LOB: Motor  \\\n",
       "count                 8253.000000             8227.000000   \n",
       "mean                   170.608845              330.026773   \n",
       "std                    347.457857              218.567944   \n",
       "min                    -75.000000                6.780000   \n",
       "25%                     40.000000              228.820000   \n",
       "50%                    112.250000              329.840000   \n",
       "75%                    240.050000              426.525000   \n",
       "max                  25048.800000            11604.420000   \n",
       "\n",
       "       Premiums in LOB: Work Compensations  \n",
       "count                          8184.000000  \n",
       "mean                             33.444437  \n",
       "std                              44.003508  \n",
       "min                             -12.000000  \n",
       "25%                               8.862500  \n",
       "50%                              22.450000  \n",
       "75%                              46.340000  \n",
       "max                            1988.700000  "
      ]
     },
     "execution_count": 115,
     "metadata": {},
     "output_type": "execute_result"
    }
   ],
   "source": [
    "df.describe()"
   ]
  },
  {
   "cell_type": "code",
   "execution_count": 116,
   "metadata": {},
   "outputs": [
    {
     "name": "stdout",
     "output_type": "stream",
     "text": [
      "0    4.0\n",
      "dtype: float64\n"
     ]
    },
    {
     "data": {
      "text/plain": [
       "0"
      ]
     },
     "execution_count": 116,
     "metadata": {},
     "output_type": "execute_result"
    }
   ],
   "source": [
    "#Replacing the NaN values of Living Area column with the mode.\n",
    "\n",
    "mode_geo = df['Geographic Living Area'].mode()\n",
    "print(mode_geo)\n",
    "\n",
    "df['Geographic Living Area'] = df['Geographic Living Area'].fillna(4.0)\n",
    "\n",
    "df['Geographic Living Area'].isnull().sum()"
   ]
  },
  {
   "cell_type": "code",
   "execution_count": 117,
   "metadata": {},
   "outputs": [
    {
     "data": {
      "text/plain": [
       "Educational Degree\n",
       "1 - Basic          2740.0\n",
       "2 - High School    2799.0\n",
       "3 - BSc/MSc        2821.0\n",
       "4 - PhD            2803.0\n",
       "Name: Gross Monthly Salary, dtype: float64"
      ]
     },
     "execution_count": 117,
     "metadata": {},
     "output_type": "execute_result"
    }
   ],
   "source": [
    "df_edu = df[['Educational Degree', 'Gross Monthly Salary']]\n",
    "#df_edu\n",
    "\n",
    "df_not_nan = df_edu[df_edu.notna().any(axis = 1)]\n",
    "\n",
    "df_notNA_grouped = df_not_nan.groupby(['Educational Degree'])['Gross Monthly Salary'].median()\n",
    "df_notNA_grouped"
   ]
  },
  {
   "cell_type": "code",
   "execution_count": 118,
   "metadata": {},
   "outputs": [
    {
     "data": {
      "text/html": [
       "<div>\n",
       "<style scoped>\n",
       "    .dataframe tbody tr th:only-of-type {\n",
       "        vertical-align: middle;\n",
       "    }\n",
       "\n",
       "    .dataframe tbody tr th {\n",
       "        vertical-align: top;\n",
       "    }\n",
       "\n",
       "    .dataframe thead th {\n",
       "        text-align: right;\n",
       "    }\n",
       "</style>\n",
       "<table border=\"1\" class=\"dataframe\">\n",
       "  <thead>\n",
       "    <tr style=\"text-align: right;\">\n",
       "      <th></th>\n",
       "      <th>Educational Degree</th>\n",
       "      <th>Gross Monthly Salary</th>\n",
       "    </tr>\n",
       "  </thead>\n",
       "  <tbody>\n",
       "    <tr>\n",
       "      <th>21</th>\n",
       "      <td>2 - High School</td>\n",
       "      <td>NaN</td>\n",
       "    </tr>\n",
       "    <tr>\n",
       "      <th>143</th>\n",
       "      <td>3 - BSc/MSc</td>\n",
       "      <td>NaN</td>\n",
       "    </tr>\n",
       "    <tr>\n",
       "      <th>488</th>\n",
       "      <td>3 - BSc/MSc</td>\n",
       "      <td>NaN</td>\n",
       "    </tr>\n",
       "    <tr>\n",
       "      <th>830</th>\n",
       "      <td>2 - High School</td>\n",
       "      <td>NaN</td>\n",
       "    </tr>\n",
       "    <tr>\n",
       "      <th>1707</th>\n",
       "      <td>NaN</td>\n",
       "      <td>3827.0</td>\n",
       "    </tr>\n",
       "    <tr>\n",
       "      <th>1780</th>\n",
       "      <td>3 - BSc/MSc</td>\n",
       "      <td>NaN</td>\n",
       "    </tr>\n",
       "    <tr>\n",
       "      <th>1816</th>\n",
       "      <td>3 - BSc/MSc</td>\n",
       "      <td>NaN</td>\n",
       "    </tr>\n",
       "    <tr>\n",
       "      <th>1851</th>\n",
       "      <td>3 - BSc/MSc</td>\n",
       "      <td>NaN</td>\n",
       "    </tr>\n",
       "    <tr>\n",
       "      <th>1872</th>\n",
       "      <td>2 - High School</td>\n",
       "      <td>NaN</td>\n",
       "    </tr>\n",
       "    <tr>\n",
       "      <th>2241</th>\n",
       "      <td>3 - BSc/MSc</td>\n",
       "      <td>NaN</td>\n",
       "    </tr>\n",
       "    <tr>\n",
       "      <th>3227</th>\n",
       "      <td>4 - PhD</td>\n",
       "      <td>NaN</td>\n",
       "    </tr>\n",
       "    <tr>\n",
       "      <th>3317</th>\n",
       "      <td>2 - High School</td>\n",
       "      <td>NaN</td>\n",
       "    </tr>\n",
       "    <tr>\n",
       "      <th>3477</th>\n",
       "      <td>1 - Basic</td>\n",
       "      <td>NaN</td>\n",
       "    </tr>\n",
       "    <tr>\n",
       "      <th>3972</th>\n",
       "      <td>2 - High School</td>\n",
       "      <td>NaN</td>\n",
       "    </tr>\n",
       "    <tr>\n",
       "      <th>4847</th>\n",
       "      <td>3 - BSc/MSc</td>\n",
       "      <td>NaN</td>\n",
       "    </tr>\n",
       "    <tr>\n",
       "      <th>5082</th>\n",
       "      <td>2 - High School</td>\n",
       "      <td>NaN</td>\n",
       "    </tr>\n",
       "    <tr>\n",
       "      <th>5574</th>\n",
       "      <td>3 - BSc/MSc</td>\n",
       "      <td>NaN</td>\n",
       "    </tr>\n",
       "    <tr>\n",
       "      <th>7371</th>\n",
       "      <td>3 - BSc/MSc</td>\n",
       "      <td>NaN</td>\n",
       "    </tr>\n",
       "    <tr>\n",
       "      <th>7453</th>\n",
       "      <td>1 - Basic</td>\n",
       "      <td>NaN</td>\n",
       "    </tr>\n",
       "    <tr>\n",
       "      <th>8677</th>\n",
       "      <td>1 - Basic</td>\n",
       "      <td>NaN</td>\n",
       "    </tr>\n",
       "    <tr>\n",
       "      <th>9276</th>\n",
       "      <td>3 - BSc/MSc</td>\n",
       "      <td>NaN</td>\n",
       "    </tr>\n",
       "    <tr>\n",
       "      <th>9904</th>\n",
       "      <td>3 - BSc/MSc</td>\n",
       "      <td>NaN</td>\n",
       "    </tr>\n",
       "    <tr>\n",
       "      <th>9960</th>\n",
       "      <td>2 - High School</td>\n",
       "      <td>NaN</td>\n",
       "    </tr>\n",
       "  </tbody>\n",
       "</table>\n",
       "</div>"
      ],
      "text/plain": [
       "     Educational Degree  Gross Monthly Salary\n",
       "21      2 - High School                   NaN\n",
       "143         3 - BSc/MSc                   NaN\n",
       "488         3 - BSc/MSc                   NaN\n",
       "830     2 - High School                   NaN\n",
       "1707                NaN                3827.0\n",
       "1780        3 - BSc/MSc                   NaN\n",
       "1816        3 - BSc/MSc                   NaN\n",
       "1851        3 - BSc/MSc                   NaN\n",
       "1872    2 - High School                   NaN\n",
       "2241        3 - BSc/MSc                   NaN\n",
       "3227            4 - PhD                   NaN\n",
       "3317    2 - High School                   NaN\n",
       "3477          1 - Basic                   NaN\n",
       "3972    2 - High School                   NaN\n",
       "4847        3 - BSc/MSc                   NaN\n",
       "5082    2 - High School                   NaN\n",
       "5574        3 - BSc/MSc                   NaN\n",
       "7371        3 - BSc/MSc                   NaN\n",
       "7453          1 - Basic                   NaN\n",
       "8677          1 - Basic                   NaN\n",
       "9276        3 - BSc/MSc                   NaN\n",
       "9904        3 - BSc/MSc                   NaN\n",
       "9960    2 - High School                   NaN"
      ]
     },
     "execution_count": 118,
     "metadata": {},
     "output_type": "execute_result"
    }
   ],
   "source": [
    "df_nan = df_edu[df_edu.isnull().any(axis = 1)]\n",
    "df_nan"
   ]
  },
  {
   "cell_type": "code",
   "execution_count": 119,
   "metadata": {},
   "outputs": [
    {
     "data": {
      "text/plain": [
       "0"
      ]
     },
     "execution_count": 119,
     "metadata": {},
     "output_type": "execute_result"
    }
   ],
   "source": [
    "#Replacing the NaN values of Educational Degree column based on the mean of gross salary of which level of education.\n",
    "\n",
    "df.loc[1707,'Educational Degree'] = '4 - PhD'\n",
    "\n",
    "df.loc[21,'Gross Monthly Salary'] = 2799.0\n",
    "\n",
    "df.loc[143,'Gross Monthly Salary'] = 2821.0\n",
    "\n",
    "df.loc[488,'Gross Monthly Salary'] = 2821.0\n",
    "\n",
    "df.loc[830,'Gross Monthly Salary'] = 2799.0\n",
    "\n",
    "df.loc[1780,'Gross Monthly Salary'] = 2821.0\n",
    "\n",
    "df.loc[1816,'Gross Monthly Salary'] = 2821.0\n",
    "\n",
    "df.loc[1851,'Gross Monthly Salary'] = 2821.0\n",
    "\n",
    "df.loc[1872,'Gross Monthly Salary'] = 2799.0\n",
    "\n",
    "df.loc[2241,'Gross Monthly Salary'] = 2821.0\n",
    "\n",
    "df.loc[3227,'Gross Monthly Salary'] = 2803.0\n",
    "\n",
    "df.loc[3317,'Gross Monthly Salary'] = 2799.0\n",
    "\n",
    "df.loc[3477,'Gross Monthly Salary'] = 2740.0\n",
    "\n",
    "df.loc[3972,'Gross Monthly Salary'] = 2799.0\n",
    "\n",
    "df.loc[4847,'Gross Monthly Salary'] = 2821.0\n",
    "\n",
    "df.loc[5574,'Gross Monthly Salary'] = 2821.0\n",
    "\n",
    "df.loc[7371,'Gross Monthly Salary'] = 2821.0\n",
    "\n",
    "df.loc[5082,'Gross Monthly Salary'] = 2799.0\n",
    "\n",
    "df.loc[7453,'Gross Monthly Salary'] = 2740.0\n",
    "\n",
    "df.loc[8677,'Gross Monthly Salary'] = 2740.0\n",
    "\n",
    "df.loc[9276,'Gross Monthly Salary'] = 2821.0\n",
    "\n",
    "df.loc[9904,'Gross Monthly Salary'] = 2821.0\n",
    "\n",
    "df.loc[9960,'Gross Monthly Salary'] = 2799.0\n",
    "\n",
    "\n",
    "df['Gross Monthly Salary'].isnull().sum()"
   ]
  },
  {
   "cell_type": "code",
   "execution_count": 120,
   "metadata": {},
   "outputs": [
    {
     "data": {
      "text/plain": [
       "Customer Identity                       0\n",
       "First Policy´s Year                     0\n",
       "Brithday Year                           0\n",
       "Age                                     0\n",
       "Age As Client                           0\n",
       "Claims Rate                             0\n",
       "Customer Monetary Value                 0\n",
       "Educational Degree                      0\n",
       "Geographic Living Area                  0\n",
       "Gross Monthly Salary                    0\n",
       "Has Children (Y=1)                     10\n",
       "Premiums in LOB:  Life                 92\n",
       "Premiums in LOB: Health                31\n",
       "Premiums in LOB: Household              0\n",
       "Premiums in LOB: Motor                 26\n",
       "Premiums in LOB: Work Compensations    69\n",
       "dtype: int64"
      ]
     },
     "execution_count": 120,
     "metadata": {},
     "output_type": "execute_result"
    }
   ],
   "source": [
    "df.isnull().sum()"
   ]
  },
  {
   "cell_type": "code",
   "execution_count": 121,
   "metadata": {},
   "outputs": [],
   "source": [
    "df['premiums_sum'] = df['Premiums in LOB: Motor'] +  df['Premiums in LOB: Household'] + df['Premiums in LOB: Health'] + df['Premiums in LOB:  Life'] + df['Premiums in LOB: Work Compensations']"
   ]
  },
  {
   "cell_type": "code",
   "execution_count": 122,
   "metadata": {},
   "outputs": [],
   "source": [
    "df = df[df['premiums_sum'] < df['Gross Monthly Salary']*12]"
   ]
  },
  {
   "cell_type": "code",
   "execution_count": 123,
   "metadata": {},
   "outputs": [],
   "source": [
    "df = df[df['Gross Monthly Salary'] > 530]"
   ]
  },
  {
   "cell_type": "code",
   "execution_count": 124,
   "metadata": {},
   "outputs": [
    {
     "data": {
      "text/plain": [
       "Customer Identity                       0\n",
       "First Policy´s Year                     0\n",
       "Brithday Year                           0\n",
       "Age                                     0\n",
       "Age As Client                           0\n",
       "Claims Rate                             0\n",
       "Customer Monetary Value                 0\n",
       "Educational Degree                      0\n",
       "Geographic Living Area                  0\n",
       "Gross Monthly Salary                    0\n",
       "Has Children (Y=1)                     10\n",
       "Premiums in LOB:  Life                  0\n",
       "Premiums in LOB: Health                 0\n",
       "Premiums in LOB: Household              0\n",
       "Premiums in LOB: Motor                  0\n",
       "Premiums in LOB: Work Compensations     0\n",
       "premiums_sum                            0\n",
       "dtype: int64"
      ]
     },
     "execution_count": 124,
     "metadata": {},
     "output_type": "execute_result"
    }
   ],
   "source": [
    "df.isnull().sum()"
   ]
  },
  {
   "cell_type": "code",
   "execution_count": 125,
   "metadata": {},
   "outputs": [
    {
     "data": {
      "text/html": [
       "<div>\n",
       "<style scoped>\n",
       "    .dataframe tbody tr th:only-of-type {\n",
       "        vertical-align: middle;\n",
       "    }\n",
       "\n",
       "    .dataframe tbody tr th {\n",
       "        vertical-align: top;\n",
       "    }\n",
       "\n",
       "    .dataframe thead th {\n",
       "        text-align: right;\n",
       "    }\n",
       "</style>\n",
       "<table border=\"1\" class=\"dataframe\">\n",
       "  <thead>\n",
       "    <tr style=\"text-align: right;\">\n",
       "      <th></th>\n",
       "      <th>Customer Identity</th>\n",
       "      <th>First Policy´s Year</th>\n",
       "      <th>Brithday Year</th>\n",
       "      <th>Age</th>\n",
       "      <th>Age As Client</th>\n",
       "      <th>Claims Rate</th>\n",
       "      <th>Customer Monetary Value</th>\n",
       "      <th>Educational Degree</th>\n",
       "      <th>Geographic Living Area</th>\n",
       "      <th>Gross Monthly Salary</th>\n",
       "      <th>Has Children (Y=1)</th>\n",
       "      <th>Premiums in LOB:  Life</th>\n",
       "      <th>Premiums in LOB: Health</th>\n",
       "      <th>Premiums in LOB: Household</th>\n",
       "      <th>Premiums in LOB: Motor</th>\n",
       "      <th>Premiums in LOB: Work Compensations</th>\n",
       "      <th>premiums_sum</th>\n",
       "    </tr>\n",
       "  </thead>\n",
       "  <tbody>\n",
       "  </tbody>\n",
       "</table>\n",
       "</div>"
      ],
      "text/plain": [
       "Empty DataFrame\n",
       "Columns: [Customer Identity, First Policy´s Year, Brithday Year, Age, Age As Client, Claims Rate, Customer Monetary Value, Educational Degree, Geographic Living Area, Gross Monthly Salary, Has Children (Y=1), Premiums in LOB:  Life, Premiums in LOB: Health, Premiums in LOB: Household, Premiums in LOB: Motor, Premiums in LOB: Work Compensations, premiums_sum]\n",
       "Index: []"
      ]
     },
     "execution_count": 125,
     "metadata": {},
     "output_type": "execute_result"
    }
   ],
   "source": [
    "df[df.Age < 16]"
   ]
  },
  {
   "cell_type": "code",
   "execution_count": 126,
   "metadata": {},
   "outputs": [],
   "source": [
    "## Clusters"
   ]
  },
  {
   "cell_type": "code",
   "execution_count": 127,
   "metadata": {},
   "outputs": [],
   "source": [
    "import os\n",
    "import numpy as np\n",
    "import seaborn as sb\n",
    "import matplotlib\n",
    "from matplotlib import pyplot as plt"
   ]
  },
  {
   "cell_type": "code",
   "execution_count": 128,
   "metadata": {},
   "outputs": [],
   "source": [
    "var_cluster = df[['Premiums in LOB:  Life',\n",
    "                'Premiums in LOB: Health',\n",
    "                'Premiums in LOB: Household',\n",
    "                'Premiums in LOB: Motor',\n",
    "                'Premiums in LOB: Work Compensations']]"
   ]
  },
  {
   "cell_type": "markdown",
   "metadata": {},
   "source": [
    "## Outliers"
   ]
  },
  {
   "cell_type": "code",
   "execution_count": 129,
   "metadata": {},
   "outputs": [
    {
     "data": {
      "text/plain": [
       "<matplotlib.axes._subplots.AxesSubplot at 0x7f22e0330810>"
      ]
     },
     "execution_count": 129,
     "metadata": {},
     "output_type": "execute_result"
    },
    {
     "data": {
      "image/png": "[encoded data removed]",
      "text/plain": [
       "<Figure size 432x288 with 1 Axes>"
      ]
     },
     "metadata": {
      "needs_background": "light"
     },
     "output_type": "display_data"
    }
   ],
   "source": [
    "import seaborn as sns\n",
    "sns.boxplot(x=var_cluster['Premiums in LOB:  Life'])"
   ]
  },
  {
   "cell_type": "code",
   "execution_count": 130,
   "metadata": {},
   "outputs": [],
   "source": [
    "var_cluster = var_cluster[var_cluster['Premiums in LOB:  Life'] <= 80]"
   ]
  },
  {
   "cell_type": "code",
   "execution_count": 131,
   "metadata": {},
   "outputs": [
    {
     "data": {
      "text/plain": [
       "<matplotlib.axes._subplots.AxesSubplot at 0x7f22e030c650>"
      ]
     },
     "execution_count": 131,
     "metadata": {},
     "output_type": "execute_result"
    },
    {
     "data": {
      "image/png": "[encoded data removed]",
      "text/plain": [
       "<Figure size 432x288 with 1 Axes>"
      ]
     },
     "metadata": {
      "needs_background": "light"
     },
     "output_type": "display_data"
    }
   ],
   "source": [
    "sns.boxplot(x=var_cluster['Premiums in LOB: Health'])"
   ]
  },
  {
   "cell_type": "code",
   "execution_count": 132,
   "metadata": {},
   "outputs": [],
   "source": [
    "var_cluster = var_cluster[var_cluster['Premiums in LOB: Health'] < 365]"
   ]
  },
  {
   "cell_type": "code",
   "execution_count": 133,
   "metadata": {},
   "outputs": [
    {
     "data": {
      "text/plain": [
       "<matplotlib.axes._subplots.AxesSubplot at 0x7f22e0277810>"
      ]
     },
     "execution_count": 133,
     "metadata": {},
     "output_type": "execute_result"
    },
    {
     "data": {
      "image/png": "[encoded data removed]",
      "text/plain": [
       "<Figure size 432x288 with 1 Axes>"
      ]
     },
     "metadata": {
      "needs_background": "light"
     },
     "output_type": "display_data"
    }
   ],
   "source": [
    "sns.boxplot(x=var_cluster['Premiums in LOB: Household'])"
   ]
  },
  {
   "cell_type": "code",
   "execution_count": 134,
   "metadata": {},
   "outputs": [],
   "source": [
    "var_cluster = var_cluster[var_cluster['Premiums in LOB: Household'] < 390]"
   ]
  },
  {
   "cell_type": "code",
   "execution_count": 135,
   "metadata": {},
   "outputs": [
    {
     "data": {
      "text/plain": [
       "<matplotlib.axes._subplots.AxesSubplot at 0x7f22e022f490>"
      ]
     },
     "execution_count": 135,
     "metadata": {},
     "output_type": "execute_result"
    },
    {
     "data": {
      "image/png": "[encoded data removed]",
      "text/plain": [
       "<Figure size 432x288 with 1 Axes>"
      ]
     },
     "metadata": {
      "needs_background": "light"
     },
     "output_type": "display_data"
    }
   ],
   "source": [
    "sns.boxplot(x=var_cluster['Premiums in LOB: Motor'])"
   ]
  },
  {
   "cell_type": "code",
   "execution_count": 136,
   "metadata": {},
   "outputs": [],
   "source": [
    "var_cluster = var_cluster[var_cluster['Premiums in LOB: Motor'] < 1000]"
   ]
  },
  {
   "cell_type": "code",
   "execution_count": 137,
   "metadata": {},
   "outputs": [
    {
     "data": {
      "text/plain": [
       "<matplotlib.axes._subplots.AxesSubplot at 0x7f22e01c1f50>"
      ]
     },
     "execution_count": 137,
     "metadata": {},
     "output_type": "execute_result"
    },
    {
     "data": {
      "image/png": "[encoded data removed]",
      "text/plain": [
       "<Figure size 432x288 with 1 Axes>"
      ]
     },
     "metadata": {
      "needs_background": "light"
     },
     "output_type": "display_data"
    }
   ],
   "source": [
    "sns.boxplot(x=var_cluster['Premiums in LOB: Work Compensations'])"
   ]
  },
  {
   "cell_type": "code",
   "execution_count": 138,
   "metadata": {},
   "outputs": [],
   "source": [
    "var_cluster = var_cluster[var_cluster['Premiums in LOB: Work Compensations'] < 70]"
   ]
  },
  {
   "cell_type": "code",
   "execution_count": 139,
   "metadata": {},
   "outputs": [
    {
     "data": {
      "text/plain": [
       "(6052, 5)"
      ]
     },
     "execution_count": 139,
     "metadata": {},
     "output_type": "execute_result"
    }
   ],
   "source": [
    "var_cluster.shape"
   ]
  },
  {
   "cell_type": "code",
   "execution_count": 140,
   "metadata": {},
   "outputs": [
    {
     "data": {
      "text/html": [
       "<div>\n",
       "<style scoped>\n",
       "    .dataframe tbody tr th:only-of-type {\n",
       "        vertical-align: middle;\n",
       "    }\n",
       "\n",
       "    .dataframe tbody tr th {\n",
       "        vertical-align: top;\n",
       "    }\n",
       "\n",
       "    .dataframe thead th {\n",
       "        text-align: right;\n",
       "    }\n",
       "</style>\n",
       "<table border=\"1\" class=\"dataframe\">\n",
       "  <thead>\n",
       "    <tr style=\"text-align: right;\">\n",
       "      <th></th>\n",
       "      <th>Premiums in LOB:  Life</th>\n",
       "      <th>Premiums in LOB: Health</th>\n",
       "      <th>Premiums in LOB: Household</th>\n",
       "      <th>Premiums in LOB: Motor</th>\n",
       "      <th>Premiums in LOB: Work Compensations</th>\n",
       "    </tr>\n",
       "  </thead>\n",
       "  <tbody>\n",
       "    <tr>\n",
       "      <th>0</th>\n",
       "      <td>1.318476</td>\n",
       "      <td>-0.131669</td>\n",
       "      <td>-0.243464</td>\n",
       "      <td>0.059082</td>\n",
       "      <td>-0.182952</td>\n",
       "    </tr>\n",
       "    <tr>\n",
       "      <th>1</th>\n",
       "      <td>0.720089</td>\n",
       "      <td>2.071100</td>\n",
       "      <td>-0.595511</td>\n",
       "      <td>-1.809621</td>\n",
       "      <td>0.430745</td>\n",
       "    </tr>\n",
       "    <tr>\n",
       "      <th>2</th>\n",
       "      <td>-0.129035</td>\n",
       "      <td>0.352563</td>\n",
       "      <td>-0.552115</td>\n",
       "      <td>-0.300704</td>\n",
       "      <td>1.133414</td>\n",
       "    </tr>\n",
       "    <tr>\n",
       "      <th>3</th>\n",
       "      <td>-0.733062</td>\n",
       "      <td>-0.553485</td>\n",
       "      <td>-0.833948</td>\n",
       "      <td>0.686268</td>\n",
       "      <td>-0.677125</td>\n",
       "    </tr>\n",
       "    <tr>\n",
       "      <th>4</th>\n",
       "      <td>-0.339778</td>\n",
       "      <td>2.161718</td>\n",
       "      <td>1.864433</td>\n",
       "      <td>-2.056630</td>\n",
       "      <td>0.323549</td>\n",
       "    </tr>\n",
       "  </tbody>\n",
       "</table>\n",
       "</div>"
      ],
      "text/plain": [
       "   Premiums in LOB:  Life  Premiums in LOB: Health  \\\n",
       "0                1.318476                -0.131669   \n",
       "1                0.720089                 2.071100   \n",
       "2               -0.129035                 0.352563   \n",
       "3               -0.733062                -0.553485   \n",
       "4               -0.339778                 2.161718   \n",
       "\n",
       "   Premiums in LOB: Household  Premiums in LOB: Motor  \\\n",
       "0                   -0.243464                0.059082   \n",
       "1                   -0.595511               -1.809621   \n",
       "2                   -0.552115               -0.300704   \n",
       "3                   -0.833948                0.686268   \n",
       "4                    1.864433               -2.056630   \n",
       "\n",
       "   Premiums in LOB: Work Compensations  \n",
       "0                            -0.182952  \n",
       "1                             0.430745  \n",
       "2                             1.133414  \n",
       "3                            -0.677125  \n",
       "4                             0.323549  "
      ]
     },
     "execution_count": 140,
     "metadata": {},
     "output_type": "execute_result"
    }
   ],
   "source": [
    "from sklearn.preprocessing import StandardScaler\n",
    "\n",
    "scaler = StandardScaler()\n",
    "\n",
    "CA_Norm = scaler.fit_transform(var_cluster)\n",
    "\n",
    "CA_Norm = pd.DataFrame(CA_Norm, columns = var_cluster.columns)\n",
    "\n",
    "CA_Norm.head()"
   ]
  },
  {
   "cell_type": "markdown",
   "metadata": {},
   "source": [
    "## Reduce the dimention ##"
   ]
  },
  {
   "cell_type": "code",
   "execution_count": 160,
   "metadata": {},
   "outputs": [],
   "source": [
    "from sklearn.decomposition import PCA\n",
    "\n",
    "pca = PCA(n_components = 'mle')\n",
    "principalComponents = pca.fit_transform(CA_Norm)"
   ]
  },
  {
   "cell_type": "code",
   "execution_count": 161,
   "metadata": {},
   "outputs": [
    {
     "data": {
      "text/plain": [
       "array([0.59970521, 0.14916959, 0.12778837, 0.1209775 ])"
      ]
     },
     "execution_count": 161,
     "metadata": {},
     "output_type": "execute_result"
    }
   ],
   "source": [
    "pca.explained_variance_ratio_"
   ]
  },
  {
   "cell_type": "code",
   "execution_count": 162,
   "metadata": {},
   "outputs": [
    {
     "data": {
      "text/plain": [
       "array([[ 0.40748813,  0.47441932,  0.37842913, -0.55729821,  0.39381447],\n",
       "       [ 0.26484165, -0.63874267,  0.56568702,  0.28148286,  0.35018896],\n",
       "       [-0.21750895,  0.12773876,  0.69178723, -0.05697347, -0.67420851],\n",
       "       [ 0.83256515, -0.1026442 , -0.2071396 ,  0.02546463, -0.50273668]])"
      ]
     },
     "execution_count": 162,
     "metadata": {},
     "output_type": "execute_result"
    }
   ],
   "source": [
    "pca.components_"
   ]
  },
  {
   "cell_type": "code",
   "execution_count": 163,
   "metadata": {},
   "outputs": [
    {
     "data": {
      "text/plain": [
       "array([134.71109695,  67.18535421,  62.18421181,  60.50437235])"
      ]
     },
     "execution_count": 163,
     "metadata": {},
     "output_type": "execute_result"
    }
   ],
   "source": [
    "pca.singular_values_"
   ]
  },
  {
   "cell_type": "code",
   "execution_count": 164,
   "metadata": {},
   "outputs": [
    {
     "data": {
      "text/plain": [
       "array([[ 1.30043099, -0.20055287, -0.25808078, -0.03289192, -0.19740706],\n",
       "       [ 0.73723518,  2.13655301, -0.58162228, -1.72222768,  0.44448034],\n",
       "       [-0.13241636,  0.33965684, -0.55485354, -0.31793639,  1.13070548],\n",
       "       ...,\n",
       "       [-0.60961483,  0.16230719, -0.55149473,  0.1346231 , -0.31134298],\n",
       "       [-0.44413264, -0.19348445,  0.27534532,  0.3183544 , -0.82757138],\n",
       "       [-0.74535731, -0.22536993, -0.10257412,  0.39461384, -0.40267429]])"
      ]
     },
     "execution_count": 164,
     "metadata": {},
     "output_type": "execute_result"
    }
   ],
   "source": [
    "pca.inverse_transform(principalComponents)"
   ]
  },
  {
   "cell_type": "code",
   "execution_count": 165,
   "metadata": {},
   "outputs": [
    {
     "data": {
      "text/plain": [
       "4"
      ]
     },
     "execution_count": 165,
     "metadata": {},
     "output_type": "execute_result"
    }
   ],
   "source": [
    "pca.n_components_"
   ]
  },
  {
   "cell_type": "code",
   "execution_count": 166,
   "metadata": {},
   "outputs": [
    {
     "data": {
      "text/plain": [
       "5"
      ]
     },
     "execution_count": 166,
     "metadata": {},
     "output_type": "execute_result"
    }
   ],
   "source": [
    "pca.n_features_"
   ]
  },
  {
   "cell_type": "markdown",
   "metadata": {},
   "source": [
    "## TO DO: FACTOR ANALYSIS ##"
   ]
  },
  {
   "cell_type": "code",
   "execution_count": 167,
   "metadata": {},
   "outputs": [],
   "source": [
    "from sklearn.cluster import KMeans"
   ]
  },
  {
   "cell_type": "code",
   "execution_count": 168,
   "metadata": {},
   "outputs": [
    {
     "data": {
      "text/plain": [
       "[<matplotlib.lines.Line2D at 0x7f22dd7883d0>]"
      ]
     },
     "execution_count": 168,
     "metadata": {},
     "output_type": "execute_result"
    },
    {
     "data": {
      "image/png": "[encoded data removed]",
      "text/plain": [
       "<Figure size 432x288 with 1 Axes>"
      ]
     },
     "metadata": {
      "needs_background": "light"
     },
     "output_type": "display_data"
    }
   ],
   "source": [
    "L = []\n",
    "for i in range(1,20):\n",
    "    kmeans = KMeans(n_clusters=i,\n",
    "                   random_state=0,\n",
    "                   n_init=5,\n",
    "                   max_iter=200).fit(CA_Norm)\n",
    "    L.append(kmeans.inertia_)\n",
    "plt.plot(range(1,20),L)"
   ]
  },
  {
   "cell_type": "code",
   "execution_count": 169,
   "metadata": {},
   "outputs": [],
   "source": [
    "kmeans = KMeans(n_clusters=3,\n",
    "               random_state=0,\n",
    "               n_init= 10,\n",
    "               max_iter= 2000).fit(CA_Norm)"
   ]
  },
  {
   "cell_type": "code",
   "execution_count": 170,
   "metadata": {},
   "outputs": [],
   "source": [
    "my_clusters = kmeans.cluster_centers_\n",
    "inv = scaler.inverse_transform(X = my_clusters)\n",
    "df_cluster = pd.DataFrame(inv, columns = CA_Norm.columns)"
   ]
  },
  {
   "cell_type": "code",
   "execution_count": 171,
   "metadata": {},
   "outputs": [
    {
     "data": {
      "text/html": [
       "<div>\n",
       "<style scoped>\n",
       "    .dataframe tbody tr th:only-of-type {\n",
       "        vertical-align: middle;\n",
       "    }\n",
       "\n",
       "    .dataframe tbody tr th {\n",
       "        vertical-align: top;\n",
       "    }\n",
       "\n",
       "    .dataframe thead th {\n",
       "        text-align: right;\n",
       "    }\n",
       "</style>\n",
       "<table border=\"1\" class=\"dataframe\">\n",
       "  <thead>\n",
       "    <tr style=\"text-align: right;\">\n",
       "      <th></th>\n",
       "      <th>Premiums in LOB:  Life</th>\n",
       "      <th>Premiums in LOB: Health</th>\n",
       "      <th>Premiums in LOB: Household</th>\n",
       "      <th>Premiums in LOB: Motor</th>\n",
       "      <th>Premiums in LOB: Work Compensations</th>\n",
       "    </tr>\n",
       "  </thead>\n",
       "  <tbody>\n",
       "    <tr>\n",
       "      <th>0</th>\n",
       "      <td>18.911080</td>\n",
       "      <td>173.269805</td>\n",
       "      <td>105.913723</td>\n",
       "      <td>355.371695</td>\n",
       "      <td>20.248234</td>\n",
       "    </tr>\n",
       "    <tr>\n",
       "      <th>1</th>\n",
       "      <td>42.074595</td>\n",
       "      <td>223.626914</td>\n",
       "      <td>193.574034</td>\n",
       "      <td>248.226190</td>\n",
       "      <td>37.094686</td>\n",
       "    </tr>\n",
       "    <tr>\n",
       "      <th>2</th>\n",
       "      <td>7.716795</td>\n",
       "      <td>85.937674</td>\n",
       "      <td>33.741179</td>\n",
       "      <td>479.081263</td>\n",
       "      <td>7.349864</td>\n",
       "    </tr>\n",
       "  </tbody>\n",
       "</table>\n",
       "</div>"
      ],
      "text/plain": [
       "   Premiums in LOB:  Life  Premiums in LOB: Health  \\\n",
       "0               18.911080               173.269805   \n",
       "1               42.074595               223.626914   \n",
       "2                7.716795                85.937674   \n",
       "\n",
       "   Premiums in LOB: Household  Premiums in LOB: Motor  \\\n",
       "0                  105.913723              355.371695   \n",
       "1                  193.574034              248.226190   \n",
       "2                   33.741179              479.081263   \n",
       "\n",
       "   Premiums in LOB: Work Compensations  \n",
       "0                            20.248234  \n",
       "1                            37.094686  \n",
       "2                             7.349864  "
      ]
     },
     "execution_count": 171,
     "metadata": {},
     "output_type": "execute_result"
    }
   ],
   "source": [
    "df_cluster"
   ]
  },
  {
   "cell_type": "code",
   "execution_count": 172,
   "metadata": {},
   "outputs": [
    {
     "data": {
      "text/plain": [
       "<matplotlib.collections.PathCollection at 0x7f22dd6f4890>"
      ]
     },
     "execution_count": 172,
     "metadata": {},
     "output_type": "execute_result"
    },
    {
     "data": {
      "image/png": "[encoded data removed]",
      "text/plain": [
       "<Figure size 432x288 with 1 Axes>"
      ]
     },
     "metadata": {
      "needs_background": "light"
     },
     "output_type": "display_data"
    }
   ],
   "source": [
    "plt.scatter(var_cluster.iloc[:, 0].values, var_cluster.iloc[:, 1].values, c=kmeans.labels_, cmap='rainbow') #c=kmeans, cmap='viridis')\n",
    "# add centroids\n",
    "plt.scatter(df_cluster.iloc[:, 0].values, df_cluster.iloc[:, 1].values, c='black')"
   ]
  },
  {
   "cell_type": "code",
   "execution_count": null,
   "metadata": {},
   "outputs": [],
   "source": []
  }
 ],
 "metadata": {
  "kernelspec": {
   "display_name": "Python 3",
   "language": "python",
   "name": "python3"
  },
  "language_info": {
   "codemirror_mode": {
    "name": "ipython",
    "version": 3
   },
   "file_extension": ".py",
   "mimetype": "text/x-python",
   "name": "python",
   "nbconvert_exporter": "python",
   "pygments_lexer": "ipython3",
   "version": "3.7.4"
  }
 },
 "nbformat": 4,
 "nbformat_minor": 4
}
