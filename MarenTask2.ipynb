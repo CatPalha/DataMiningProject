{
 "cells": [
  {
   "cell_type": "code",
   "execution_count": 1,
   "metadata": {},
   "outputs": [],
   "source": [
    "import pandas as pd"
   ]
  },
  {
   "cell_type": "markdown",
   "metadata": {},
   "source": [
    "**FIRST VIEW ON DATA**"
   ]
  },
  {
   "cell_type": "code",
   "execution_count": 2,
   "metadata": {},
   "outputs": [],
   "source": [
    "#Read the csv file into a data frame\n",
    "df = pd.read_csv('A2Z_insurance.csv')\n",
    "#print the first 5 rows of the data frame"
   ]
  },
  {
   "cell_type": "code",
   "execution_count": 3,
   "metadata": {},
   "outputs": [],
   "source": [
    "df.rename(columns={\"Customer Identity\":\"customer_id\",\"First Policy´s Year\":\"first_policy_year\",\"Brithday Year\":\"birthday_year\",\"Educational Degree\":\"educational_degree\",\"Gross Monthly Salary\":\"gross_monthly_salary\",\"Geographic Living Area\":\"geographic_living_area\",\"Has Children (Y=1)\":\"has_children\",\"Customer Monetary Value\":\"customer_monetary_value\",\"Claims Rate\":\"claims_rate\",\"Premiums in LOB: Motor\":\"premiums_LOB_motor\",\"Premiums in LOB: Household\":\"premiums_LOB_household\",\"Premiums in LOB: Health\":\"premiums_LOB_health\",\"Premiums in LOB:  Life\":\"premiums_LOB_life\",\"Premiums in LOB: Work Compensations\":\"premiums_LOB_work_compensations\"}, inplace=True)"
   ]
  },
  {
   "cell_type": "code",
   "execution_count": 4,
   "metadata": {},
   "outputs": [
    {
     "data": {
      "text/plain": [
       "customer_id                          0\n",
       "first_policy_year                   30\n",
       "birthday_year                       17\n",
       "educational_degree                  17\n",
       "gross_monthly_salary                36\n",
       "geographic_living_area               1\n",
       "has_children                        21\n",
       "customer_monetary_value              0\n",
       "claims_rate                          0\n",
       "premiums_LOB_motor                  34\n",
       "premiums_LOB_household               0\n",
       "premiums_LOB_health                 43\n",
       "premiums_LOB_life                  104\n",
       "premiums_LOB_work_compensations     86\n",
       "dtype: int64"
      ]
     },
     "execution_count": 4,
     "metadata": {},
     "output_type": "execute_result"
    }
   ],
   "source": [
    "df.isnull().sum()"
   ]
  },
  {
   "cell_type": "markdown",
   "metadata": {},
   "source": [
    "Task Maren: Replace the NaN in premium with 0"
   ]
  },
  {
   "cell_type": "markdown",
   "metadata": {},
   "source": [
    "premiums_LOB_motor "
   ]
  },
  {
   "cell_type": "code",
   "execution_count": 5,
   "metadata": {},
   "outputs": [
    {
     "data": {
      "text/plain": [
       "0"
      ]
     },
     "execution_count": 5,
     "metadata": {},
     "output_type": "execute_result"
    }
   ],
   "source": [
    "df['premiums_LOB_motor']= df['premiums_LOB_motor'].fillna(0)\n",
    "df[\"premiums_LOB_motor\"].isnull().sum()"
   ]
  },
  {
   "cell_type": "markdown",
   "metadata": {},
   "source": [
    "premiums_LOB_health"
   ]
  },
  {
   "cell_type": "code",
   "execution_count": 6,
   "metadata": {},
   "outputs": [
    {
     "data": {
      "text/plain": [
       "0"
      ]
     },
     "execution_count": 6,
     "metadata": {},
     "output_type": "execute_result"
    }
   ],
   "source": [
    "df['premiums_LOB_health'] = df['premiums_LOB_health'].fillna(0)\n",
    "df['premiums_LOB_health'].isnull().sum()"
   ]
  },
  {
   "cell_type": "markdown",
   "metadata": {},
   "source": [
    "premiums_LOB_life "
   ]
  },
  {
   "cell_type": "code",
   "execution_count": 7,
   "metadata": {},
   "outputs": [
    {
     "data": {
      "text/plain": [
       "0"
      ]
     },
     "execution_count": 7,
     "metadata": {},
     "output_type": "execute_result"
    }
   ],
   "source": [
    "df['premiums_LOB_life'] = df['premiums_LOB_life'].fillna(0)\n",
    "df['premiums_LOB_life'].isnull().sum()"
   ]
  },
  {
   "cell_type": "markdown",
   "metadata": {},
   "source": [
    "premiums_LOB_work_compensations "
   ]
  },
  {
   "cell_type": "code",
   "execution_count": 8,
   "metadata": {},
   "outputs": [
    {
     "data": {
      "text/plain": [
       "0"
      ]
     },
     "execution_count": 8,
     "metadata": {},
     "output_type": "execute_result"
    }
   ],
   "source": [
    "df[\"premiums_LOB_work_compensations\"] = df[\"premiums_LOB_work_compensations\"].fillna(0)\n",
    "df[\"premiums_LOB_work_compensations\"].isnull().sum()"
   ]
  },
  {
   "cell_type": "code",
   "execution_count": 9,
   "metadata": {},
   "outputs": [
    {
     "data": {
      "text/plain": [
       "customer_id                         0\n",
       "first_policy_year                  30\n",
       "birthday_year                      17\n",
       "educational_degree                 17\n",
       "gross_monthly_salary               36\n",
       "geographic_living_area              1\n",
       "has_children                       21\n",
       "customer_monetary_value             0\n",
       "claims_rate                         0\n",
       "premiums_LOB_motor                  0\n",
       "premiums_LOB_household              0\n",
       "premiums_LOB_health                 0\n",
       "premiums_LOB_life                   0\n",
       "premiums_LOB_work_compensations     0\n",
       "dtype: int64"
      ]
     },
     "execution_count": 9,
     "metadata": {},
     "output_type": "execute_result"
    }
   ],
   "source": [
    "df.isnull().sum()"
   ]
  },
  {
   "cell_type": "code",
   "execution_count": null,
   "metadata": {},
   "outputs": [],
   "source": []
  }
 ],
 "metadata": {
  "kernelspec": {
   "display_name": "Python 3",
   "language": "python",
   "name": "python3"
  },
  "language_info": {
   "codemirror_mode": {
    "name": "ipython",
    "version": 3
   },
   "file_extension": ".py",
   "mimetype": "text/x-python",
   "name": "python",
   "nbconvert_exporter": "python",
   "pygments_lexer": "ipython3",
   "version": "3.7.3"
  }
 },
 "nbformat": 4,
 "nbformat_minor": 4
}
