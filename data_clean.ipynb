{
 "cells": [
  {
   "cell_type": "markdown",
   "metadata": {},
   "source": [
    "# DATA CLEANING #"
   ]
  },
  {
   "cell_type": "markdown",
   "metadata": {},
   "source": [
    "**1) Removing NaN values**"
   ]
  },
  {
   "cell_type": "code",
   "execution_count": 97,
   "metadata": {},
   "outputs": [
    {
     "data": {
      "text/plain": [
       "(10296, 14)"
      ]
     },
     "execution_count": 97,
     "metadata": {},
     "output_type": "execute_result"
    }
   ],
   "source": [
    "import pandas as pd \n",
    "\n",
    "df = pd.read_csv('A2Z_insurance.csv')\n",
    "\n",
    "df.shape"
   ]
  },
  {
   "cell_type": "code",
   "execution_count": 98,
   "metadata": {},
   "outputs": [
    {
     "data": {
      "text/plain": [
       "(8299, 14)"
      ]
     },
     "execution_count": 98,
     "metadata": {},
     "output_type": "execute_result"
    }
   ],
   "source": [
    "df_no_prob = df[~(df['First Policy´s Year'] < df['Brithday Year'])]\n",
    "df_no_prob.shape\n",
    "#df_no_prob.isnull().sum()"
   ]
  },
  {
   "cell_type": "code",
   "execution_count": 100,
   "metadata": {},
   "outputs": [
    {
     "name": "stderr",
     "output_type": "stream",
     "text": [
      "/home/cat/.local/lib/python3.7/site-packages/pandas/core/frame.py:4025: SettingWithCopyWarning: \n",
      "A value is trying to be set on a copy of a slice from a DataFrame\n",
      "\n",
      "See the caveats in the documentation: http://pandas.pydata.org/pandas-docs/stable/indexing.html#indexing-view-versus-copy\n",
      "  return super(DataFrame, self).rename(**kwargs)\n"
     ]
    },
    {
     "data": {
      "text/plain": [
       "(1997, 14)"
      ]
     },
     "execution_count": 100,
     "metadata": {},
     "output_type": "execute_result"
    }
   ],
   "source": [
    "df_prob = df[df['First Policy´s Year'] < df['Brithday Year']]\n",
    "df_prob.rename(columns = {'First Policy´s Year': 'Brithday Year', 'Brithday Year': 'First Policy´s Year'}, inplace = True)\n",
    "df_prob.head()\n",
    "\n",
    "df_prob.shape"
   ]
  },
  {
   "cell_type": "code",
   "execution_count": 101,
   "metadata": {},
   "outputs": [
    {
     "name": "stderr",
     "output_type": "stream",
     "text": [
      "/home/cat/.local/lib/python3.7/site-packages/ipykernel_launcher.py:1: FutureWarning: Sorting because non-concatenation axis is not aligned. A future version\n",
      "of pandas will change to not sort by default.\n",
      "\n",
      "To accept the future behavior, pass 'sort=False'.\n",
      "\n",
      "To retain the current behavior and silence the warning, pass 'sort=True'.\n",
      "\n",
      "  \"\"\"Entry point for launching an IPython kernel.\n"
     ]
    },
    {
     "data": {
      "text/plain": [
       "Brithday Year                           17\n",
       "Claims Rate                              0\n",
       "Customer Identity                        0\n",
       "Customer Monetary Value                  0\n",
       "Educational Degree                      17\n",
       "First Policy´s Year                     30\n",
       "Geographic Living Area                   1\n",
       "Gross Monthly Salary                    36\n",
       "Has Children (Y=1)                      21\n",
       "Premiums in LOB:  Life                 104\n",
       "Premiums in LOB: Health                 43\n",
       "Premiums in LOB: Household               0\n",
       "Premiums in LOB: Motor                  34\n",
       "Premiums in LOB: Work Compensations     86\n",
       "dtype: int64"
      ]
     },
     "execution_count": 101,
     "metadata": {},
     "output_type": "execute_result"
    }
   ],
   "source": [
    "df = pd.concat([df_prob,df_no_prob])\n",
    "#Porque é tenho fico com menos linhas?\n",
    "df = df.sort_values(by = 'Customer Identity')\n",
    "df.isnull().sum()"
   ]
  },
  {
   "cell_type": "code",
   "execution_count": 102,
   "metadata": {},
   "outputs": [
    {
     "data": {
      "text/plain": [
       "0"
      ]
     },
     "execution_count": 102,
     "metadata": {},
     "output_type": "execute_result"
    }
   ],
   "source": [
    "#There aren't duplicated rows\n",
    "df.duplicated('Customer Identity').sum()"
   ]
  },
  {
   "cell_type": "code",
   "execution_count": 103,
   "metadata": {},
   "outputs": [
    {
     "data": {
      "text/plain": [
       "Brithday Year                           17\n",
       "Claims Rate                              0\n",
       "Customer Identity                        0\n",
       "Customer Monetary Value                  0\n",
       "Educational Degree                      17\n",
       "First Policy´s Year                     30\n",
       "Geographic Living Area                   1\n",
       "Gross Monthly Salary                    36\n",
       "Has Children (Y=1)                      21\n",
       "Premiums in LOB:  Life                 104\n",
       "Premiums in LOB: Health                 43\n",
       "Premiums in LOB: Household               0\n",
       "Premiums in LOB: Motor                  34\n",
       "Premiums in LOB: Work Compensations     86\n",
       "Age                                     17\n",
       "Age As Client                           30\n",
       "dtype: int64"
      ]
     },
     "execution_count": 103,
     "metadata": {},
     "output_type": "execute_result"
    }
   ],
   "source": [
    "#Age Columns\n",
    "df['Age'] = 2016 - df['Brithday Year']\n",
    "df['Age As Client'] = 2016 - df['First Policy´s Year']\n",
    "df.columns\n",
    "df.isnull().sum()"
   ]
  },
  {
   "cell_type": "code",
   "execution_count": 105,
   "metadata": {},
   "outputs": [],
   "source": [
    "#Ordering the columns\n",
    "\n",
    "df = df[['Customer Identity', 'First Policy´s Year', 'Brithday Year', 'Age', 'Age As Client', 'Claims Rate',\n",
    "       'Customer Monetary Value', 'Educational Degree',\n",
    "       'Geographic Living Area', 'Gross Monthly Salary', 'Has Children (Y=1)',\n",
    "       'Premiums in LOB:  Life', 'Premiums in LOB: Health',\n",
    "       'Premiums in LOB: Household', 'Premiums in LOB: Motor',\n",
    "       'Premiums in LOB: Work Compensations']]\n",
    "\n",
    "#df[df['First Policy´s Year'] < df['Brithday Year']]"
   ]
  },
  {
   "cell_type": "code",
   "execution_count": 106,
   "metadata": {},
   "outputs": [
    {
     "data": {
      "text/plain": [
       "Customer Identity                        0\n",
       "First Policy´s Year                     30\n",
       "Brithday Year                           17\n",
       "Age                                     17\n",
       "Age As Client                           30\n",
       "Claims Rate                              0\n",
       "Customer Monetary Value                  0\n",
       "Educational Degree                      17\n",
       "Geographic Living Area                   1\n",
       "Gross Monthly Salary                    36\n",
       "Has Children (Y=1)                      21\n",
       "Premiums in LOB:  Life                 104\n",
       "Premiums in LOB: Health                 43\n",
       "Premiums in LOB: Household               0\n",
       "Premiums in LOB: Motor                  34\n",
       "Premiums in LOB: Work Compensations     86\n",
       "dtype: int64"
      ]
     },
     "execution_count": 106,
     "metadata": {},
     "output_type": "execute_result"
    }
   ],
   "source": [
    "df.isnull().sum()"
   ]
  },
  {
   "cell_type": "code",
   "execution_count": 107,
   "metadata": {},
   "outputs": [
    {
     "name": "stdout",
     "output_type": "stream",
     "text": [
      "Int64Index([7195], dtype='int64')\n",
      "Int64Index([9294], dtype='int64')\n"
     ]
    }
   ],
   "source": [
    "#Removing the guy from the future and the one with 965y.\n",
    "\n",
    "print(df[df['Brithday Year'] == 1028.0].index) #Index 7166\n",
    "print(df[df['First Policy´s Year'] == 53784].index) #Index 9253\n",
    "\n",
    "df = df.drop([df.index[7195], df.index[9295]])"
   ]
  },
  {
   "cell_type": "code",
   "execution_count": 108,
   "metadata": {},
   "outputs": [
    {
     "data": {
      "text/html": [
       "<div>\n",
       "<style scoped>\n",
       "    .dataframe tbody tr th:only-of-type {\n",
       "        vertical-align: middle;\n",
       "    }\n",
       "\n",
       "    .dataframe tbody tr th {\n",
       "        vertical-align: top;\n",
       "    }\n",
       "\n",
       "    .dataframe thead th {\n",
       "        text-align: right;\n",
       "    }\n",
       "</style>\n",
       "<table border=\"1\" class=\"dataframe\">\n",
       "  <thead>\n",
       "    <tr style=\"text-align: right;\">\n",
       "      <th></th>\n",
       "      <th>Customer Identity</th>\n",
       "      <th>First Policy´s Year</th>\n",
       "      <th>Brithday Year</th>\n",
       "      <th>Age</th>\n",
       "      <th>Age As Client</th>\n",
       "      <th>Claims Rate</th>\n",
       "      <th>Customer Monetary Value</th>\n",
       "      <th>Geographic Living Area</th>\n",
       "      <th>Gross Monthly Salary</th>\n",
       "      <th>Has Children (Y=1)</th>\n",
       "      <th>Premiums in LOB:  Life</th>\n",
       "      <th>Premiums in LOB: Health</th>\n",
       "      <th>Premiums in LOB: Household</th>\n",
       "      <th>Premiums in LOB: Motor</th>\n",
       "      <th>Premiums in LOB: Work Compensations</th>\n",
       "    </tr>\n",
       "  </thead>\n",
       "  <tbody>\n",
       "    <tr>\n",
       "      <th>count</th>\n",
       "      <td>10294.000000</td>\n",
       "      <td>10264.000000</td>\n",
       "      <td>10277.000000</td>\n",
       "      <td>10277.000000</td>\n",
       "      <td>10264.000000</td>\n",
       "      <td>10294.000000</td>\n",
       "      <td>10294.000000</td>\n",
       "      <td>10293.000000</td>\n",
       "      <td>10258.000000</td>\n",
       "      <td>10273.000000</td>\n",
       "      <td>10190.000000</td>\n",
       "      <td>10251.000000</td>\n",
       "      <td>10294.000000</td>\n",
       "      <td>10260.000000</td>\n",
       "      <td>10208.000000</td>\n",
       "    </tr>\n",
       "    <tr>\n",
       "      <th>mean</th>\n",
       "      <td>5147.898193</td>\n",
       "      <td>1992.696415</td>\n",
       "      <td>1966.465505</td>\n",
       "      <td>49.534495</td>\n",
       "      <td>23.303585</td>\n",
       "      <td>0.742749</td>\n",
       "      <td>177.911891</td>\n",
       "      <td>2.709900</td>\n",
       "      <td>2506.682199</td>\n",
       "      <td>0.706804</td>\n",
       "      <td>41.858217</td>\n",
       "      <td>171.569492</td>\n",
       "      <td>210.431810</td>\n",
       "      <td>300.474373</td>\n",
       "      <td>41.279712</td>\n",
       "    </tr>\n",
       "    <tr>\n",
       "      <th>std</th>\n",
       "      <td>2972.282591</td>\n",
       "      <td>511.300763</td>\n",
       "      <td>15.476885</td>\n",
       "      <td>15.476885</td>\n",
       "      <td>511.300763</td>\n",
       "      <td>2.917246</td>\n",
       "      <td>1945.999819</td>\n",
       "      <td>1.266238</td>\n",
       "      <td>1157.548422</td>\n",
       "      <td>0.455250</td>\n",
       "      <td>47.483404</td>\n",
       "      <td>296.428977</td>\n",
       "      <td>352.630178</td>\n",
       "      <td>211.925148</td>\n",
       "      <td>51.518302</td>\n",
       "    </tr>\n",
       "    <tr>\n",
       "      <th>min</th>\n",
       "      <td>1.000000</td>\n",
       "      <td>1974.000000</td>\n",
       "      <td>1935.000000</td>\n",
       "      <td>18.000000</td>\n",
       "      <td>-51768.000000</td>\n",
       "      <td>0.000000</td>\n",
       "      <td>-165680.420000</td>\n",
       "      <td>1.000000</td>\n",
       "      <td>333.000000</td>\n",
       "      <td>0.000000</td>\n",
       "      <td>-7.000000</td>\n",
       "      <td>-2.110000</td>\n",
       "      <td>-75.000000</td>\n",
       "      <td>-4.110000</td>\n",
       "      <td>-12.000000</td>\n",
       "    </tr>\n",
       "    <tr>\n",
       "      <th>25%</th>\n",
       "      <td>2574.250000</td>\n",
       "      <td>1982.000000</td>\n",
       "      <td>1953.000000</td>\n",
       "      <td>37.000000</td>\n",
       "      <td>23.000000</td>\n",
       "      <td>0.390000</td>\n",
       "      <td>-9.440000</td>\n",
       "      <td>1.000000</td>\n",
       "      <td>1706.000000</td>\n",
       "      <td>0.000000</td>\n",
       "      <td>9.890000</td>\n",
       "      <td>111.800000</td>\n",
       "      <td>49.450000</td>\n",
       "      <td>190.590000</td>\n",
       "      <td>10.670000</td>\n",
       "    </tr>\n",
       "    <tr>\n",
       "      <th>50%</th>\n",
       "      <td>5147.500000</td>\n",
       "      <td>1988.000000</td>\n",
       "      <td>1968.000000</td>\n",
       "      <td>48.000000</td>\n",
       "      <td>28.000000</td>\n",
       "      <td>0.720000</td>\n",
       "      <td>187.035000</td>\n",
       "      <td>3.000000</td>\n",
       "      <td>2501.500000</td>\n",
       "      <td>1.000000</td>\n",
       "      <td>25.560000</td>\n",
       "      <td>162.810000</td>\n",
       "      <td>132.800000</td>\n",
       "      <td>298.610000</td>\n",
       "      <td>25.670000</td>\n",
       "    </tr>\n",
       "    <tr>\n",
       "      <th>75%</th>\n",
       "      <td>7721.750000</td>\n",
       "      <td>1993.000000</td>\n",
       "      <td>1979.000000</td>\n",
       "      <td>63.000000</td>\n",
       "      <td>34.000000</td>\n",
       "      <td>0.980000</td>\n",
       "      <td>399.832500</td>\n",
       "      <td>4.000000</td>\n",
       "      <td>3290.750000</td>\n",
       "      <td>1.000000</td>\n",
       "      <td>57.790000</td>\n",
       "      <td>219.430000</td>\n",
       "      <td>290.050000</td>\n",
       "      <td>408.300000</td>\n",
       "      <td>56.790000</td>\n",
       "    </tr>\n",
       "    <tr>\n",
       "      <th>max</th>\n",
       "      <td>10296.000000</td>\n",
       "      <td>53784.000000</td>\n",
       "      <td>1998.000000</td>\n",
       "      <td>81.000000</td>\n",
       "      <td>42.000000</td>\n",
       "      <td>256.200000</td>\n",
       "      <td>11875.890000</td>\n",
       "      <td>4.000000</td>\n",
       "      <td>55215.000000</td>\n",
       "      <td>1.000000</td>\n",
       "      <td>398.300000</td>\n",
       "      <td>28272.000000</td>\n",
       "      <td>25048.800000</td>\n",
       "      <td>11604.420000</td>\n",
       "      <td>1988.700000</td>\n",
       "    </tr>\n",
       "  </tbody>\n",
       "</table>\n",
       "</div>"
      ],
      "text/plain": [
       "       Customer Identity  First Policy´s Year  Brithday Year           Age  \\\n",
       "count       10294.000000         10264.000000   10277.000000  10277.000000   \n",
       "mean         5147.898193          1992.696415    1966.465505     49.534495   \n",
       "std          2972.282591           511.300763      15.476885     15.476885   \n",
       "min             1.000000          1974.000000    1935.000000     18.000000   \n",
       "25%          2574.250000          1982.000000    1953.000000     37.000000   \n",
       "50%          5147.500000          1988.000000    1968.000000     48.000000   \n",
       "75%          7721.750000          1993.000000    1979.000000     63.000000   \n",
       "max         10296.000000         53784.000000    1998.000000     81.000000   \n",
       "\n",
       "       Age As Client   Claims Rate  Customer Monetary Value  \\\n",
       "count   10264.000000  10294.000000             10294.000000   \n",
       "mean       23.303585      0.742749               177.911891   \n",
       "std       511.300763      2.917246              1945.999819   \n",
       "min    -51768.000000      0.000000           -165680.420000   \n",
       "25%        23.000000      0.390000                -9.440000   \n",
       "50%        28.000000      0.720000               187.035000   \n",
       "75%        34.000000      0.980000               399.832500   \n",
       "max        42.000000    256.200000             11875.890000   \n",
       "\n",
       "       Geographic Living Area  Gross Monthly Salary  Has Children (Y=1)  \\\n",
       "count            10293.000000          10258.000000        10273.000000   \n",
       "mean                 2.709900           2506.682199            0.706804   \n",
       "std                  1.266238           1157.548422            0.455250   \n",
       "min                  1.000000            333.000000            0.000000   \n",
       "25%                  1.000000           1706.000000            0.000000   \n",
       "50%                  3.000000           2501.500000            1.000000   \n",
       "75%                  4.000000           3290.750000            1.000000   \n",
       "max                  4.000000          55215.000000            1.000000   \n",
       "\n",
       "       Premiums in LOB:  Life  Premiums in LOB: Health  \\\n",
       "count            10190.000000             10251.000000   \n",
       "mean                41.858217               171.569492   \n",
       "std                 47.483404               296.428977   \n",
       "min                 -7.000000                -2.110000   \n",
       "25%                  9.890000               111.800000   \n",
       "50%                 25.560000               162.810000   \n",
       "75%                 57.790000               219.430000   \n",
       "max                398.300000             28272.000000   \n",
       "\n",
       "       Premiums in LOB: Household  Premiums in LOB: Motor  \\\n",
       "count                10294.000000            10260.000000   \n",
       "mean                   210.431810              300.474373   \n",
       "std                    352.630178              211.925148   \n",
       "min                    -75.000000               -4.110000   \n",
       "25%                     49.450000              190.590000   \n",
       "50%                    132.800000              298.610000   \n",
       "75%                    290.050000              408.300000   \n",
       "max                  25048.800000            11604.420000   \n",
       "\n",
       "       Premiums in LOB: Work Compensations  \n",
       "count                         10208.000000  \n",
       "mean                             41.279712  \n",
       "std                              51.518302  \n",
       "min                             -12.000000  \n",
       "25%                              10.670000  \n",
       "50%                              25.670000  \n",
       "75%                              56.790000  \n",
       "max                            1988.700000  "
      ]
     },
     "execution_count": 108,
     "metadata": {},
     "output_type": "execute_result"
    }
   ],
   "source": [
    "df.describe()"
   ]
  },
  {
   "cell_type": "code",
   "execution_count": 109,
   "metadata": {},
   "outputs": [
    {
     "name": "stdout",
     "output_type": "stream",
     "text": [
      "0    4.0\n",
      "dtype: float64\n"
     ]
    },
    {
     "data": {
      "text/plain": [
       "0"
      ]
     },
     "execution_count": 109,
     "metadata": {},
     "output_type": "execute_result"
    }
   ],
   "source": [
    "#Replacing the NaN values of Living Area column with the mode.\n",
    "\n",
    "mode_geo = df['Geographic Living Area'].mode()\n",
    "print(mode_geo)\n",
    "\n",
    "df['Geographic Living Area'] = df['Geographic Living Area'].fillna(4.0)\n",
    "\n",
    "df['Geographic Living Area'].isnull().sum()"
   ]
  },
  {
   "cell_type": "code",
   "execution_count": 110,
   "metadata": {},
   "outputs": [
    {
     "data": {
      "text/plain": [
       "Educational Degree\n",
       "1 - Basic          1704.0\n",
       "2 - High School    2503.0\n",
       "3 - BSc/MSc        2615.0\n",
       "4 - PhD            2645.0\n",
       "Name: Gross Monthly Salary, dtype: float64"
      ]
     },
     "execution_count": 110,
     "metadata": {},
     "output_type": "execute_result"
    }
   ],
   "source": [
    "df_edu = df[['Educational Degree', 'Gross Monthly Salary']]\n",
    "#df_edu\n",
    "\n",
    "df_not_nan = df_edu[df_edu.notna().any(axis = 1)]\n",
    "\n",
    "df_notNA_grouped = df_not_nan.groupby(['Educational Degree'])['Gross Monthly Salary'].median()\n",
    "df_notNA_grouped"
   ]
  },
  {
   "cell_type": "code",
   "execution_count": 111,
   "metadata": {},
   "outputs": [
    {
     "data": {
      "text/plain": [
       "Customer Identity                         897\n",
       "First Policy´s Year                       NaN\n",
       "Brithday Year                            1960\n",
       "Age                                        56\n",
       "Age As Client                             NaN\n",
       "Claims Rate                                 1\n",
       "Customer Monetary Value                   -25\n",
       "Educational Degree                        NaN\n",
       "Geographic Living Area                      1\n",
       "Gross Monthly Salary                     2643\n",
       "Has Children (Y=1)                          1\n",
       "Premiums in LOB:  Life                  12.89\n",
       "Premiums in LOB: Health                 47.01\n",
       "Premiums in LOB: Household               33.9\n",
       "Premiums in LOB: Motor                 515.54\n",
       "Premiums in LOB: Work Compensations      3.78\n",
       "Name: 896, dtype: object"
      ]
     },
     "execution_count": 111,
     "metadata": {},
     "output_type": "execute_result"
    }
   ],
   "source": [
    "df.loc[896]"
   ]
  },
  {
   "cell_type": "code",
   "execution_count": 112,
   "metadata": {},
   "outputs": [
    {
     "data": {
      "text/plain": [
       "1"
      ]
     },
     "execution_count": 112,
     "metadata": {},
     "output_type": "execute_result"
    }
   ],
   "source": [
    "#Replacing the NaN values of Educational Degree column based on the mean of gross salary of which level of education.\n",
    "\n",
    "df.loc[896,'Educational Degree'] = '3 - BSc/MSc'\n",
    "\n",
    "df.loc[1707,'Educational Degree'] = '4 - PhD'\n",
    "\n",
    "df.loc[2449,'Educational Degree'] = '4 - PhD'\n",
    "\n",
    "df.loc[2728,'Educational Degree'] = '4 - PhD'\n",
    "\n",
    "df.loc[2770,'Educational Degree'] = '1 - Basic'\n",
    "\n",
    "df.loc[3056,'Educational Degree'] = '2 - High School'\n",
    "\n",
    "df.loc[4423,'Educational Degree'] = '4 - PhD'\n",
    "\n",
    "df.loc[6535,'Educational Degree'] = '2 - High School'\n",
    "\n",
    "df.loc[7321,'Educational Degree'] = '4 - PhD'\n",
    "\n",
    "df.loc[7470,'Educational Degree'] = '4 - PhD'\n",
    "\n",
    "df.loc[8081,'Educational Degree'] = '4 - PhD'\n",
    "\n",
    "df.loc[8173,'Educational Degree'] = '4 - PhD'\n",
    "\n",
    "df.loc[8303,'Educational Degree'] = '4 - PhD'\n",
    "\n",
    "df.loc[9136,'Educational Degree'] = '1 - Basic'\n",
    "\n",
    "df.loc[9136,'Educational Degree'] = '1 - Basic'\n",
    "\n",
    "df.loc[9312,'Educational Degree'] = '2 - High School'\n",
    "\n",
    "df.loc[9610,'Educational Degree'] = '4 - PhD'\n",
    "\n",
    "df['Educational Degree'].isnull().sum()"
   ]
  },
  {
   "cell_type": "code",
   "execution_count": 113,
   "metadata": {},
   "outputs": [
    {
     "data": {
      "text/html": [
       "<div>\n",
       "<style scoped>\n",
       "    .dataframe tbody tr th:only-of-type {\n",
       "        vertical-align: middle;\n",
       "    }\n",
       "\n",
       "    .dataframe tbody tr th {\n",
       "        vertical-align: top;\n",
       "    }\n",
       "\n",
       "    .dataframe thead th {\n",
       "        text-align: right;\n",
       "    }\n",
       "</style>\n",
       "<table border=\"1\" class=\"dataframe\">\n",
       "  <thead>\n",
       "    <tr style=\"text-align: right;\">\n",
       "      <th></th>\n",
       "      <th>Customer Identity</th>\n",
       "      <th>First Policy´s Year</th>\n",
       "      <th>Brithday Year</th>\n",
       "      <th>Age</th>\n",
       "      <th>Age As Client</th>\n",
       "      <th>Claims Rate</th>\n",
       "      <th>Customer Monetary Value</th>\n",
       "      <th>Educational Degree</th>\n",
       "      <th>Geographic Living Area</th>\n",
       "      <th>Gross Monthly Salary</th>\n",
       "      <th>Has Children (Y=1)</th>\n",
       "      <th>Premiums in LOB:  Life</th>\n",
       "      <th>Premiums in LOB: Health</th>\n",
       "      <th>Premiums in LOB: Household</th>\n",
       "      <th>Premiums in LOB: Motor</th>\n",
       "      <th>Premiums in LOB: Work Compensations</th>\n",
       "    </tr>\n",
       "  </thead>\n",
       "  <tbody>\n",
       "    <tr>\n",
       "      <th>0</th>\n",
       "      <td>1</td>\n",
       "      <td>1985.0</td>\n",
       "      <td>1982.0</td>\n",
       "      <td>34.0</td>\n",
       "      <td>31.0</td>\n",
       "      <td>0.39</td>\n",
       "      <td>380.97</td>\n",
       "      <td>2 - High School</td>\n",
       "      <td>1.0</td>\n",
       "      <td>2177.0</td>\n",
       "      <td>1.0</td>\n",
       "      <td>47.01</td>\n",
       "      <td>146.36</td>\n",
       "      <td>79.45</td>\n",
       "      <td>375.85</td>\n",
       "      <td>16.89</td>\n",
       "    </tr>\n",
       "    <tr>\n",
       "      <th>1</th>\n",
       "      <td>2</td>\n",
       "      <td>1995.0</td>\n",
       "      <td>1981.0</td>\n",
       "      <td>35.0</td>\n",
       "      <td>21.0</td>\n",
       "      <td>1.12</td>\n",
       "      <td>-131.13</td>\n",
       "      <td>2 - High School</td>\n",
       "      <td>4.0</td>\n",
       "      <td>677.0</td>\n",
       "      <td>1.0</td>\n",
       "      <td>194.48</td>\n",
       "      <td>116.69</td>\n",
       "      <td>416.20</td>\n",
       "      <td>77.46</td>\n",
       "      <td>106.13</td>\n",
       "    </tr>\n",
       "    <tr>\n",
       "      <th>2</th>\n",
       "      <td>3</td>\n",
       "      <td>1991.0</td>\n",
       "      <td>1970.0</td>\n",
       "      <td>46.0</td>\n",
       "      <td>25.0</td>\n",
       "      <td>0.28</td>\n",
       "      <td>504.67</td>\n",
       "      <td>1 - Basic</td>\n",
       "      <td>3.0</td>\n",
       "      <td>2277.0</td>\n",
       "      <td>0.0</td>\n",
       "      <td>86.35</td>\n",
       "      <td>124.58</td>\n",
       "      <td>224.50</td>\n",
       "      <td>206.15</td>\n",
       "      <td>99.02</td>\n",
       "    </tr>\n",
       "    <tr>\n",
       "      <th>3</th>\n",
       "      <td>4</td>\n",
       "      <td>1990.0</td>\n",
       "      <td>1981.0</td>\n",
       "      <td>35.0</td>\n",
       "      <td>26.0</td>\n",
       "      <td>0.99</td>\n",
       "      <td>-16.99</td>\n",
       "      <td>3 - BSc/MSc</td>\n",
       "      <td>4.0</td>\n",
       "      <td>1099.0</td>\n",
       "      <td>1.0</td>\n",
       "      <td>35.34</td>\n",
       "      <td>311.17</td>\n",
       "      <td>43.35</td>\n",
       "      <td>182.48</td>\n",
       "      <td>28.34</td>\n",
       "    </tr>\n",
       "    <tr>\n",
       "      <th>4</th>\n",
       "      <td>5</td>\n",
       "      <td>1986.0</td>\n",
       "      <td>1973.0</td>\n",
       "      <td>43.0</td>\n",
       "      <td>30.0</td>\n",
       "      <td>0.90</td>\n",
       "      <td>35.23</td>\n",
       "      <td>3 - BSc/MSc</td>\n",
       "      <td>4.0</td>\n",
       "      <td>1763.0</td>\n",
       "      <td>1.0</td>\n",
       "      <td>18.78</td>\n",
       "      <td>182.59</td>\n",
       "      <td>47.80</td>\n",
       "      <td>338.62</td>\n",
       "      <td>41.45</td>\n",
       "    </tr>\n",
       "  </tbody>\n",
       "</table>\n",
       "</div>"
      ],
      "text/plain": [
       "   Customer Identity  First Policy´s Year  Brithday Year   Age  Age As Client  \\\n",
       "0                  1               1985.0         1982.0  34.0           31.0   \n",
       "1                  2               1995.0         1981.0  35.0           21.0   \n",
       "2                  3               1991.0         1970.0  46.0           25.0   \n",
       "3                  4               1990.0         1981.0  35.0           26.0   \n",
       "4                  5               1986.0         1973.0  43.0           30.0   \n",
       "\n",
       "   Claims Rate  Customer Monetary Value Educational Degree  \\\n",
       "0         0.39                   380.97    2 - High School   \n",
       "1         1.12                  -131.13    2 - High School   \n",
       "2         0.28                   504.67          1 - Basic   \n",
       "3         0.99                   -16.99        3 - BSc/MSc   \n",
       "4         0.90                    35.23        3 - BSc/MSc   \n",
       "\n",
       "   Geographic Living Area  Gross Monthly Salary  Has Children (Y=1)  \\\n",
       "0                     1.0                2177.0                 1.0   \n",
       "1                     4.0                 677.0                 1.0   \n",
       "2                     3.0                2277.0                 0.0   \n",
       "3                     4.0                1099.0                 1.0   \n",
       "4                     4.0                1763.0                 1.0   \n",
       "\n",
       "   Premiums in LOB:  Life  Premiums in LOB: Health  \\\n",
       "0                   47.01                   146.36   \n",
       "1                  194.48                   116.69   \n",
       "2                   86.35                   124.58   \n",
       "3                   35.34                   311.17   \n",
       "4                   18.78                   182.59   \n",
       "\n",
       "   Premiums in LOB: Household  Premiums in LOB: Motor  \\\n",
       "0                       79.45                  375.85   \n",
       "1                      416.20                   77.46   \n",
       "2                      224.50                  206.15   \n",
       "3                       43.35                  182.48   \n",
       "4                       47.80                  338.62   \n",
       "\n",
       "   Premiums in LOB: Work Compensations  \n",
       "0                                16.89  \n",
       "1                               106.13  \n",
       "2                                99.02  \n",
       "3                                28.34  \n",
       "4                                41.45  "
      ]
     },
     "execution_count": 113,
     "metadata": {},
     "output_type": "execute_result"
    }
   ],
   "source": [
    "df.head()"
   ]
  },
  {
   "cell_type": "code",
   "execution_count": null,
   "metadata": {},
   "outputs": [],
   "source": []
  }
 ],
 "metadata": {
  "kernelspec": {
   "display_name": "Python 3",
   "language": "python",
   "name": "python3"
  },
  "language_info": {
   "codemirror_mode": {
    "name": "ipython",
    "version": 3
   },
   "file_extension": ".py",
   "mimetype": "text/x-python",
   "name": "python",
   "nbconvert_exporter": "python",
   "pygments_lexer": "ipython3",
   "version": "3.7.3"
  }
 },
 "nbformat": 4,
 "nbformat_minor": 4
}
