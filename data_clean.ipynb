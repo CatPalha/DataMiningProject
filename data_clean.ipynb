{
 "cells": [
  {
   "cell_type": "markdown",
   "metadata": {},
   "source": [
    "# DATA CLEANING #"
   ]
  },
  {
   "cell_type": "markdown",
   "metadata": {},
   "source": [
    "**1) Removing NaN values***"
   ]
  },
  {
   "cell_type": "code",
   "execution_count": 2,
   "metadata": {},
   "outputs": [],
   "source": [
    "import pandas as pd \n",
    "\n",
    "df = pd.read_csv('A2Z_insurance.csv')"
   ]
  },
  {
   "cell_type": "code",
   "execution_count": 3,
   "metadata": {},
   "outputs": [
    {
     "name": "stdout",
     "output_type": "stream",
     "text": [
      "Int64Index([7195], dtype='int64')\n",
      "Int64Index([9294], dtype='int64')\n"
     ]
    }
   ],
   "source": [
    "#Removing the guy from the future and the one with 965y.\n",
    "\n",
    "print(df[df['Brithday Year'] == 1028.0].index) #Index 7197\n",
    "print(df[df['First Policy´s Year'] == 53784].index) #Index 9294\n",
    "\n",
    "df = df.drop([df.index[7195], df.index[9294]])"
   ]
  },
  {
   "cell_type": "code",
   "execution_count": 4,
   "metadata": {},
   "outputs": [
    {
     "name": "stdout",
     "output_type": "stream",
     "text": [
      "0    4.0\n",
      "dtype: float64\n"
     ]
    },
    {
     "data": {
      "text/plain": [
       "0"
      ]
     },
     "execution_count": 4,
     "metadata": {},
     "output_type": "execute_result"
    }
   ],
   "source": [
    "#Replacing the NaN values of Living Area column with the mode.\n",
    "\n",
    "mode_geo = df['Geographic Living Area'].mode()\n",
    "print(mode_geo)\n",
    "\n",
    "df['Geographic Living Area'] = df['Geographic Living Area'].fillna(4.0) #Porque é que não funciona com o mode_geo ???\n",
    "\n",
    "df['Geographic Living Area'].isnull().sum()"
   ]
  },
  {
   "cell_type": "code",
   "execution_count": 5,
   "metadata": {},
   "outputs": [
    {
     "data": {
      "text/plain": [
       "Educational Degree\n",
       "1 - Basic          1981.905213\n",
       "2 - High School    2512.059395\n",
       "3 - BSc/MSc        2616.703370\n",
       "4 - PhD            2664.512195\n",
       "Name: Gross Monthly Salary, dtype: float64"
      ]
     },
     "execution_count": 5,
     "metadata": {},
     "output_type": "execute_result"
    }
   ],
   "source": [
    "df_edu = df[['Educational Degree', 'Gross Monthly Salary']]\n",
    "#df_edu\n",
    "\n",
    "df_not_nan = df_edu[df_edu.notna().any(axis = 1)]\n",
    "\n",
    "df_notNA_grouped = df_not_nan.groupby(['Educational Degree'])['Gross Monthly Salary'].mean()\n",
    "df_notNA_grouped"
   ]
  },
  {
   "cell_type": "code",
   "execution_count": 6,
   "metadata": {},
   "outputs": [
    {
     "data": {
      "text/plain": [
       "1"
      ]
     },
     "execution_count": 6,
     "metadata": {},
     "output_type": "execute_result"
    }
   ],
   "source": [
    "#Replacing the NaN values of Educational Degree column based on the mean of gross salary of which level of education.\n",
    "\n",
    "df.loc[896,'Educational Degree'] = '3 - BSc/MSc'\n",
    "\n",
    "df.loc[1707,'Educational Degree'] = '4 - PhD'\n",
    "\n",
    "df.loc[2449,'Educational Degree'] = '4 - PhD'\n",
    "\n",
    "df.loc[2728,'Educational Degree'] = '4 - PhD'\n",
    "\n",
    "df.loc[2770,'Educational Degree'] = '1 - Basic'\n",
    "\n",
    "df.loc[3056,'Educational Degree'] = '2 - High School'\n",
    "\n",
    "df.loc[4423,'Educational Degree'] = '4 - PhD'\n",
    "\n",
    "df.loc[6535,'Educational Degree'] = '2 - High School'\n",
    "\n",
    "df.loc[7321,'Educational Degree'] = '4 - PhD'\n",
    "\n",
    "df.loc[7470,'Educational Degree'] = '4 - PhD'\n",
    "\n",
    "df.loc[8081,'Educational Degree'] = '4 - PhD'\n",
    "\n",
    "df.loc[8173,'Educational Degree'] = '4 - PhD'\n",
    "\n",
    "df.loc[8303,'Educational Degree'] = '4 - PhD'\n",
    "\n",
    "df.loc[9136,'Educational Degree'] = '1 - Basic'\n",
    "\n",
    "df.loc[9136,'Educational Degree'] = '1 - Basic'\n",
    "\n",
    "df.loc[9312,'Educational Degree'] = '2 - High School'\n",
    "\n",
    "df.loc[9610,'Educational Degree'] = '4 - PhD'\n",
    "\n",
    "df['Educational Degree'].isnull().sum()"
   ]
  },
  {
   "cell_type": "code",
   "execution_count": null,
   "metadata": {},
   "outputs": [],
   "source": [
    "    "
   ]
  }
 ],
 "metadata": {
  "kernelspec": {
   "display_name": "Python 3",
   "language": "python",
   "name": "python3"
  },
  "language_info": {
   "codemirror_mode": {
    "name": "ipython",
    "version": 3
   },
   "file_extension": ".py",
   "mimetype": "text/x-python",
   "name": "python",
   "nbconvert_exporter": "python",
   "pygments_lexer": "ipython3",
   "version": "3.7.3"
  }
 },
 "nbformat": 4,
 "nbformat_minor": 4
}
